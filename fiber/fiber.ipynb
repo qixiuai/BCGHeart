{
 "cells": [
  {
   "cell_type": "code",
   "execution_count": 5,
   "metadata": {},
   "outputs": [],
   "source": [
    "import edfplus\n",
    "import numpy as np\n",
    "import plotly.graph_objs as go\n",
    "from plotly.offline import plot"
   ]
  },
  {
   "cell_type": "code",
   "execution_count": 6,
   "metadata": {},
   "outputs": [],
   "source": [
    "%load_ext autoreload\n",
    "%autoreload 2"
   ]
  },
  {
   "cell_type": "markdown",
   "metadata": {},
   "source": [
    "# BCG"
   ]
  },
  {
   "cell_type": "code",
   "execution_count": 75,
   "metadata": {},
   "outputs": [],
   "source": [
    "bcg_path = \"/home/guo/physio/BCG_data/bcg_ecg_data/bcg_ecg_data(-bcg_wave500HZ)/zyh_bcg_wave(500HZ)(05-10 132226).txt\""
   ]
  },
  {
   "cell_type": "code",
   "execution_count": 87,
   "metadata": {},
   "outputs": [],
   "source": [
    "import bcg\n",
    "zyh = bcg.load_bcg(bcg_path, offset=300000 - 14583-2-16)\n",
    "zyh_ecg_path = \"/home/guo/physio/BCG_data/bcg_ecg_data/bcg_ecg_data(-bcg_wave500HZ)/zyh_ecg.edf\"\n",
    "zyh_ecg = fs.load_ecg(zyh_ecg_path)\n",
    "zyh_ecg = zyh_ecg / 10"
   ]
  },
  {
   "cell_type": "code",
   "execution_count": 91,
   "metadata": {},
   "outputs": [
    {
     "data": {
      "text/plain": [
       "'file:///home/guo/Github/BCGHeart/optical_fiber/temp-plot.html'"
      ]
     },
     "execution_count": 91,
     "metadata": {},
     "output_type": "execute_result"
    }
   ],
   "source": [
    "plot([go.Scatter(y=zyh, name=\"bcg\"),go.Scatter(y=zyh_ecg, name=\"ecg\"),go.Scatter(y=np.abs(np.diff(zyh))*10,name=\"diff_abs\")])"
   ]
  },
  {
   "cell_type": "code",
   "execution_count": 64,
   "metadata": {},
   "outputs": [],
   "source": [
    "edf_path = \"/home/guo/physio/BCG_data/fiber/111_zyh_m_1_152406_SD.edf\""
   ]
  },
  {
   "cell_type": "code",
   "execution_count": 65,
   "metadata": {},
   "outputs": [],
   "source": [
    "edf = edfplus.Edfplus(edf_path)"
   ]
  },
  {
   "cell_type": "code",
   "execution_count": 66,
   "metadata": {},
   "outputs": [
    {
     "data": {
      "text/plain": [
       "['SpO2 finger',\n",
       " 'PRate finger',\n",
       " 'Event light',\n",
       " 'Event pose',\n",
       " 'Event BAction',\n",
       " 'Resp chest',\n",
       " 'Resp abdomen',\n",
       " 'Events leg-R',\n",
       " 'Events leg-L',\n",
       " 'Resp temp',\n",
       " 'Resp pressure',\n",
       " 'EOG E2-M2',\n",
       " 'EOG E1-M2',\n",
       " 'EEG F3-M2',\n",
       " 'EEG C3-M2',\n",
       " 'EEG O1-M2',\n",
       " 'EEG F4-M1',\n",
       " 'EEG C4-M1',\n",
       " 'EEG O2-M1',\n",
       " 'ECG LL-RA',\n",
       " 'EMG+ - EMG-',\n",
       " 'Sound trachea']"
      ]
     },
     "execution_count": 66,
     "metadata": {},
     "output_type": "execute_result"
    }
   ],
   "source": [
    "[name for name in edf.signal_names]"
   ]
  },
  {
   "cell_type": "code",
   "execution_count": 32,
   "metadata": {},
   "outputs": [],
   "source": [
    "def detrend_linear(signal, kernel_size=500*3):\n",
    "    ret = []\n",
    "    num_samples = len(signal)\n",
    "    half_kernel_size = int(kernel_size/2)\n",
    "    for ind in range(half_kernel_size, num_samples-half_kernel_size):\n",
    "        mean = np.median(signal[ind-half_kernel_size:ind+half_kernel_size])\n",
    "        new_sample = signal[ind] - mean\n",
    "        ret.append(new_sample)\n",
    "    return ret"
   ]
  },
  {
   "cell_type": "code",
   "execution_count": 73,
   "metadata": {},
   "outputs": [],
   "source": [
    "fiber = edf.signals['EEG F4-M1']\n",
    "start = 220000\n",
    "end = start + 10000000000\n",
    "fiber = fiber[start:end]"
   ]
  },
  {
   "cell_type": "code",
   "execution_count": 15,
   "metadata": {},
   "outputs": [
    {
     "name": "stderr",
     "output_type": "stream",
     "text": [
      "/home/guo/anaconda3/lib/python3.6/site-packages/scipy/signal/signaltools.py:2383: FutureWarning:\n",
      "\n",
      "Using a non-tuple sequence for multidimensional indexing is deprecated; use `arr[tuple(seq)]` instead of `arr[seq]`. In the future this will be interpreted as an array index, `arr[np.array(seq)]`, which will result either in an error or a different result.\n",
      "\n"
     ]
    },
    {
     "ename": "NameError",
     "evalue": "name 'notch_filter' is not defined",
     "output_type": "error",
     "traceback": [
      "\u001b[0;31m---------------------------------------------------------------------------\u001b[0m",
      "\u001b[0;31mNameError\u001b[0m                                 Traceback (most recent call last)",
      "\u001b[0;32m<ipython-input-15-95973e8866bc>\u001b[0m in \u001b[0;36m<module>\u001b[0;34m()\u001b[0m\n\u001b[1;32m      1\u001b[0m \u001b[0mabdomen\u001b[0m \u001b[0;34m=\u001b[0m \u001b[0medf\u001b[0m\u001b[0;34m.\u001b[0m\u001b[0msignals\u001b[0m\u001b[0;34m[\u001b[0m\u001b[0;34m'Resp abdomen'\u001b[0m\u001b[0;34m]\u001b[0m\u001b[0;34m\u001b[0m\u001b[0;34m\u001b[0m\u001b[0m\n\u001b[1;32m      2\u001b[0m \u001b[0mabd\u001b[0m \u001b[0;34m=\u001b[0m \u001b[0mresample_poly\u001b[0m\u001b[0;34m(\u001b[0m\u001b[0mabdomen\u001b[0m\u001b[0;34m,\u001b[0m \u001b[0;36m5\u001b[0m\u001b[0;34m,\u001b[0m\u001b[0;36m1\u001b[0m\u001b[0;34m)\u001b[0m\u001b[0;34m\u001b[0m\u001b[0;34m\u001b[0m\u001b[0m\n\u001b[0;32m----> 3\u001b[0;31m \u001b[0mabd\u001b[0m \u001b[0;34m=\u001b[0m \u001b[0mnotch_filter\u001b[0m\u001b[0;34m(\u001b[0m\u001b[0mabd\u001b[0m\u001b[0;34m)\u001b[0m\u001b[0;34m*\u001b[0m\u001b[0;36m10\u001b[0m\u001b[0;34m\u001b[0m\u001b[0;34m\u001b[0m\u001b[0m\n\u001b[0m",
      "\u001b[0;31mNameError\u001b[0m: name 'notch_filter' is not defined"
     ]
    }
   ],
   "source": [
    "abdomen = edf.signals['Resp abdomen']\n",
    "abd = resample_poly(abdomen, 5,1)\n",
    "abd = notch_filter(abd)*10"
   ]
  },
  {
   "cell_type": "code",
   "execution_count": 86,
   "metadata": {},
   "outputs": [
    {
     "data": {
      "text/plain": [
       "'file:///home/guo/Github/BCGHeart/optical_fiber/temp-plot.html'"
      ]
     },
     "execution_count": 86,
     "metadata": {},
     "output_type": "execute_result"
    }
   ],
   "source": [
    "plot([go.Scatter(y=-lowpass_filter(notch_filter(fiber)),name=\"raw fiber\"),\n",
    "     go.Scatter(y=abd[start:end], name=\"psg adomen\")])"
   ]
  },
  {
   "cell_type": "code",
   "execution_count": 89,
   "metadata": {},
   "outputs": [
    {
     "data": {
      "text/plain": [
       "'file:///home/guo/Github/BCGHeart/optical_fiber/temp-plot.html'"
      ]
     },
     "execution_count": 89,
     "metadata": {},
     "output_type": "execute_result"
    }
   ],
   "source": [
    "heart = bandpass_filter(notch_filter(fiber))\n",
    "diff_abs = np.abs(np.diff(heart))*10\n",
    "plot([go.Scatter(y=heart),\n",
    "      go.Scatter(y=diff_abs, name=\"diff_abs\"),\n",
    "     go.Scatter(y=ecg[start-70:end]*5, name=\"ecg\")])"
   ]
  },
  {
   "cell_type": "code",
   "execution_count": 99,
   "metadata": {},
   "outputs": [
    {
     "data": {
      "text/plain": [
       "'file:///home/guo/Github/BCGHeart/optical_fiber/temp-plot.html'"
      ]
     },
     "execution_count": 99,
     "metadata": {},
     "output_type": "execute_result"
    }
   ],
   "source": [
    "plot([go.Scatter(y=highpass_filter(lowpass_filter(fiber, cut_freq=30)))])"
   ]
  },
  {
   "cell_type": "code",
   "execution_count": 117,
   "metadata": {},
   "outputs": [
    {
     "data": {
      "text/plain": [
       "'file:///home/guo/Github/BCGHeart/optical_fiber/temp-plot.html'"
      ]
     },
     "execution_count": 117,
     "metadata": {},
     "output_type": "execute_result"
    }
   ],
   "source": [
    "heart = highpass_filter(lowpass_filter(notch_filter(fiber), cut_freq=30))\n",
    "plot([go.Scatter(y=heart[1:])])"
   ]
  },
  {
   "cell_type": "code",
   "execution_count": 34,
   "metadata": {},
   "outputs": [],
   "source": [
    "heart = bandpass_filter(notch_filter(fiber))"
   ]
  },
  {
   "cell_type": "code",
   "execution_count": 38,
   "metadata": {},
   "outputs": [
    {
     "data": {
      "text/plain": [
       "'file:///home/guo/Github/BCGHeart/optical_fiber/temp-plot.html'"
      ]
     },
     "execution_count": 38,
     "metadata": {},
     "output_type": "execute_result"
    }
   ],
   "source": [
    "start = 1000\n",
    "end = start + 1500\n",
    "plot([go.Scatter(y=heart[start:end])])"
   ]
  },
  {
   "cell_type": "code",
   "execution_count": 57,
   "metadata": {},
   "outputs": [
    {
     "data": {
      "image/png": "[encoded data removed]",
      "text/plain": [
       "<Figure size 432x288 with 1 Axes>"
      ]
     },
     "metadata": {},
     "output_type": "display_data"
    }
   ],
   "source": [
    "import matplotlib.pyplot as plt\n",
    "t = np.arange(256)\n",
    "t = t[:20]\n",
    "sp = np.fft.fft(np.sin(t))\n",
    "freq = np.fft.fftfreq(t.shape[-1])\n",
    "plt.plot(freq, sp.real, freq, sp.imag)\n",
    "plt.show()"
   ]
  },
  {
   "cell_type": "code",
   "execution_count": 58,
   "metadata": {},
   "outputs": [
    {
     "data": {
      "text/plain": [
       "'file:///home/guo/Github/BCGHeart/optical_fiber/temp-plot.html'"
      ]
     },
     "execution_count": 58,
     "metadata": {},
     "output_type": "execute_result"
    }
   ],
   "source": [
    "plot([go.Scatter(x=freq, y=sp.real)])\n",
    "#plot([go.Scatter(x=freq, y=sp.imag)])\n",
    "#plot([go.Scatter(y=np.sin(t))])"
   ]
  },
  {
   "cell_type": "code",
   "execution_count": 59,
   "metadata": {},
   "outputs": [
    {
     "data": {
      "text/plain": [
       "'file:///home/guo/Github/BCGHeart/optical_fiber/temp-plot.html'"
      ]
     },
     "execution_count": 59,
     "metadata": {},
     "output_type": "execute_result"
    }
   ],
   "source": [
    "plot([go.Scatter(y=np.sin(t))])"
   ]
  },
  {
   "cell_type": "code",
   "execution_count": null,
   "metadata": {},
   "outputs": [],
   "source": []
  },
  {
   "cell_type": "code",
   "execution_count": 63,
   "metadata": {},
   "outputs": [
    {
     "name": "stderr",
     "output_type": "stream",
     "text": [
      "/home/guo/anaconda3/lib/python3.6/site-packages/plotly/matplotlylib/mpltools.py:368: MatplotlibDeprecationWarning:\n",
      "\n",
      "\n",
      "The is_frame_like function was deprecated in Matplotlib 3.1 and will be removed in 3.3.\n",
      "\n"
     ]
    }
   ],
   "source": [
    "import matplotlib.pyplot as plt\n",
    "import plotly.plotly as py\n",
    "import numpy as np\n",
    "# Learn about API authentication here: https://plot.ly/python/getting-started\n",
    "# Find your api_key here: https://plot.ly/settings/api\n",
    "\n",
    "Fs = 150.0;  # sampling rate\n",
    "Ts = 1.0/Fs; # sampling interval\n",
    "t = np.arange(0,1,Ts) # time vector\n",
    "\n",
    "ff = 5;   # frequency of the signal\n",
    "y = np.sin(2*np.pi*ff*t)\n",
    "\n",
    "n = len(y) # length of the signal\n",
    "k = np.arange(n)\n",
    "T = n/Fs\n",
    "frq = k/T # two sides frequency range\n",
    "frq = frq[range(int(n/2))] # one side frequency range\n",
    "\n",
    "Y = np.fft.fft(y)/n # fft computing and normalization\n",
    "Y = Y[range(int(n/2))]\n",
    "\n",
    "fig, ax = plt.subplots(2, 1)\n",
    "ax[0].plot(t,y)\n",
    "ax[0].set_xlabel('Time')\n",
    "ax[0].set_ylabel('Amplitude')\n",
    "ax[1].plot(frq,abs(Y),'r') # plotting the spectrum\n",
    "ax[1].set_xlabel('Freq (Hz)')\n",
    "ax[1].set_ylabel('|Y(freq)|')\n",
    "\n",
    "plot_url = py.plot_mpl(fig, filename='mpl-basic-fft')"
   ]
  },
  {
   "cell_type": "markdown",
   "metadata": {},
   "source": [
    "# load ecg\n",
    "\n"
   ]
  },
  {
   "cell_type": "code",
   "execution_count": 16,
   "metadata": {},
   "outputs": [],
   "source": [
    "import fs\n",
    "from fs import load_ecg"
   ]
  },
  {
   "cell_type": "code",
   "execution_count": 17,
   "metadata": {},
   "outputs": [],
   "source": [
    "ecg = load_ecg(edf_path)"
   ]
  },
  {
   "cell_type": "code",
   "execution_count": 18,
   "metadata": {},
   "outputs": [
    {
     "data": {
      "text/plain": [
       "'file:///home/guo/Github/BCGHeart/optical_fiber/temp-plot.html'"
      ]
     },
     "execution_count": 18,
     "metadata": {},
     "output_type": "execute_result"
    }
   ],
   "source": [
    "plot([go.Scatter(y=ecg)])"
   ]
  },
  {
   "cell_type": "code",
   "execution_count": 41,
   "metadata": {},
   "outputs": [
    {
     "name": "stderr",
     "output_type": "stream",
     "text": [
      "/home/guo/anaconda3/lib/python3.6/site-packages/scipy/signal/signaltools.py:2383: FutureWarning:\n",
      "\n",
      "Using a non-tuple sequence for multidimensional indexing is deprecated; use `arr[tuple(seq)]` instead of `arr[seq]`. In the future this will be interpreted as an array index, `arr[np.array(seq)]`, which will result either in an error or a different result.\n",
      "\n"
     ]
    },
    {
     "data": {
      "text/plain": [
       "'file:///home/guo/Github/BCGHeart/optical_fiber/temp-plot.html'"
      ]
     },
     "execution_count": 41,
     "metadata": {},
     "output_type": "execute_result"
    }
   ],
   "source": [
    "fs = 500\n",
    "#secs = 120\n",
    "\n",
    "start = 1000000\n",
    "#start = 0\n",
    "end = start + 5000000\n",
    "\n",
    "plot([#go.Scatter(y=fiber[start:end],name=\"raw fiber\"),\n",
    "    go.Scatter(y=detrend_linear(lowpass_filter(fiber)[start:end]),name=\"lowpass\"),\n",
    "     go.Scatter(y=-abd[start:end], name=\"psg abdomen\")])"
   ]
  },
  {
   "cell_type": "code",
   "execution_count": null,
   "metadata": {},
   "outputs": [],
   "source": []
  },
  {
   "cell_type": "code",
   "execution_count": 20,
   "metadata": {},
   "outputs": [],
   "source": [
    "import filter\n",
    "from filter import bandpass_filter, notch_filter, lowpass_filter, bandpass_filter2, highpass_filter\n",
    "from scipy.signal import detrend"
   ]
  },
  {
   "cell_type": "code",
   "execution_count": 30,
   "metadata": {},
   "outputs": [],
   "source": [
    "heart = bandpass_filter(notch_filter(fiber))"
   ]
  },
  {
   "cell_type": "code",
   "execution_count": 31,
   "metadata": {},
   "outputs": [],
   "source": [
    "ecg = edf.signals['ECG LL-RA']\n",
    "ecg = notch_filter(ecg)"
   ]
  },
  {
   "cell_type": "code",
   "execution_count": 34,
   "metadata": {},
   "outputs": [
    {
     "data": {
      "text/plain": [
       "'temp-plot.html'"
      ]
     },
     "execution_count": 34,
     "metadata": {},
     "output_type": "execute_result"
    }
   ],
   "source": [
    "start = 1000000\n",
    "end = start + 500000\n",
    "plot([go.Scatter(y=heart[start:end]), go.Scatter(y=ecg[start:end]*10)])\n",
    "#plot([go.Scatter(y=heart[start:end])])"
   ]
  },
  {
   "cell_type": "code",
   "execution_count": 16,
   "metadata": {},
   "outputs": [
    {
     "data": {
      "text/plain": [
       "'temp-plot.html'"
      ]
     },
     "execution_count": 16,
     "metadata": {},
     "output_type": "execute_result"
    }
   ],
   "source": [
    "signal = medfilt(bandpass_filter2(notch_filter(fiber)), kernel_size=35)\n",
    "plot([go.Scatter(y=signal[start:end])])"
   ]
  },
  {
   "cell_type": "code",
   "execution_count": 38,
   "metadata": {},
   "outputs": [],
   "source": [
    "from scipy.signal import medfilt, resample_poly"
   ]
  },
  {
   "cell_type": "code",
   "execution_count": 44,
   "metadata": {},
   "outputs": [
    {
     "data": {
      "text/plain": [
       "'temp-plot.html'"
      ]
     },
     "execution_count": 44,
     "metadata": {},
     "output_type": "execute_result"
    }
   ],
   "source": [
    "abdomen = edf.signals['Resp abdomen']\n",
    "abd = resample_poly(abdomen, 5,1)\n",
    "abd = notch_filter(abd)*10\n",
    "plot([go.Scatter(y=lowpass_filter(notch_filter(fiber))),\n",
    "     go.Scatter(y=abd, name=\"abdomen\")])"
   ]
  },
  {
   "cell_type": "code",
   "execution_count": null,
   "metadata": {},
   "outputs": [],
   "source": []
  },
  {
   "cell_type": "markdown",
   "metadata": {},
   "source": [
    "### PSG from Desktop"
   ]
  },
  {
   "cell_type": "code",
   "execution_count": 5,
   "metadata": {},
   "outputs": [],
   "source": [
    "fiber_path=\"/home/guo/physio/BCG_data/fiber/2019-06-25/HeadElectricDiagram_6_B3012758.dat\"\n",
    "import pdb"
   ]
  },
  {
   "cell_type": "code",
   "execution_count": 11,
   "metadata": {},
   "outputs": [
    {
     "name": "stdout",
     "output_type": "stream",
     "text": [
      "b'\\xef\\xbb\\xbf4499691'\n",
      "b'\\xef\\xbb\\xbf'\n"
     ]
    }
   ],
   "source": [
    "with open(fiber_path, 'rb') as file:\n",
    "    raw = file.read()\n",
    "    print(raw[:10])\n",
    "    print(raw[:3])\n",
    "    raw = raw[3:]\n",
    "    #pdb.set_trace()\n",
    "    signal_raws = raw.decode('utf-8').split()\n",
    "    signal = list(map(float, map(lambda x:x.strip(), signal_raws)))"
   ]
  },
  {
   "cell_type": "code",
   "execution_count": 12,
   "metadata": {},
   "outputs": [
    {
     "data": {
      "text/plain": [
       "'file:///home/guo/Github/BCGHeart/optical_fiber/temp-plot.html'"
      ]
     },
     "execution_count": 12,
     "metadata": {},
     "output_type": "execute_result"
    }
   ],
   "source": [
    "plot([go.Scatter(y=signal[:100000])])"
   ]
  },
  {
   "cell_type": "code",
   "execution_count": 13,
   "metadata": {},
   "outputs": [],
   "source": [
    "fiber = signal"
   ]
  },
  {
   "cell_type": "code",
   "execution_count": null,
   "metadata": {},
   "outputs": [],
   "source": []
  }
 ],
 "metadata": {
  "kernelspec": {
   "display_name": "Python 3",
   "language": "python",
   "name": "python3"
  },
  "language_info": {
   "codemirror_mode": {
    "name": "ipython",
    "version": 3
   },
   "file_extension": ".py",
   "mimetype": "text/x-python",
   "name": "python",
   "nbconvert_exporter": "python",
   "pygments_lexer": "ipython3",
   "version": "3.6.8"
  }
 },
 "nbformat": 4,
 "nbformat_minor": 2
}
