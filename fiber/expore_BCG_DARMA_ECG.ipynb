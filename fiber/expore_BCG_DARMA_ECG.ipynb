{
 "cells": [
  {
   "cell_type": "code",
   "execution_count": 1,
   "metadata": {},
   "outputs": [],
   "source": [
    "from edfplus import Edfplus\n",
    "from bcg import load_bcg\n",
    "from fs import load_ecg"
   ]
  },
  {
   "cell_type": "code",
   "execution_count": 2,
   "metadata": {},
   "outputs": [],
   "source": [
    "import numpy as np\n",
    "from plotly.offline import plot\n",
    "import plotly.graph_objs as go"
   ]
  },
  {
   "cell_type": "code",
   "execution_count": 7,
   "metadata": {},
   "outputs": [],
   "source": [
    "data_dir = \"/home/guo/physio/BCG_data/bcg_ecg_data/fiber/Drama数据采集20190626/\""
   ]
  },
  {
   "cell_type": "code",
   "execution_count": null,
   "metadata": {},
   "outputs": [],
   "source": []
  },
  {
   "cell_type": "code",
   "execution_count": 8,
   "metadata": {},
   "outputs": [],
   "source": [
    "from autopeaks2 import FindPeaksMaster\n",
    "def findpeak_bcg(signal):\n",
    "    master = FindPeaksMaster()\n",
    "    list(map(master.findpeaks, signal))\n",
    "    return master.peak_indices, master.peak_values, master.peak_intervals\n",
    "def findpeak_ecg(signal):\n",
    "    pass"
   ]
  },
  {
   "cell_type": "code",
   "execution_count": 9,
   "metadata": {},
   "outputs": [
    {
     "name": "stdout",
     "output_type": "stream",
     "text": [
      "/home/guo/physio/BCG_data/bcg_ecg_data/fiber/Drama数据采集20190626/李昭欣/bcg_original_data[500HZ](06-26 141648] ).txt\n"
     ]
    },
    {
     "name": "stderr",
     "output_type": "stream",
     "text": [
      "/home/guo/anaconda3/lib/python3.6/site-packages/plotly/offline/offline.py:451: UserWarning:\n",
      "\n",
      "Your filename `李昭欣` didn't end with .html. Adding .html to the end of your file.\n",
      "\n",
      "/home/guo/anaconda3/lib/python3.6/site-packages/plotly/offline/offline.py:451: UserWarning:\n",
      "\n",
      "Your filename `李昭欣interval` didn't end with .html. Adding .html to the end of your file.\n",
      "\n"
     ]
    },
    {
     "ename": "IndexError",
     "evalue": "list index out of range",
     "output_type": "error",
     "traceback": [
      "\u001b[0;31m---------------------------------------------------------------------------\u001b[0m",
      "\u001b[0;31mIndexError\u001b[0m                                Traceback (most recent call last)",
      "\u001b[0;32m<ipython-input-9-e77316169a44>\u001b[0m in \u001b[0;36m<module>\u001b[0;34m()\u001b[0m\n\u001b[1;32m      9\u001b[0m         \u001b[0;32mcontinue\u001b[0m\u001b[0;34m\u001b[0m\u001b[0;34m\u001b[0m\u001b[0m\n\u001b[1;32m     10\u001b[0m     \u001b[0medf_path\u001b[0m \u001b[0;34m=\u001b[0m \u001b[0mglob\u001b[0m\u001b[0;34m(\u001b[0m\u001b[0msubject_path\u001b[0m\u001b[0;34m+\u001b[0m\u001b[0;34m\"/*.edf\"\u001b[0m\u001b[0;34m)\u001b[0m\u001b[0;34m[\u001b[0m\u001b[0;36m0\u001b[0m\u001b[0;34m]\u001b[0m\u001b[0;34m\u001b[0m\u001b[0;34m\u001b[0m\u001b[0m\n\u001b[0;32m---> 11\u001b[0;31m     \u001b[0mbcg_path\u001b[0m \u001b[0;34m=\u001b[0m \u001b[0mglob\u001b[0m\u001b[0;34m(\u001b[0m\u001b[0msubject_path\u001b[0m\u001b[0;34m+\u001b[0m\u001b[0;34m\"/*.txt\"\u001b[0m\u001b[0;34m)\u001b[0m\u001b[0;34m[\u001b[0m\u001b[0;36m0\u001b[0m\u001b[0;34m]\u001b[0m\u001b[0;34m\u001b[0m\u001b[0;34m\u001b[0m\u001b[0m\n\u001b[0m\u001b[1;32m     12\u001b[0m     \u001b[0mprint\u001b[0m\u001b[0;34m(\u001b[0m\u001b[0mbcg_path\u001b[0m\u001b[0;34m)\u001b[0m\u001b[0;34m\u001b[0m\u001b[0;34m\u001b[0m\u001b[0m\n\u001b[1;32m     13\u001b[0m     \u001b[0mbcg\u001b[0m \u001b[0;34m=\u001b[0m \u001b[0mload_bcg\u001b[0m\u001b[0;34m(\u001b[0m\u001b[0mbcg_path\u001b[0m\u001b[0;34m,\u001b[0m \u001b[0moffset\u001b[0m\u001b[0;34m=\u001b[0m\u001b[0;36m0\u001b[0m\u001b[0;34m)\u001b[0m\u001b[0;34m\u001b[0m\u001b[0;34m\u001b[0m\u001b[0m\n",
      "\u001b[0;31mIndexError\u001b[0m: list index out of range"
     ]
    }
   ],
   "source": [
    "import os\n",
    "import pdb\n",
    "import time\n",
    "from glob import glob\n",
    "from filter import bandpass_filter, notch_filter, lowpass_filter\n",
    "for subject_dir in os.listdir(data_dir):\n",
    "    subject_path = os.path.join(data_dir, subject_dir)\n",
    "    if not os.path.isdir(subject_path):\n",
    "        continue\n",
    "    edf_path = glob(subject_path+\"/*.edf\")[0]\n",
    "    bcg_path = glob(subject_path+\"/*.txt\")[0]\n",
    "    print(bcg_path)\n",
    "    bcg = load_bcg(bcg_path, offset=0)\n",
    "    edf = Edfplus(edf_path)\n",
    "    darma = edf.signals[\"EEG F4-M1\"]\n",
    "    darma_bcg = bandpass_filter(notch_filter(darma))\n",
    "    ecg = load_ecg(edf_path, resp=False)\n",
    "    start = 0\n",
    "    end = start + 100000000000\n",
    "    \n",
    "    darma_peak_indices, darma_peak_values, darma_peak_intervals = findpeak_bcg(darma_bcg)\n",
    "    bcg_peak_indices, bcg_peak_values, bcg_peak_intervals = findpeak_bcg(bcg)\n",
    "\n",
    "    #pdb.set_trace()\n",
    "    plot([go.Scatter(y=bcg[start:end], name=\"bcg\"),\n",
    "         go.Scatter(y=darma_bcg[start:end], name=\"darma_bcg\"),\n",
    "         go.Scatter(y=ecg[start:end],name=\"ecg\"),\n",
    "         go.Scatter(x=darma_peak_indices,y=darma_peak_values,mode=\"markers\", name=\"darma\"),\n",
    "         go.Scatter(x=bcg_peak_indices,y=bcg_peak_values,mode=\"markers\", name=\"bcg\"),\n",
    "         ],filename=subject_dir)\n",
    "    time.sleep(1)\n",
    "    plot([go.Scatter(x=darma_peak_indices[1:], \n",
    "                     y=darma_peak_intervals,\n",
    "                     mode=\"lines+markers\"),\n",
    "         go.Scatter(x=bcg_peak_indices[1:], \n",
    "                    y=bcg_peak_intervals,\n",
    "                    mode=\"lines+markers\")],\n",
    "         filename=subject_dir+\"interval\")"
   ]
  },
  {
   "cell_type": "code",
   "execution_count": 6,
   "metadata": {},
   "outputs": [
    {
     "data": {
      "text/plain": [
       "'/home/guo/physio/BCG_data/bcg_ecg_data/fiber/Drama数据采集20190627/'"
      ]
     },
     "execution_count": 6,
     "metadata": {},
     "output_type": "execute_result"
    }
   ],
   "source": [
    "data_dir"
   ]
  },
  {
   "cell_type": "code",
   "execution_count": 45,
   "metadata": {},
   "outputs": [
    {
     "data": {
      "text/plain": [
       "'file:///home/guo/Github/BCGHeart/fiber/temp-plot.html'"
      ]
     },
     "execution_count": 45,
     "metadata": {},
     "output_type": "execute_result"
    }
   ],
   "source": [
    "darma_resp = lowpass_filter(notch_filter(darma))\n",
    "plot([go.Scatter(y=darma_resp)])"
   ]
  },
  {
   "cell_type": "code",
   "execution_count": 58,
   "metadata": {},
   "outputs": [
    {
     "data": {
      "text/plain": [
       "'file:///home/guo/Github/BCGHeart/fiber/temp-plot.html'"
      ]
     },
     "execution_count": 58,
     "metadata": {},
     "output_type": "execute_result"
    }
   ],
   "source": [
    "plot([go.Scatter(y=bandpass_filter(darma))])"
   ]
  },
  {
   "cell_type": "code",
   "execution_count": 55,
   "metadata": {},
   "outputs": [
    {
     "name": "stderr",
     "output_type": "stream",
     "text": [
      "/home/guo/anaconda3/lib/python3.6/site-packages/plotly/offline/offline.py:451: UserWarning:\n",
      "\n",
      "Your filename `李昭欣` didn't end with .html. Adding .html to the end of your file.\n",
      "\n"
     ]
    },
    {
     "data": {
      "text/plain": [
       "'file:///home/guo/Github/BCGHeart/fiber/李昭欣.html'"
      ]
     },
     "execution_count": 55,
     "metadata": {},
     "output_type": "execute_result"
    }
   ],
   "source": [
    "    plot([go.Scatter(y=bcg[start:end], name=\"bcg\"),\n",
    "         go.Scatter(y=-darma_bcg[start:end], name=\"darma_bcg\"),\n",
    "         go.Scatter(y=ecg[start:end],name=\"ecg\"),\n",
    "         go.Scatter(x=darma_peak_indices,y=-np.asarray(darma_peak_values),mode=\"markers\", name=\"darma\"),\n",
    "         go.Scatter(x=bcg_peak_indices,y=bcg_peak_values,mode=\"markers\", name=\"bcg\"),\n",
    "         ],filename=subject_dir)"
   ]
  },
  {
   "cell_type": "code",
   "execution_count": 46,
   "metadata": {},
   "outputs": [],
   "source": [
    "with open(edf_path, 'rb') as file:\n",
    "    raw = file.read()"
   ]
  },
  {
   "cell_type": "code",
   "execution_count": 48,
   "metadata": {},
   "outputs": [
    {
     "data": {
      "text/plain": [
       "b'0       002 \\xc4\\xd0 26-06-2019 \\xc0\\xee\\xd5\\xd1\\xd0\\xc0 56536575-ed1a-449a-9c20-f74b6a8fbbe8                   Startdate 24-APR-1989 X X X                                                     26.06.1914.21.335888    EDF+C   '"
      ]
     },
     "execution_count": 48,
     "metadata": {},
     "output_type": "execute_result"
    }
   ],
   "source": [
    "raw[:200]"
   ]
  },
  {
   "cell_type": "code",
   "execution_count": 49,
   "metadata": {},
   "outputs": [
    {
     "ename": "NameError",
     "evalue": "name 'date' is not defined",
     "output_type": "error",
     "traceback": [
      "\u001b[0;31m---------------------------------------------------------------------------\u001b[0m",
      "\u001b[0;31mNameError\u001b[0m                                 Traceback (most recent call last)",
      "\u001b[0;32m<ipython-input-49-a975c295ddea>\u001b[0m in \u001b[0;36m<module>\u001b[0;34m()\u001b[0m\n\u001b[0;32m----> 1\u001b[0;31m \u001b[0mdate\u001b[0m\u001b[0;34m\u001b[0m\u001b[0;34m\u001b[0m\u001b[0m\n\u001b[0m",
      "\u001b[0;31mNameError\u001b[0m: name 'date' is not defined"
     ]
    }
   ],
   "source": [
    "date"
   ]
  },
  {
   "cell_type": "code",
   "execution_count": 50,
   "metadata": {},
   "outputs": [
    {
     "data": {
      "text/plain": [
       "14"
      ]
     },
     "execution_count": 50,
     "metadata": {},
     "output_type": "execute_result"
    }
   ],
   "source": [
    "21-7"
   ]
  },
  {
   "cell_type": "code",
   "execution_count": 52,
   "metadata": {},
   "outputs": [
    {
     "data": {
      "text/plain": [
       "420000"
      ]
     },
     "execution_count": 52,
     "metadata": {},
     "output_type": "execute_result"
    }
   ],
   "source": [
    "14*60*500"
   ]
  },
  {
   "cell_type": "code",
   "execution_count": null,
   "metadata": {},
   "outputs": [],
   "source": []
  }
 ],
 "metadata": {
  "kernelspec": {
   "display_name": "Python 3",
   "language": "python",
   "name": "python3"
  },
  "language_info": {
   "codemirror_mode": {
    "name": "ipython",
    "version": 3
   },
   "file_extension": ".py",
   "mimetype": "text/x-python",
   "name": "python",
   "nbconvert_exporter": "python",
   "pygments_lexer": "ipython3",
   "version": "3.6.8"
  }
 },
 "nbformat": 4,
 "nbformat_minor": 2
}
