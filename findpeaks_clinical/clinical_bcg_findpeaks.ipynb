{
 "cells": [
  {
   "cell_type": "code",
   "execution_count": 5,
   "metadata": {},
   "outputs": [],
   "source": [
    "%load_ext autoreload\n",
    "%autoreload 2"
   ]
  },
  {
   "cell_type": "code",
   "execution_count": 6,
   "metadata": {},
   "outputs": [],
   "source": [
    "import numpy as np\n",
    "from plotly.offline import plot\n",
    "import plotly.graph_objs as go"
   ]
  },
  {
   "cell_type": "markdown",
   "metadata": {},
   "source": [
    "# load BCG, ECG data"
   ]
  },
  {
   "cell_type": "code",
   "execution_count": 32,
   "metadata": {},
   "outputs": [],
   "source": [
    "from fs import load_ecg,load_bcg\n",
    "import ecgpeaks\n",
    "import autopeaks\n",
    "from glob import glob"
   ]
  },
  {
   "cell_type": "code",
   "execution_count": 20,
   "metadata": {},
   "outputs": [],
   "source": [
    "data_dir = \"/home/guo/physio/BCG_data/bcg_ecg_data/bcg_ecg_data(500HZ)/\""
   ]
  },
  {
   "cell_type": "markdown",
   "metadata": {},
   "source": [
    "### load bcg"
   ]
  },
  {
   "cell_type": "code",
   "execution_count": 21,
   "metadata": {},
   "outputs": [
    {
     "data": {
      "text/plain": [
       "['/home/guo/physio/BCG_data/bcg_ecg_data/bcg_ecg_data(500HZ)/zyh_bcg_wave(500HZ)(05-10 132226).txt',\n",
       " '/home/guo/physio/BCG_data/bcg_ecg_data/bcg_ecg_data(500HZ)/lifeng_bcg_wave(500HZ)(05-10 160458).txt',\n",
       " '/home/guo/physio/BCG_data/bcg_ecg_data/bcg_ecg_data(500HZ)/hwm_bcg_wave(500HZ)(03-15 200629).txt',\n",
       " '/home/guo/physio/BCG_data/bcg_ecg_data/bcg_ecg_data(500HZ)/yjj_bcg_wave(500HZ)(03-15 145935).txt',\n",
       " '/home/guo/physio/BCG_data/bcg_ecg_data/bcg_ecg_data(500HZ)/wsx_bcg_wave(500HZ).txt',\n",
       " '/home/guo/physio/BCG_data/bcg_ecg_data/bcg_ecg_data(500HZ)/wkp_bcg_wave(500HZ)(05-14 161520).txt',\n",
       " '/home/guo/physio/BCG_data/bcg_ecg_data/bcg_ecg_data(500HZ)/zcj_bcg_wave(500HZ)(03-15 154123).txt',\n",
       " '/home/guo/physio/BCG_data/bcg_ecg_data/bcg_ecg_data(500HZ)/glt_bcg_wave(500HZ)(03-15 142141).txt',\n",
       " '/home/guo/physio/BCG_data/bcg_ecg_data/bcg_ecg_data(500HZ)/lcc_bcg_wave(500HZ)(03-15 141708).txt']"
      ]
     },
     "execution_count": 21,
     "metadata": {},
     "output_type": "execute_result"
    }
   ],
   "source": [
    "bcgs = glob(data_dir+\"*.txt\")\n",
    "bcgs"
   ]
  },
  {
   "cell_type": "code",
   "execution_count": 91,
   "metadata": {},
   "outputs": [
    {
     "data": {
      "text/plain": [
       "'/home/guo/physio/BCG_data/bcg_ecg_data/bcg_ecg_data(500HZ)/wsx_bcg_wave(500HZ).txt'"
      ]
     },
     "execution_count": 91,
     "metadata": {},
     "output_type": "execute_result"
    }
   ],
   "source": [
    "bcg_file = bcgs[4]\n",
    "bcg_file"
   ]
  },
  {
   "cell_type": "code",
   "execution_count": 92,
   "metadata": {},
   "outputs": [],
   "source": [
    "bcg = load_bcg(bcg_file,filter=True,notch=True)"
   ]
  },
  {
   "cell_type": "markdown",
   "metadata": {},
   "source": [
    "### load ecg"
   ]
  },
  {
   "cell_type": "code",
   "execution_count": 27,
   "metadata": {},
   "outputs": [],
   "source": [
    "edfs = glob(data_dir+\"*.edf\")"
   ]
  },
  {
   "cell_type": "code",
   "execution_count": 28,
   "metadata": {},
   "outputs": [
    {
     "data": {
      "text/plain": [
       "'/home/guo/physio/BCG_data/bcg_ecg_data/bcg_ecg_data(500HZ)/lifeng_ecg.edf'"
      ]
     },
     "execution_count": 28,
     "metadata": {},
     "output_type": "execute_result"
    }
   ],
   "source": [
    "edf = edfs[3]\n",
    "edf"
   ]
  },
  {
   "cell_type": "code",
   "execution_count": 30,
   "metadata": {},
   "outputs": [],
   "source": [
    "ecg = load_ecg(edf)"
   ]
  },
  {
   "cell_type": "code",
   "execution_count": 31,
   "metadata": {},
   "outputs": [],
   "source": [
    "ecg_peak_indices, ecg_peak_values = ecgpeaks.findpeaks_in_ecg(ecg)"
   ]
  },
  {
   "cell_type": "code",
   "execution_count": null,
   "metadata": {},
   "outputs": [],
   "source": []
  },
  {
   "cell_type": "code",
   "execution_count": null,
   "metadata": {},
   "outputs": [],
   "source": []
  },
  {
   "cell_type": "markdown",
   "metadata": {},
   "source": [
    "# BCG findpeaks"
   ]
  },
  {
   "cell_type": "code",
   "execution_count": 34,
   "metadata": {},
   "outputs": [],
   "source": [
    "from findpeaks_clinical import findpeaks_clinical"
   ]
  },
  {
   "cell_type": "code",
   "execution_count": 72,
   "metadata": {},
   "outputs": [],
   "source": [
    "bcg = bcg[530000:820000] #0\n",
    "#bcg = bcg[180000:440000] 1\n"
   ]
  },
  {
   "cell_type": "code",
   "execution_count": 93,
   "metadata": {},
   "outputs": [],
   "source": [
    "peak_indices, peak_values, intervals = findpeaks_clinical(-bcg)"
   ]
  },
  {
   "cell_type": "code",
   "execution_count": 94,
   "metadata": {},
   "outputs": [
    {
     "data": {
      "text/plain": [
       "'file:///home/guo/Github/BCGHeart/findpeaks_clinical/temp-plot.html'"
      ]
     },
     "execution_count": 94,
     "metadata": {},
     "output_type": "execute_result"
    }
   ],
   "source": [
    "plot([go.Scatter(y=np.diff(peak_indices),name=\"Raw interval\",mode=\"lines+markers\"),go.Scatter(y=intervals,name=\"intervals_denosing\",mode=\"lines+markers\")])"
   ]
  },
  {
   "cell_type": "code",
   "execution_count": 80,
   "metadata": {},
   "outputs": [
    {
     "data": {
      "text/plain": [
       "'file:///home/guo/Github/BCGHeart/findpeaks_clinical/temp-plot.html'"
      ]
     },
     "execution_count": 80,
     "metadata": {},
     "output_type": "execute_result"
    }
   ],
   "source": [
    "plot([go.Scatter(y=-bcg)])"
   ]
  },
  {
   "cell_type": "markdown",
   "metadata": {},
   "source": [
    "# BCG peaks denosing"
   ]
  },
  {
   "cell_type": "code",
   "execution_count": null,
   "metadata": {},
   "outputs": [],
   "source": []
  },
  {
   "cell_type": "code",
   "execution_count": null,
   "metadata": {},
   "outputs": [],
   "source": []
  },
  {
   "cell_type": "code",
   "execution_count": null,
   "metadata": {},
   "outputs": [],
   "source": []
  },
  {
   "cell_type": "code",
   "execution_count": null,
   "metadata": {},
   "outputs": [],
   "source": []
  },
  {
   "cell_type": "code",
   "execution_count": null,
   "metadata": {},
   "outputs": [],
   "source": []
  }
 ],
 "metadata": {
  "kernelspec": {
   "display_name": "Python 3",
   "language": "python",
   "name": "python3"
  },
  "language_info": {
   "codemirror_mode": {
    "name": "ipython",
    "version": 3
   },
   "file_extension": ".py",
   "mimetype": "text/x-python",
   "name": "python",
   "nbconvert_exporter": "python",
   "pygments_lexer": "ipython3",
   "version": "3.6.6"
  }
 },
 "nbformat": 4,
 "nbformat_minor": 2
}
