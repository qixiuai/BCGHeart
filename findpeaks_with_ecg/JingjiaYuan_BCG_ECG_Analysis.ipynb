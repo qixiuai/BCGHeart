{
 "cells": [
  {
   "cell_type": "code",
   "execution_count": 1,
   "metadata": {},
   "outputs": [],
   "source": [
    "%load_ext autoreload\n",
    "%autoreload 2"
   ]
  },
  {
   "cell_type": "code",
   "execution_count": 2,
   "metadata": {},
   "outputs": [],
   "source": [
    "from fs import load_ecg,load_bcg\n",
    "from plotly.offline import plot\n",
    "import plotly.graph_objs as go\n",
    "import ecgpeaks\n",
    "import autopeaks"
   ]
  },
  {
   "cell_type": "code",
   "execution_count": 3,
   "metadata": {},
   "outputs": [],
   "source": [
    "from glob import glob"
   ]
  },
  {
   "cell_type": "code",
   "execution_count": 4,
   "metadata": {},
   "outputs": [],
   "source": [
    "data_dir = \"/home/guo/physio/BCG_data/bcg_ecg_data/bcg_ecg_data(500HZ)/\""
   ]
  },
  {
   "cell_type": "code",
   "execution_count": 5,
   "metadata": {},
   "outputs": [
    {
     "data": {
      "text/plain": [
       "['/home/guo/physio/BCG_data/bcg_ecg_data/bcg_ecg_data(500HZ)/zyh_bcg_wave(500HZ)(05-10 132226).txt',\n",
       " '/home/guo/physio/BCG_data/bcg_ecg_data/bcg_ecg_data(500HZ)/lifeng_bcg_wave(500HZ)(05-10 160458).txt',\n",
       " '/home/guo/physio/BCG_data/bcg_ecg_data/bcg_ecg_data(500HZ)/hwm_bcg_wave(500HZ)(03-15 200629).txt',\n",
       " '/home/guo/physio/BCG_data/bcg_ecg_data/bcg_ecg_data(500HZ)/yjj_bcg_wave(500HZ)(03-15 145935).txt',\n",
       " '/home/guo/physio/BCG_data/bcg_ecg_data/bcg_ecg_data(500HZ)/wsx_bcg_wave(500HZ).txt',\n",
       " '/home/guo/physio/BCG_data/bcg_ecg_data/bcg_ecg_data(500HZ)/wkp_bcg_wave(500HZ)(05-14 161520).txt',\n",
       " '/home/guo/physio/BCG_data/bcg_ecg_data/bcg_ecg_data(500HZ)/zcj_bcg_wave(500HZ)(03-15 154123).txt',\n",
       " '/home/guo/physio/BCG_data/bcg_ecg_data/bcg_ecg_data(500HZ)/glt_bcg_wave(500HZ)(03-15 142141).txt',\n",
       " '/home/guo/physio/BCG_data/bcg_ecg_data/bcg_ecg_data(500HZ)/lcc_bcg_wave(500HZ)(03-15 141708).txt']"
      ]
     },
     "execution_count": 5,
     "metadata": {},
     "output_type": "execute_result"
    }
   ],
   "source": [
    "bcgs = glob(data_dir+\"*.txt\")\n",
    "bcgs"
   ]
  },
  {
   "cell_type": "code",
   "execution_count": 73,
   "metadata": {},
   "outputs": [
    {
     "data": {
      "text/plain": [
       "'/home/guo/physio/BCG_data/bcg_ecg_data/bcg_ecg_data(500HZ)/lifeng_bcg_wave(500HZ)(05-10 160458).txt'"
      ]
     },
     "execution_count": 73,
     "metadata": {},
     "output_type": "execute_result"
    }
   ],
   "source": [
    "bcg_file = bcgs[1]\n",
    "bcg_file"
   ]
  },
  {
   "cell_type": "code",
   "execution_count": 75,
   "metadata": {},
   "outputs": [],
   "source": [
    "bcg = load_bcg(bcg_file,filter=True,notch=True)"
   ]
  },
  {
   "cell_type": "code",
   "execution_count": 43,
   "metadata": {},
   "outputs": [
    {
     "data": {
      "text/plain": [
       "'file:///home/guo/Github/BCGHeart/findpeaks_with_ecg/temp-plot.html'"
      ]
     },
     "execution_count": 43,
     "metadata": {},
     "output_type": "execute_result"
    }
   ],
   "source": [
    "plot([go.Scatter(y=-bcg,name=\"zcj\")])"
   ]
  },
  {
   "cell_type": "code",
   "execution_count": 76,
   "metadata": {},
   "outputs": [],
   "source": [
    "bcg_auto_peaks = autopeaks.AutoPeaks(thres=0.75, min_dist=300, buffer_size=1000)"
   ]
  },
  {
   "cell_type": "code",
   "execution_count": 77,
   "metadata": {},
   "outputs": [],
   "source": [
    "list(map(bcg_auto_peaks.findpeaks, -bcg));"
   ]
  },
  {
   "cell_type": "code",
   "execution_count": 78,
   "metadata": {},
   "outputs": [],
   "source": [
    "bcg_peak_indices = bcg_auto_peaks.peak_indexes\n",
    "bcg_peak_values = bcg_auto_peaks.peak_values"
   ]
  },
  {
   "cell_type": "code",
   "execution_count": 79,
   "metadata": {},
   "outputs": [
    {
     "data": {
      "text/plain": [
       "'file:///home/guo/Github/BCGHeart/findpeaks_with_ecg/temp-plot.html'"
      ]
     },
     "execution_count": 79,
     "metadata": {},
     "output_type": "execute_result"
    }
   ],
   "source": [
    "plot([go.Scatter(x=bcg_peak_indices[1:],y=30000/np.diff(bcg_peak_indices),mode=\"lines+markers\",name=\"bcg\")])"
   ]
  },
  {
   "cell_type": "code",
   "execution_count": 88,
   "metadata": {},
   "outputs": [
    {
     "data": {
      "text/plain": [
       "'file:///home/guo/Github/BCGHeart/findpeaks_with_ecg/temp-plot.html'"
      ]
     },
     "execution_count": 88,
     "metadata": {},
     "output_type": "execute_result"
    }
   ],
   "source": [
    "plot([go.Scatter(x=bcg_peak_indices[1:],y=30000/np.diff(bcg_peak_indices),mode=\"lines+markers\",name=\"bcg\"),go.Scatter(x=ecg_peak_indices[1:],y=30000/np.diff(ecg_peak_indices),mode=\"lines+markers\",name=\"ecg\"),])\n"
   ]
  },
  {
   "cell_type": "code",
   "execution_count": 71,
   "metadata": {},
   "outputs": [
    {
     "data": {
      "text/plain": [
       "'file:///home/guo/Github/BCGHeart/findpeaks_with_ecg/temp-plot.html'"
      ]
     },
     "execution_count": 71,
     "metadata": {},
     "output_type": "execute_result"
    }
   ],
   "source": [
    "plot([go.Scatter(y=-bcg,name=\"zcj\"), go.Scatter(x=bcg_peak_indices,y=bcg_peak_values,mode=\"markers\")])"
   ]
  },
  {
   "cell_type": "code",
   "execution_count": null,
   "metadata": {},
   "outputs": [],
   "source": [
    "from collections import deque\n",
    "def repair_JJ(intervals):\n",
    "    buf = deque(maxlen=5)\n",
    "    for jj in intervals:\n",
    "        mean = np.median(buf)\n",
    "        if abs(jj - mean) > 0."
   ]
  },
  {
   "cell_type": "code",
   "execution_count": null,
   "metadata": {},
   "outputs": [],
   "source": []
  },
  {
   "cell_type": "code",
   "execution_count": null,
   "metadata": {},
   "outputs": [],
   "source": []
  },
  {
   "cell_type": "code",
   "execution_count": 8,
   "metadata": {},
   "outputs": [],
   "source": [
    "edfs = glob(data_dir+\"*.edf\")"
   ]
  },
  {
   "cell_type": "code",
   "execution_count": 80,
   "metadata": {},
   "outputs": [
    {
     "data": {
      "text/plain": [
       "['/home/guo/physio/BCG_data/bcg_ecg_data/bcg_ecg_data(500HZ)/zyh_ecg.edf',\n",
       " '/home/guo/physio/BCG_data/bcg_ecg_data/bcg_ecg_data(500HZ)/glt_ecg.edf',\n",
       " '/home/guo/physio/BCG_data/bcg_ecg_data/bcg_ecg_data(500HZ)/wsx_ecg.edf',\n",
       " '/home/guo/physio/BCG_data/bcg_ecg_data/bcg_ecg_data(500HZ)/lifeng_ecg.edf',\n",
       " '/home/guo/physio/BCG_data/bcg_ecg_data/bcg_ecg_data(500HZ)/hwm_ecg.edf',\n",
       " '/home/guo/physio/BCG_data/bcg_ecg_data/bcg_ecg_data(500HZ)/zcj_ecg.edf',\n",
       " '/home/guo/physio/BCG_data/bcg_ecg_data/bcg_ecg_data(500HZ)/yjj_ecg.edf',\n",
       " '/home/guo/physio/BCG_data/bcg_ecg_data/bcg_ecg_data(500HZ)/wkp_ecg.edf',\n",
       " '/home/guo/physio/BCG_data/bcg_ecg_data/bcg_ecg_data(500HZ)/lcc_ecg.edf']"
      ]
     },
     "execution_count": 80,
     "metadata": {},
     "output_type": "execute_result"
    }
   ],
   "source": [
    "edfs"
   ]
  },
  {
   "cell_type": "code",
   "execution_count": 81,
   "metadata": {},
   "outputs": [
    {
     "data": {
      "text/plain": [
       "9"
      ]
     },
     "execution_count": 81,
     "metadata": {},
     "output_type": "execute_result"
    }
   ],
   "source": [
    "len(edfs)"
   ]
  },
  {
   "cell_type": "code",
   "execution_count": 85,
   "metadata": {},
   "outputs": [
    {
     "data": {
      "text/plain": [
       "'/home/guo/physio/BCG_data/bcg_ecg_data/bcg_ecg_data(500HZ)/lifeng_ecg.edf'"
      ]
     },
     "execution_count": 85,
     "metadata": {},
     "output_type": "execute_result"
    }
   ],
   "source": [
    "edf = edfs[3]\n",
    "edf"
   ]
  },
  {
   "cell_type": "code",
   "execution_count": 86,
   "metadata": {},
   "outputs": [],
   "source": [
    "ecg = load_ecg(edf)"
   ]
  },
  {
   "cell_type": "code",
   "execution_count": 87,
   "metadata": {},
   "outputs": [],
   "source": [
    "ecg_peak_indices, ecg_peak_values = ecgpeaks.findpeaks_in_ecg(ecg)"
   ]
  },
  {
   "cell_type": "code",
   "execution_count": 14,
   "metadata": {},
   "outputs": [
    {
     "data": {
      "text/plain": [
       "'file:///home/guo/Github/BCGHeart/findpeaks_with_ecg/temp-plot.html'"
      ]
     },
     "execution_count": 14,
     "metadata": {},
     "output_type": "execute_result"
    }
   ],
   "source": [
    "plot([go.Scatter(y=ecg),go.Scatter(x=ecg_peak_indices,y=ecg_peak_values,mode=\"markers\")])"
   ]
  },
  {
   "cell_type": "code",
   "execution_count": 15,
   "metadata": {},
   "outputs": [
    {
     "data": {
      "text/plain": [
       "'file:///home/guo/Github/BCGHeart/findpeaks_with_ecg/temp-plot.html'"
      ]
     },
     "execution_count": 15,
     "metadata": {},
     "output_type": "execute_result"
    }
   ],
   "source": [
    "plot([go.Scatter(x=ecg_peak_indices[1:],y=30000/np.diff(ecg_peak_indices),mode=\"lines+markers\")])"
   ]
  },
  {
   "cell_type": "code",
   "execution_count": 13,
   "metadata": {},
   "outputs": [],
   "source": [
    "bcg = load_bcg(\"/home/guo/physio/BCG_data/bcg_ecg_data/bcg_ecg_data(500HZ)/yjj_bcg_wave(500HZ)(03-15 145935).txt\",offset=39558-396)"
   ]
  },
  {
   "cell_type": "code",
   "execution_count": 44,
   "metadata": {},
   "outputs": [],
   "source": [
    "bcg_auto_peaks = autopeaks.AutoPeaks(thres=0.75, min_dist=300, buffer_size=1000)"
   ]
  },
  {
   "cell_type": "code",
   "execution_count": 45,
   "metadata": {},
   "outputs": [],
   "source": [
    "list(map(bcg_auto_peaks.findpeaks, -bcg));"
   ]
  },
  {
   "cell_type": "code",
   "execution_count": 46,
   "metadata": {},
   "outputs": [],
   "source": [
    "bcg_peak_indices = bcg_auto_peaks.peak_indexes\n",
    "bcg_peak_values = bcg_auto_peaks.peak_values"
   ]
  },
  {
   "cell_type": "code",
   "execution_count": 22,
   "metadata": {},
   "outputs": [
    {
     "data": {
      "text/plain": [
       "'file:///home/guo/Github/BCGHeart/findpeaks_with_ecg/temp-plot.html'"
      ]
     },
     "execution_count": 22,
     "metadata": {},
     "output_type": "execute_result"
    }
   ],
   "source": [
    "plot([go.Scatter(x=bcg_peak_indices[1:],y=30000/np.diff(bcg_peak_indices),mode=\"lines+markers\",name=\"bcg\"), go.Scatter(x=ecg_peak_indices[1:],y=30000/np.diff(ecg_peak_indices),mode=\"lines+markers\",name=\"ecg\")])"
   ]
  },
  {
   "cell_type": "code",
   "execution_count": 23,
   "metadata": {},
   "outputs": [
    {
     "data": {
      "text/plain": [
       "'file:///home/guo/Github/BCGHeart/findpeaks_with_ecg/temp-plot.html'"
      ]
     },
     "execution_count": 23,
     "metadata": {},
     "output_type": "execute_result"
    }
   ],
   "source": [
    "#\n",
    "plot([go.Scatter(y=-bcg,name=\"bcg\"),go.Scatter(y=ecg*0.1,name=\"ecg\"),go.Scatter(x=bcg_peak_indices,y=bcg_peak_values,name=\"bcg_peaks\",mode=\"markers\")])"
   ]
  },
  {
   "cell_type": "code",
   "execution_count": null,
   "metadata": {},
   "outputs": [],
   "source": []
  },
  {
   "cell_type": "code",
   "execution_count": 34,
   "metadata": {},
   "outputs": [
    {
     "data": {
      "text/plain": [
       "'file:///home/guo/Github/BCGHeart/findpeaks_with_ecg/temp-plot.html'"
      ]
     },
     "execution_count": 34,
     "metadata": {},
     "output_type": "execute_result"
    }
   ],
   "source": [
    "plot([go.Scatter(x=bcg_peak_indices[1:],y=medfilt(30000/np.diff(bcg_peak_indices),kernel_size=31),mode=\"lines+markers\",name=\"bcg\"), go.Scatter(x=ecg_peak_indices[1:],y=30000/np.diff(ecg_peak_indices),mode=\"lines+markers\",name=\"ecg\")])"
   ]
  },
  {
   "cell_type": "code",
   "execution_count": 27,
   "metadata": {},
   "outputs": [],
   "source": [
    "from scipy.signal import medfilt"
   ]
  },
  {
   "cell_type": "code",
   "execution_count": 28,
   "metadata": {},
   "outputs": [
    {
     "data": {
      "text/plain": [
       "array([1., 2., 3., 4., 4., 4.])"
      ]
     },
     "execution_count": 28,
     "metadata": {},
     "output_type": "execute_result"
    }
   ],
   "source": [
    "medfilt([1,2,3,4,5,6], kernel_size=5)"
   ]
  },
  {
   "cell_type": "code",
   "execution_count": null,
   "metadata": {},
   "outputs": [],
   "source": []
  }
 ],
 "metadata": {
  "kernelspec": {
   "display_name": "Python 3",
   "language": "python",
   "name": "python3"
  },
  "language_info": {
   "codemirror_mode": {
    "name": "ipython",
    "version": 3
   },
   "file_extension": ".py",
   "mimetype": "text/x-python",
   "name": "python",
   "nbconvert_exporter": "python",
   "pygments_lexer": "ipython3",
   "version": "3.6.6"
  }
 },
 "nbformat": 4,
 "nbformat_minor": 2
}
