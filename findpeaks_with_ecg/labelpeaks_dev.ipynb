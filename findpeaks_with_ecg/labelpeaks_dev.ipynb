{
 "cells": [
  {
   "cell_type": "code",
   "execution_count": 1,
   "metadata": {},
   "outputs": [],
   "source": [
    "%load_ext autoreload\n",
    "%autoreload 2"
   ]
  },
  {
   "cell_type": "code",
   "execution_count": 12,
   "metadata": {},
   "outputs": [],
   "source": [
    "from fs import load_ecg,load_bcg\n",
    "from plotly.offline import plot\n",
    "import plotly.graph_objs as go\n",
    "from glob import glob\n",
    "import autopeaks\n",
    "import ecgpeaks"
   ]
  },
  {
   "cell_type": "code",
   "execution_count": 3,
   "metadata": {},
   "outputs": [],
   "source": [
    "data_dir = \"/home/guo/physio/BCG_data/bcg_ecg_data/bcg_ecg_data(500HZ)/\""
   ]
  },
  {
   "cell_type": "code",
   "execution_count": 200,
   "metadata": {},
   "outputs": [
    {
     "data": {
      "text/plain": [
       "['/home/guo/physio/BCG_data/bcg_ecg_data/bcg_ecg_data(500HZ)/zyh_bcg_wave(500HZ)(05-10 132226).txt',\n",
       " '/home/guo/physio/BCG_data/bcg_ecg_data/bcg_ecg_data(500HZ)/lifeng_bcg_wave(500HZ)(05-10 160458).txt',\n",
       " '/home/guo/physio/BCG_data/bcg_ecg_data/bcg_ecg_data(500HZ)/hwm_bcg_wave(500HZ)(03-15 200629).txt',\n",
       " '/home/guo/physio/BCG_data/bcg_ecg_data/bcg_ecg_data(500HZ)/yjj_bcg_wave(500HZ)(03-15 145935).txt',\n",
       " '/home/guo/physio/BCG_data/bcg_ecg_data/bcg_ecg_data(500HZ)/wsx_bcg_wave(500HZ).txt',\n",
       " '/home/guo/physio/BCG_data/bcg_ecg_data/bcg_ecg_data(500HZ)/wkp_bcg_wave(500HZ)(05-14 161520).txt',\n",
       " '/home/guo/physio/BCG_data/bcg_ecg_data/bcg_ecg_data(500HZ)/zcj_bcg_wave(500HZ)(03-15 154123).txt',\n",
       " '/home/guo/physio/BCG_data/bcg_ecg_data/bcg_ecg_data(500HZ)/glt_bcg_wave(500HZ)(03-15 142141).txt',\n",
       " '/home/guo/physio/BCG_data/bcg_ecg_data/bcg_ecg_data(500HZ)/lcc_bcg_wave(500HZ)(03-15 141708).txt']"
      ]
     },
     "execution_count": 200,
     "metadata": {},
     "output_type": "execute_result"
    }
   ],
   "source": [
    "bcgs = glob(data_dir+\"*.txt\")\n",
    "bcgs"
   ]
  },
  {
   "cell_type": "code",
   "execution_count": 202,
   "metadata": {},
   "outputs": [
    {
     "data": {
      "text/plain": [
       "'/home/guo/physio/BCG_data/bcg_ecg_data/bcg_ecg_data(500HZ)/yjj_bcg_wave(500HZ)(03-15 145935).txt'"
      ]
     },
     "execution_count": 202,
     "metadata": {},
     "output_type": "execute_result"
    }
   ],
   "source": [
    "bcg_file = bcgs[3]\n",
    "bcg_file"
   ]
  },
  {
   "cell_type": "code",
   "execution_count": 203,
   "metadata": {},
   "outputs": [],
   "source": [
    "#for bcg_file in bcgs:\n",
    "bcg = load_bcg(bcg_file,filter=True,notch=True)"
   ]
  },
  {
   "cell_type": "code",
   "execution_count": 210,
   "metadata": {},
   "outputs": [
    {
     "data": {
      "text/plain": [
       "['/home/guo/physio/BCG_data/bcg_ecg_data/bcg_ecg_data(500HZ)/zyh_ecg.edf',\n",
       " '/home/guo/physio/BCG_data/bcg_ecg_data/bcg_ecg_data(500HZ)/glt_ecg.edf',\n",
       " '/home/guo/physio/BCG_data/bcg_ecg_data/bcg_ecg_data(500HZ)/wsx_ecg.edf',\n",
       " '/home/guo/physio/BCG_data/bcg_ecg_data/bcg_ecg_data(500HZ)/lifeng_ecg.edf',\n",
       " '/home/guo/physio/BCG_data/bcg_ecg_data/bcg_ecg_data(500HZ)/hwm_ecg.edf',\n",
       " '/home/guo/physio/BCG_data/bcg_ecg_data/bcg_ecg_data(500HZ)/zcj_ecg.edf',\n",
       " '/home/guo/physio/BCG_data/bcg_ecg_data/bcg_ecg_data(500HZ)/yjj_ecg.edf',\n",
       " '/home/guo/physio/BCG_data/bcg_ecg_data/bcg_ecg_data(500HZ)/wkp_ecg.edf',\n",
       " '/home/guo/physio/BCG_data/bcg_ecg_data/bcg_ecg_data(500HZ)/lcc_ecg.edf']"
      ]
     },
     "execution_count": 210,
     "metadata": {},
     "output_type": "execute_result"
    }
   ],
   "source": [
    "edfs = glob(data_dir+\"*.edf\")\n",
    "edfs"
   ]
  },
  {
   "cell_type": "code",
   "execution_count": 211,
   "metadata": {},
   "outputs": [
    {
     "data": {
      "text/plain": [
       "'/home/guo/physio/BCG_data/bcg_ecg_data/bcg_ecg_data(500HZ)/yjj_ecg.edf'"
      ]
     },
     "execution_count": 211,
     "metadata": {},
     "output_type": "execute_result"
    }
   ],
   "source": [
    "edf = edfs[6]\n",
    "edf"
   ]
  },
  {
   "cell_type": "code",
   "execution_count": 212,
   "metadata": {},
   "outputs": [],
   "source": [
    "ecg = load_ecg(edf)"
   ]
  },
  {
   "cell_type": "code",
   "execution_count": 213,
   "metadata": {},
   "outputs": [],
   "source": [
    "ecg_peak_indices, ecg_peak_values = ecgpeaks.findpeaks_in_ecg(ecg)"
   ]
  },
  {
   "cell_type": "code",
   "execution_count": 172,
   "metadata": {},
   "outputs": [],
   "source": [
    "bcg = load_bcg(\"/home/guo/physio/BCG_data/bcg_ecg_data/bcg_ecg_data(500HZ)/yjj_bcg_wave(500HZ)(03-15 145935).txt\",offset=39558-396)"
   ]
  },
  {
   "cell_type": "code",
   "execution_count": 214,
   "metadata": {},
   "outputs": [],
   "source": [
    "bcg_auto_peaks = autopeaks.AutoPeaks(thres=0.72, min_dist=300,buffer_size=1000)\n",
    "list(map(bcg_auto_peaks.findpeaks, bcg));\n",
    "bcg_peak_indices, bcg_peak_values = bcg_auto_peaks.peak_indexes, bcg_auto_peaks.peak_values"
   ]
  },
  {
   "cell_type": "code",
   "execution_count": null,
   "metadata": {},
   "outputs": [],
   "source": []
  },
  {
   "cell_type": "code",
   "execution_count": null,
   "metadata": {},
   "outputs": [],
   "source": []
  },
  {
   "cell_type": "markdown",
   "metadata": {},
   "source": [
    "# label bcg with ecg with yjj's data"
   ]
  },
  {
   "cell_type": "code",
   "execution_count": 26,
   "metadata": {},
   "outputs": [],
   "source": [
    "from labelpeaks import candidate_peaks, draft_peaks"
   ]
  },
  {
   "cell_type": "code",
   "execution_count": 21,
   "metadata": {},
   "outputs": [],
   "source": [
    "indices, values = candidate_peaks(bcg)"
   ]
  },
  {
   "cell_type": "code",
   "execution_count": 27,
   "metadata": {},
   "outputs": [],
   "source": [
    "draft_indices, draft_values = draft_peaks(bcg)"
   ]
  },
  {
   "cell_type": "code",
   "execution_count": 28,
   "metadata": {},
   "outputs": [
    {
     "data": {
      "text/plain": [
       "'file:///home/guo/Github/BCGHeart/findpeaks_with_ecg/temp-plot.html'"
      ]
     },
     "execution_count": 28,
     "metadata": {},
     "output_type": "execute_result"
    }
   ],
   "source": [
    "plot([go.Scatter(y=bcg,name=\"bcg\"),go.Scatter(y=ecg*0.1,name=\"ecg\"), go.Scatter(x=indices,y=values,mode=\"markers\",name=\"bcg peak\"), go.Scatter(x=draft_indices,y=draft_values,mode=\"markers\",name=\"draft peak\")])"
   ]
  },
  {
   "cell_type": "code",
   "execution_count": 31,
   "metadata": {},
   "outputs": [
    {
     "data": {
      "text/plain": [
       "'file:///home/guo/Github/BCGHeart/findpeaks_with_ecg/temp-plot.html'"
      ]
     },
     "execution_count": 31,
     "metadata": {},
     "output_type": "execute_result"
    }
   ],
   "source": [
    "plot([go.Scatter(x=draft_indices[1:],y=np.diff(draft_indices),mode=\"markers\",name=\"draft peak\"), go.Scatter(x=ecg_peak_indices[1:],y=np.diff(ecg_peak_indices),mode=\"markers\",name=\"ecg peak\")])"
   ]
  },
  {
   "cell_type": "code",
   "execution_count": 33,
   "metadata": {},
   "outputs": [
    {
     "data": {
      "text/plain": [
       "'file:///home/guo/Github/BCGHeart/findpeaks_with_ecg/temp-plot.html'"
      ]
     },
     "execution_count": 33,
     "metadata": {},
     "output_type": "execute_result"
    }
   ],
   "source": [
    "plot([go.Scatter(y=draft_indices[1:],mode=\"markers\",name=\"draft peak\"), go.Scatter(y=ecg_peak_indices[1:],mode=\"markers\",name=\"ecg peak\")])"
   ]
  },
  {
   "cell_type": "code",
   "execution_count": null,
   "metadata": {},
   "outputs": [],
   "source": []
  },
  {
   "cell_type": "markdown",
   "metadata": {},
   "source": [
    "### error plot"
   ]
  },
  {
   "cell_type": "markdown",
   "metadata": {},
   "source": [
    "##### indice alignment"
   ]
  },
  {
   "cell_type": "code",
   "execution_count": 77,
   "metadata": {},
   "outputs": [
    {
     "data": {
      "text/plain": [
       "'file:///home/guo/Github/BCGHeart/findpeaks_with_ecg/temp-plot.html'"
      ]
     },
     "execution_count": 77,
     "metadata": {},
     "output_type": "execute_result"
    }
   ],
   "source": [
    "start = 60*20\n",
    "offset = 500\n",
    "bcg_inds = draft_indices[start:start+offset]\n",
    "ecg_inds = ecg_peak_indices[start+100:start+offset+80]\n",
    "plot([go.Scatter(x=bcg_inds[1:],y=np.diff(bcg_inds),mode=\"markers\"),\n",
    "      go.Scatter(x=ecg_inds[1:],y=np.diff(ecg_inds),mode=\"markers\")])"
   ]
  },
  {
   "cell_type": "code",
   "execution_count": 66,
   "metadata": {},
   "outputs": [],
   "source": [
    "import labelpeaks"
   ]
  },
  {
   "cell_type": "code",
   "execution_count": 67,
   "metadata": {},
   "outputs": [],
   "source": [
    "error_indices = labelpeaks.error_peaks(bcg_inds,ecg_inds)"
   ]
  },
  {
   "cell_type": "code",
   "execution_count": 73,
   "metadata": {},
   "outputs": [
    {
     "data": {
      "text/plain": [
       "'file:///home/guo/Github/BCGHeart/findpeaks_with_ecg/temp-plot.html'"
      ]
     },
     "execution_count": 73,
     "metadata": {},
     "output_type": "execute_result"
    }
   ],
   "source": [
    "plot([go.Scatter(x=ecg_inds,y=error_indices, mode=\"markers\"),go.Scatter(x=ecg_inds,y=medfilt(error_indices,kernel_size=61), mode=\"lines+markers\",name=\"baseline\")])"
   ]
  },
  {
   "cell_type": "code",
   "execution_count": 69,
   "metadata": {},
   "outputs": [],
   "source": [
    "from scipy.signal import medfilt"
   ]
  },
  {
   "cell_type": "code",
   "execution_count": null,
   "metadata": {},
   "outputs": [],
   "source": [
    "medfilt(error_indices,)"
   ]
  },
  {
   "cell_type": "code",
   "execution_count": null,
   "metadata": {},
   "outputs": [],
   "source": []
  },
  {
   "cell_type": "markdown",
   "metadata": {},
   "source": [
    "# Heuristic Peaks"
   ]
  },
  {
   "cell_type": "code",
   "execution_count": 123,
   "metadata": {},
   "outputs": [],
   "source": [
    "from labelpeaks import HeuristicPeaks"
   ]
  },
  {
   "cell_type": "code",
   "execution_count": 127,
   "metadata": {},
   "outputs": [],
   "source": [
    "bcg_demo = bcg[1000*600:1000*780]\n",
    "ecg_demo = ecg[1000*600:1000*780]"
   ]
  },
  {
   "cell_type": "code",
   "execution_count": 135,
   "metadata": {},
   "outputs": [],
   "source": [
    "heuristic_peak = HeuristicPeaks(bcg_demo, ecg_demo)"
   ]
  },
  {
   "cell_type": "code",
   "execution_count": 136,
   "metadata": {},
   "outputs": [
    {
     "name": "stdout",
     "output_type": "stream",
     "text": [
      "epoch: 0, score_marco: 33634\n",
      "epoch: 1, score_marco: 30321\n",
      "epoch: 2, score_marco: 29417\n",
      "epoch: 3, score_marco: 29213\n",
      "epoch: 4, score_marco: 29213\n",
      "epoch: 5, score_marco: 29213\n",
      "epoch: 6, score_marco: 29213\n",
      "epoch: 7, score_marco: 29213\n",
      "epoch: 8, score_marco: 29213\n",
      "epoch: 9, score_marco: 29213\n"
     ]
    }
   ],
   "source": [
    "heuristic_peak.optimize(10)"
   ]
  },
  {
   "cell_type": "code",
   "execution_count": 137,
   "metadata": {},
   "outputs": [
    {
     "data": {
      "text/plain": [
       "409"
      ]
     },
     "execution_count": 137,
     "metadata": {},
     "output_type": "execute_result"
    }
   ],
   "source": [
    "len(heuristic_peak.ecg_peak_indices)"
   ]
  },
  {
   "cell_type": "code",
   "execution_count": 138,
   "metadata": {},
   "outputs": [
    {
     "data": {
      "text/plain": [
       "409"
      ]
     },
     "execution_count": 138,
     "metadata": {},
     "output_type": "execute_result"
    }
   ],
   "source": [
    "len(heuristic_peak.bcg_peak_indices)"
   ]
  },
  {
   "cell_type": "code",
   "execution_count": 139,
   "metadata": {},
   "outputs": [
    {
     "data": {
      "text/plain": [
       "'file:///home/guo/Github/BCGHeart/findpeaks_with_ecg/temp-plot.html'"
      ]
     },
     "execution_count": 139,
     "metadata": {},
     "output_type": "execute_result"
    }
   ],
   "source": [
    "ecg_peak = heuristic_peak.ecg_peak_indices\n",
    "bcg_peak = heuristic_peak.bcg_peak_indices\n",
    "plot([go.Scatter(x=bcg_peak[1:],y=np.diff(bcg_peak),name=\"bcg\",mode=\"markers\"),go.Scatter(x=ecg_peak[1:], y=np.diff(ecg_peak),name=\"ecg\",mode=\"markers\"), ])"
   ]
  },
  {
   "cell_type": "code",
   "execution_count": 143,
   "metadata": {},
   "outputs": [
    {
     "data": {
      "text/plain": [
       "'file:///home/guo/Github/BCGHeart/findpeaks_with_ecg/temp-plot.html'"
      ]
     },
     "execution_count": 143,
     "metadata": {},
     "output_type": "execute_result"
    }
   ],
   "source": [
    "bcg_peak_values = heuristic_peak.bcg_peak_values\n",
    "cand_peak_indices = heuristic_peak.candidate_peak_indices\n",
    "cand_peak_values = heuristic_peak.candidate_peak_values\n",
    "plot([go.Scatter(y=bcg_demo,name=\"bcg\"),go.Scatter(y=ecg_demo*0.1,name=\"ecg\"),go.Scatter(x=cand_peak_indices, y=cand_peak_values, mode=\"markers\"),go.Scatter(x=bcg_peak,y=bcg_peak_values,mode=\"markers\")])"
   ]
  },
  {
   "cell_type": "markdown",
   "metadata": {},
   "source": [
    "## check findpeaks_with_bcg_with_ecg"
   ]
  },
  {
   "cell_type": "code",
   "execution_count": 145,
   "metadata": {},
   "outputs": [],
   "source": [
    "from findpeaks_with_ecg import findpeaks_in_bcg_with_ecg"
   ]
  },
  {
   "cell_type": "code",
   "execution_count": 187,
   "metadata": {},
   "outputs": [
    {
     "ename": "AssertionError",
     "evalue": "",
     "output_type": "error",
     "traceback": [
      "\u001b[0;31m---------------------------------------------------------------------------\u001b[0m",
      "\u001b[0;31mAssertionError\u001b[0m                            Traceback (most recent call last)",
      "\u001b[0;32m<ipython-input-187-6800f9718ddd>\u001b[0m in \u001b[0;36m<module>\u001b[0;34m()\u001b[0m\n\u001b[0;32m----> 1\u001b[0;31m \u001b[0mbcg_peak_indices\u001b[0m\u001b[0;34m,\u001b[0m \u001b[0mbcg_peak_values\u001b[0m\u001b[0;34m,\u001b[0m \u001b[0mecg_peak_indices\u001b[0m\u001b[0;34m,\u001b[0m \u001b[0mecg_peak_values\u001b[0m \u001b[0;34m=\u001b[0m \u001b[0mfindpeaks_in_bcg_with_ecg\u001b[0m\u001b[0;34m(\u001b[0m\u001b[0mbcg\u001b[0m\u001b[0;34m,\u001b[0m \u001b[0mecg\u001b[0m\u001b[0;34m)\u001b[0m\u001b[0;34m\u001b[0m\u001b[0m\n\u001b[0m",
      "\u001b[0;32m~/Github/BCGHeart/findpeaks_with_ecg/findpeaks_with_ecg.py\u001b[0m in \u001b[0;36mfindpeaks_in_bcg_with_ecg\u001b[0;34m(bcg, ecg, bcg_fs, ecg_fs)\u001b[0m\n\u001b[1;32m    106\u001b[0m     bcg_peak_indices, bcg_peak_values = filter2_bcg_candidate_peaks(\n\u001b[1;32m    107\u001b[0m         \u001b[0mbcg_candidate_indices\u001b[0m\u001b[0;34m,\u001b[0m \u001b[0mbcg_candidate_values\u001b[0m\u001b[0;34m,\u001b[0m\u001b[0;34m\u001b[0m\u001b[0m\n\u001b[0;32m--> 108\u001b[0;31m         bcg_peak_indices, bcg_peak_values, ecg_peak_indices)\n\u001b[0m\u001b[1;32m    109\u001b[0m \u001b[0;34m\u001b[0m\u001b[0m\n\u001b[1;32m    110\u001b[0m     \u001b[0;32mreturn\u001b[0m \u001b[0mbcg_peak_indices\u001b[0m\u001b[0;34m,\u001b[0m \u001b[0mbcg_peak_values\u001b[0m\u001b[0;34m,\u001b[0m \u001b[0mecg_peak_indices\u001b[0m\u001b[0;34m,\u001b[0m \u001b[0mecg_peak_values\u001b[0m\u001b[0;34m\u001b[0m\u001b[0m\n",
      "\u001b[0;32m~/Github/BCGHeart/findpeaks_with_ecg/findpeaks_with_ecg.py\u001b[0m in \u001b[0;36mfilter2_bcg_candidate_peaks\u001b[0;34m(bcg_indices, bcg_peak_values, peak_indices, peak_values, ecg_indices)\u001b[0m\n\u001b[1;32m     43\u001b[0m     \u001b[0mnum_bcg_indices\u001b[0m \u001b[0;34m=\u001b[0m \u001b[0mlen\u001b[0m\u001b[0;34m(\u001b[0m\u001b[0mbcg_indices\u001b[0m\u001b[0;34m)\u001b[0m\u001b[0;34m\u001b[0m\u001b[0m\n\u001b[1;32m     44\u001b[0m     \u001b[0mnum_ecg_indices\u001b[0m \u001b[0;34m=\u001b[0m \u001b[0mlen\u001b[0m\u001b[0;34m(\u001b[0m\u001b[0mecg_indices\u001b[0m\u001b[0;34m)\u001b[0m\u001b[0;34m\u001b[0m\u001b[0m\n\u001b[0;32m---> 45\u001b[0;31m     \u001b[0;32massert\u001b[0m\u001b[0;34m(\u001b[0m\u001b[0mnum_bcg_indices\u001b[0m \u001b[0;34m==\u001b[0m \u001b[0mnum_ecg_indices\u001b[0m\u001b[0;34m)\u001b[0m\u001b[0;34m\u001b[0m\u001b[0m\n\u001b[0m\u001b[1;32m     46\u001b[0m     \u001b[0mbcg_id\u001b[0m \u001b[0;34m=\u001b[0m \u001b[0;36m0\u001b[0m\u001b[0;34m\u001b[0m\u001b[0m\n\u001b[1;32m     47\u001b[0m     \u001b[0mecg_id\u001b[0m \u001b[0;34m=\u001b[0m \u001b[0;36m0\u001b[0m\u001b[0;34m\u001b[0m\u001b[0m\n",
      "\u001b[0;31mAssertionError\u001b[0m: "
     ]
    }
   ],
   "source": [
    "bcg_peak_indices, bcg_peak_values, ecg_peak_indices, ecg_peak_values = findpeaks_in_bcg_with_ecg(bcg, ecg)"
   ]
  },
  {
   "cell_type": "code",
   "execution_count": 181,
   "metadata": {},
   "outputs": [
    {
     "data": {
      "text/plain": [
       "'file:///home/guo/Github/BCGHeart/findpeaks_with_ecg/temp-plot.html'"
      ]
     },
     "execution_count": 181,
     "metadata": {},
     "output_type": "execute_result"
    }
   ],
   "source": [
    "plot([go.Scatter(x=bcg_peak_indices[1:],y=np.diff(bcg_peak_indices),name=\"bcg\",mode=\"markers\"),go.Scatter(x=ecg_peak_indices[1:], y=np.diff(ecg_peak_indices),name=\"ecg\",mode=\"markers\")])"
   ]
  },
  {
   "cell_type": "code",
   "execution_count": 188,
   "metadata": {},
   "outputs": [
    {
     "data": {
      "text/plain": [
       "'file:///home/guo/Github/BCGHeart/findpeaks_with_ecg/temp-plot.html'"
      ]
     },
     "execution_count": 188,
     "metadata": {},
     "output_type": "execute_result"
    }
   ],
   "source": [
    "plot([go.Scatter(y=bcg,name=\"bcg\"),go.Scatter(y=ecg*0.1,name=\"ecg\"),go.Scatter(x=bcg_peak_indices,y=bcg_peak_values,mode=\"markers\")])"
   ]
  },
  {
   "cell_type": "code",
   "execution_count": 171,
   "metadata": {},
   "outputs": [],
   "source": [
    "# "
   ]
  },
  {
   "cell_type": "code",
   "execution_count": null,
   "metadata": {},
   "outputs": [],
   "source": [
    "assert"
   ]
  },
  {
   "cell_type": "code",
   "execution_count": null,
   "metadata": {},
   "outputs": [],
   "source": []
  },
  {
   "cell_type": "code",
   "execution_count": null,
   "metadata": {},
   "outputs": [],
   "source": []
  },
  {
   "cell_type": "code",
   "execution_count": null,
   "metadata": {},
   "outputs": [],
   "source": []
  }
 ],
 "metadata": {
  "kernelspec": {
   "display_name": "Python 3",
   "language": "python",
   "name": "python3"
  },
  "language_info": {
   "codemirror_mode": {
    "name": "ipython",
    "version": 3
   },
   "file_extension": ".py",
   "mimetype": "text/x-python",
   "name": "python",
   "nbconvert_exporter": "python",
   "pygments_lexer": "ipython3",
   "version": "3.6.6"
  }
 },
 "nbformat": 4,
 "nbformat_minor": 2
}
