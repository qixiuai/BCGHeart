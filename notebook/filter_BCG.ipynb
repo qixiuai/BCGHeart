{
 "cells": [
  {
   "cell_type": "code",
   "execution_count": 2,
   "metadata": {},
   "outputs": [],
   "source": [
    "from scipy.signal import lfilter"
   ]
  },
  {
   "cell_type": "code",
   "execution_count": 4,
   "metadata": {},
   "outputs": [],
   "source": [
    "import numpy as np\n",
    "import plotly.graph_objs as go\n",
    "from plotly.offline import plot\n",
    "from bcg import load_bcg"
   ]
  },
  {
   "cell_type": "code",
   "execution_count": 50,
   "metadata": {},
   "outputs": [],
   "source": [
    "bcg_path = \"../data/ZouYouhong.txt\"\n",
    "signal = load_bcg(bcg_path)\n",
    "signal = signal[:120000]\n",
    "signal = np.asarray(signal)"
   ]
  },
  {
   "cell_type": "code",
   "execution_count": 40,
   "metadata": {},
   "outputs": [
    {
     "data": {
      "text/plain": [
       "'file:///home/guo/Github/BCGHeart/notebook/temp-plot.html'"
      ]
     },
     "execution_count": 40,
     "metadata": {},
     "output_type": "execute_result"
    }
   ],
   "source": [
    "plot([go.Scatter(y=signal)])"
   ]
  },
  {
   "cell_type": "code",
   "execution_count": 51,
   "metadata": {},
   "outputs": [],
   "source": [
    "#b = np.loadtxt(\"../filter/lowpass15_b.csv\",delimiter=',')\n",
    "#a = np.loadtxt(\"../filter/lowpass15_a.csv\",delimiter=',')\n",
    "#signal_filter = lfilter(b,a,signal)\n",
    "# this filter filter too much "
   ]
  },
  {
   "cell_type": "code",
   "execution_count": 53,
   "metadata": {},
   "outputs": [],
   "source": [
    "#plot([go.Scatter(y=signal_filter)])"
   ]
  },
  {
   "cell_type": "code",
   "execution_count": 56,
   "metadata": {},
   "outputs": [],
   "source": [
    "from autopeaks import AutoPeaks\n",
    "autopeaks = AutoPeaks(thres=0.85,min_dist=400,fs=1000)"
   ]
  },
  {
   "cell_type": "code",
   "execution_count": 58,
   "metadata": {},
   "outputs": [
    {
     "data": {
      "text/plain": [
       "array([2347,  930, 1023,  783, 2909, 1928,  454,  455,  513,  576, 1403,\n",
       "        508,  493,  620, 1001,  439,  565,  436,  591, 1069, 1984,  430,\n",
       "        550,  996,  946, 1018, 3084, 1005,  992, 1918,  451,  529,  970,\n",
       "        976,  979,  997,  978, 1019, 1009,  482, 1813,  701,  998,  985,\n",
       "       1011, 1026, 1004, 1003,  988,  472,  550,  972, 1009,  984,  969,\n",
       "       1000,  965,  963, 1945,  978,  970,  981,  435,  507,  956, 1889,\n",
       "        991,  439,  526,  941, 1002,  940, 1907,  925,  953, 1400,  502,\n",
       "        961,  452,  545,  458,  501, 1028,  979,  968,  992,  960,  448,\n",
       "        522,  958,  975,  981,  459,  515,  990,  983,  963,  963,  975,\n",
       "        947,  997, 1878,  963,  442,  528,  981, 1012,  955,  458,  525,\n",
       "        988,  986,  454,  513, 1200,  800,  456,  612,  441, 1296,  824,\n",
       "       1079,  576, 1022, 1005, 1023])"
      ]
     },
     "execution_count": 58,
     "metadata": {},
     "output_type": "execute_result"
    }
   ],
   "source": [
    "list(map(autopeaks.findpeaks, signal))\n",
    "indices = np.diff(autopeaks.peak_indexes)\n",
    "#indices.sort()\n",
    "# bug in autopeaks\n",
    "indices"
   ]
  },
  {
   "cell_type": "code",
   "execution_count": 17,
   "metadata": {},
   "outputs": [],
   "source": [
    "from edfplus import Edfplus"
   ]
  },
  {
   "cell_type": "code",
   "execution_count": 18,
   "metadata": {},
   "outputs": [],
   "source": [
    "f = open('../data/ZouYouhong.edf', 'rb')\n",
    "raw = f.read()\n",
    "f.close()"
   ]
  },
  {
   "cell_type": "code",
   "execution_count": 19,
   "metadata": {},
   "outputs": [],
   "source": [
    "edf = Edfplus(raw)"
   ]
  },
  {
   "cell_type": "code",
   "execution_count": 20,
   "metadata": {},
   "outputs": [],
   "source": [
    "ecg = edf.signals['ECG LL-RA']"
   ]
  },
  {
   "cell_type": "code",
   "execution_count": null,
   "metadata": {},
   "outputs": [],
   "source": []
  }
 ],
 "metadata": {
  "kernelspec": {
   "display_name": "Python 3",
   "language": "python",
   "name": "python3"
  },
  "language_info": {
   "codemirror_mode": {
    "name": "ipython",
    "version": 3
   },
   "file_extension": ".py",
   "mimetype": "text/x-python",
   "name": "python",
   "nbconvert_exporter": "python",
   "pygments_lexer": "ipython3",
   "version": "3.6.6"
  }
 },
 "nbformat": 4,
 "nbformat_minor": 2
}
