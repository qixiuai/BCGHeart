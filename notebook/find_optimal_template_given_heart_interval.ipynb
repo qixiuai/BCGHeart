{
 "cells": [
  {
   "cell_type": "code",
   "execution_count": 79,
   "metadata": {},
   "outputs": [],
   "source": [
    "import numpy as np\n",
    "import plotly.graph_objs as go\n",
    "import autopeaks\n",
    "from scipy.signal import lfilter\n",
    "from edfplus import Edfplus\n",
    "from plotly.offline import plot"
   ]
  },
  {
   "cell_type": "code",
   "execution_count": 16,
   "metadata": {},
   "outputs": [],
   "source": [
    "%load_ext autoreload\n",
    "%autoreload 2"
   ]
  },
  {
   "cell_type": "markdown",
   "metadata": {},
   "source": [
    "# load ecg"
   ]
  },
  {
   "cell_type": "code",
   "execution_count": 4,
   "metadata": {},
   "outputs": [],
   "source": [
    "f = open('../data/wsx_ecg.edf', 'rb')\n",
    "raw = f.read()\n",
    "f.close()"
   ]
  },
  {
   "cell_type": "code",
   "execution_count": 3,
   "metadata": {},
   "outputs": [],
   "source": [
    "edf = Edfplus(raw)\n",
    "ecg = edf.signals['ECG LL-RA']"
   ]
  },
  {
   "cell_type": "code",
   "execution_count": 10,
   "metadata": {},
   "outputs": [],
   "source": [
    "ecg_auto_peaks = autopeaks.AutoPeaks(thres=0.75,min_dist=300,fs=500)\n",
    "list(map(ecg_auto_peaks.findpeaks, ecg));"
   ]
  },
  {
   "cell_type": "code",
   "execution_count": 11,
   "metadata": {},
   "outputs": [],
   "source": [
    "ecg_peak_indices = ecg_auto_peaks.peak_indexes\n",
    "ecg_peak_values = ecg_auto_peaks.peak_values"
   ]
  },
  {
   "cell_type": "code",
   "execution_count": 12,
   "metadata": {},
   "outputs": [
    {
     "data": {
      "text/plain": [
       "'file:///home/guo/Github/BCGHeart/notebook/temp-plot.html'"
      ]
     },
     "execution_count": 12,
     "metadata": {},
     "output_type": "execute_result"
    }
   ],
   "source": [
    "plot([go.Scatter(y=ecg), go.Scatter(x=ecg_peak_indices, y=ecg_peak_values, mode=\"markers\")])"
   ]
  },
  {
   "cell_type": "markdown",
   "metadata": {},
   "source": [
    "### find peaks in ecg"
   ]
  },
  {
   "cell_type": "code",
   "execution_count": 110,
   "metadata": {},
   "outputs": [],
   "source": [
    "ecg_auto_peaks = autopeaks.AutoPeaks(thres=0.73,min_dist=300,fs=500)\n",
    "ecg_filter = lfilter(b,a,ecg)\n",
    "list(map(ecg_auto_peaks.findpeaks, ecg_filter));"
   ]
  },
  {
   "cell_type": "code",
   "execution_count": 107,
   "metadata": {},
   "outputs": [],
   "source": [
    "ecg_peak_indices = ecg_auto_peaks.peak_indexes\n",
    "ecg_peak_values = ecg_auto_peaks.peak_values"
   ]
  },
  {
   "cell_type": "code",
   "execution_count": 111,
   "metadata": {},
   "outputs": [
    {
     "data": {
      "text/plain": [
       "'file:///home/guo/Github/BCGHeart/notebook/temp-plot.html'"
      ]
     },
     "execution_count": 111,
     "metadata": {},
     "output_type": "execute_result"
    }
   ],
   "source": [
    "plot([go.Scatter(y=ecg_filter), go.Scatter(x=ecg_peak_indices, y=ecg_peak_values, mode=\"markers\")])"
   ]
  },
  {
   "cell_type": "markdown",
   "metadata": {},
   "source": [
    "# load bcg"
   ]
  },
  {
   "cell_type": "code",
   "execution_count": 14,
   "metadata": {},
   "outputs": [],
   "source": [
    "def _parse_integer(bytes):\n",
    "    int_str = bytes.decode('ASCII')\n",
    "    integers = []\n",
    "    #try:\n",
    "    #integers = list(map(int, int_str.split(',')))\n",
    "    for s in int_str.split(','):\n",
    "        try:\n",
    "            integer = int(s)\n",
    "        except:\n",
    "            print(bytes)\n",
    "            continue\n",
    "        integers.append(integer)\n",
    "    #except:\n",
    "        #raise ValueError(\"\")\n",
    "    return integers\n",
    "    \n",
    "def parse_bcg(bytes):\n",
    "    data = []\n",
    "    packet = []\n",
    "    start_index = 0\n",
    "    end_index = 0\n",
    "    for ind, byte in enumerate(bytes):\n",
    "        if byte == ord('#'):\n",
    "            if end_index - start_index > 0:\n",
    "                #print(start_index, end_index)\n",
    "                integers = _parse_integer(bytes[start_index:end_index])\n",
    "                data.extend(integers)\n",
    "            start_index = ind + 1\n",
    "            end_index = ind + 1\n",
    "        if byte == ord('\\r'):\n",
    "            end_index = ind\n",
    "    if end_index - start_index > 0:\n",
    "        integers = _parse_integer(bytes[start_index:end_index])\n",
    "        data.extend(integers)\n",
    "    return data"
   ]
  },
  {
   "cell_type": "code",
   "execution_count": 23,
   "metadata": {},
   "outputs": [],
   "source": [
    "f = open(\"../data/wsx_bcg_wave(500HZ).txt\", 'rb')\n",
    "data = f.read()\n",
    "f.close()\n",
    "bcg = parse_bcg(data)\n",
    "bcg = bcg[12726:]"
   ]
  },
  {
   "cell_type": "markdown",
   "metadata": {},
   "source": [
    "### apply bandpass 0.5-20Hz filter"
   ]
  },
  {
   "cell_type": "code",
   "execution_count": 78,
   "metadata": {},
   "outputs": [],
   "source": [
    "b = np.loadtxt(\"bcg_bandpass_b.csv\", delimiter=',')\n",
    "a = np.loadtxt(\"bcg_bandpass_a.csv\", delimiter=',')"
   ]
  },
  {
   "cell_type": "code",
   "execution_count": 82,
   "metadata": {},
   "outputs": [],
   "source": [
    "bcg_filter = lfilter(b, a, bcg)"
   ]
  },
  {
   "cell_type": "code",
   "execution_count": 47,
   "metadata": {},
   "outputs": [],
   "source": [
    "start = 500*60*(5+15)\n",
    "offset = 500*10\n",
    "signal = bcg[start:start+offset]\n",
    "ecg_part = ecg[start:start+offset]\n",
    "##"
   ]
  },
  {
   "cell_type": "code",
   "execution_count": 146,
   "metadata": {},
   "outputs": [],
   "source": [
    "bcg_auto_peaks = autopeaks.AutoPeaks(thres=0.70,min_dist=290,fs=500)"
   ]
  },
  {
   "cell_type": "code",
   "execution_count": 147,
   "metadata": {},
   "outputs": [
    {
     "name": "stdout",
     "output_type": "stream",
     "text": [
      "1.3 s ± 10.4 ms per loop (mean ± std. dev. of 7 runs, 1 loop each)\n"
     ]
    }
   ],
   "source": [
    "%timeit list(map(bcg_auto_peaks.findpeaks, bcg_filter));"
   ]
  },
  {
   "cell_type": "code",
   "execution_count": 125,
   "metadata": {},
   "outputs": [],
   "source": [
    "bcg_peak_indices = bcg_auto_peaks.peak_indexes\n",
    "bcg_peak_values = bcg_auto_peaks.peak_values"
   ]
  },
  {
   "cell_type": "code",
   "execution_count": 121,
   "metadata": {},
   "outputs": [
    {
     "data": {
      "text/plain": [
       "'file:///home/guo/Github/BCGHeart/notebook/temp-plot.html'"
      ]
     },
     "execution_count": 121,
     "metadata": {},
     "output_type": "execute_result"
    }
   ],
   "source": [
    "plot([go.Scatter(y=ecg),go.Scatter(y=bcg_filter), go.Scatter(x=bcg_peak_indices, y=bcg_peak_values, mode=\"markers\")])"
   ]
  },
  {
   "cell_type": "markdown",
   "metadata": {},
   "source": [
    "### compare heart interval betwwen bcg and ecfg"
   ]
  },
  {
   "cell_type": "code",
   "execution_count": 126,
   "metadata": {},
   "outputs": [
    {
     "data": {
      "text/plain": [
       "'file:///home/guo/Github/BCGHeart/notebook/temp-plot.html'"
      ]
     },
     "execution_count": 126,
     "metadata": {},
     "output_type": "execute_result"
    }
   ],
   "source": [
    "ecg_rr = np.diff(ecg_peak_indices)\n",
    "bcg_jj = np.diff(bcg_peak_indices)\n",
    "num_peaks = 100000\n",
    "plot([go.Scatter(x=ecg_peak_indices[1:num_peaks+1],y=ecg_rr[:num_peaks], mode=\"lines+markers\",name=\"ecg\"), go.Scatter(x=np.array(bcg_peak_indices[1:num_peaks+1]),y=bcg_jj[:num_peaks],mode=\"lines+markers\", name=\"bcg\")])"
   ]
  },
  {
   "cell_type": "code",
   "execution_count": 128,
   "metadata": {},
   "outputs": [
    {
     "data": {
      "text/plain": [
       "array([ 392,  401,  401,  399,  403,  405,  404,  395,  396,  393,  389,\n",
       "        381,  384,  386,  378,  377,  379,  382,  387,  382,  390,  400,\n",
       "        403,  395,  400,  398,  389, 1641, 1015,  851,  450,  653,  311,\n",
       "       1227,  411, 1000,  493,  701,  395,  299, 1134,  937, 1420,  343,\n",
       "        621,  337,  993,  565,  418, 1027])"
      ]
     },
     "execution_count": 128,
     "metadata": {},
     "output_type": "execute_result"
    }
   ],
   "source": [
    "example = bcg_jj[1000:1000+50]\n",
    "example"
   ]
  },
  {
   "cell_type": "code",
   "execution_count": 143,
   "metadata": {},
   "outputs": [],
   "source": [
    "from cleanpeaks import best_jj_interval"
   ]
  },
  {
   "cell_type": "code",
   "execution_count": 144,
   "metadata": {},
   "outputs": [
    {
     "name": "stdout",
     "output_type": "stream",
     "text": [
      "299.0 433.2\n"
     ]
    },
    {
     "data": {
      "text/plain": [
       "392.5"
      ]
     },
     "execution_count": 144,
     "metadata": {},
     "output_type": "execute_result"
    }
   ],
   "source": [
    "best_jj_interval(example)"
   ]
  },
  {
   "cell_type": "code",
   "execution_count": 130,
   "metadata": {},
   "outputs": [],
   "source": [
    "hist, bin_edges = np.histogram(example)"
   ]
  },
  {
   "cell_type": "code",
   "execution_count": 132,
   "metadata": {},
   "outputs": [
    {
     "data": {
      "text/plain": [
       "(array([ 299. ,  433.2,  567.4,  701.6,  835.8,  970. , 1104.2, 1238.4,\n",
       "        1372.6, 1506.8, 1641. ]),\n",
       " array([34,  3,  3,  0,  2,  4,  2,  0,  1,  1]))"
      ]
     },
     "execution_count": 132,
     "metadata": {},
     "output_type": "execute_result"
    }
   ],
   "source": [
    "bin_edges,hist"
   ]
  },
  {
   "cell_type": "code",
   "execution_count": 145,
   "metadata": {},
   "outputs": [
    {
     "name": "stdout",
     "output_type": "stream",
     "text": [
      "[392, 401, 401, 399, 403, 405, 404, 395, 396, 393, 389, 381, 384, 386, 378, 377, 379, 382, 387, 382, 390, 400, 403, 395, 400, 398, 389, 311, 411, 395, 299, 343, 337, 418]\n"
     ]
    },
    {
     "data": {
      "text/plain": [
       "392.5"
      ]
     },
     "execution_count": 145,
     "metadata": {},
     "output_type": "execute_result"
    }
   ],
   "source": [
    "pool = []\n",
    "for peak in example:\n",
    "    if (peak >= 299 and peak <= 433.2):\n",
    "        pool.append(peak)\n",
    "print(pool)\n",
    "m = np.median(pool)\n",
    "m "
   ]
  },
  {
   "cell_type": "code",
   "execution_count": 101,
   "metadata": {},
   "outputs": [
    {
     "data": {
      "text/plain": [
       "array([ 527, 1723,  760,  580,  411,  600,  659,  386,  321,  324,  330,\n",
       "        431,  479,  427,  313,  386,  923, 1061,  360,  561,  583,  547,\n",
       "        685,  419,  511,  553,  602,  581,  344,  365,  319,  355,  571,\n",
       "        305,  501,  390,  304,  319,  632,  310,  310,  319,  620,  311,\n",
       "        310,  338, 1113,  354,  558,  306])"
      ]
     },
     "execution_count": 101,
     "metadata": {},
     "output_type": "execute_result"
    }
   ],
   "source": [
    "ecg_rr[1000:50]"
   ]
  },
  {
   "cell_type": "markdown",
   "metadata": {},
   "source": [
    "# Find Template"
   ]
  },
  {
   "cell_type": "code",
   "execution_count": 73,
   "metadata": {},
   "outputs": [],
   "source": [
    "from algorithm.template import find_template, conv"
   ]
  },
  {
   "cell_type": "code",
   "execution_count": 74,
   "metadata": {},
   "outputs": [],
   "source": [
    "template = find_template(signal, 200)\n",
    "scores = conv(signal, template)"
   ]
  },
  {
   "cell_type": "code",
   "execution_count": 75,
   "metadata": {},
   "outputs": [
    {
     "data": {
      "text/plain": [
       "'file:///home/guo/Github/BCGHeart/notebook/temp-plot.html'"
      ]
     },
     "execution_count": 75,
     "metadata": {},
     "output_type": "execute_result"
    }
   ],
   "source": [
    "plot([go.Scatter(y=scores), go.Scatter(y=ecg_part)])"
   ]
  },
  {
   "cell_type": "code",
   "execution_count": 77,
   "metadata": {},
   "outputs": [
    {
     "data": {
      "text/plain": [
       "'file:///home/guo/Github/BCGHeart/notebook/temp-plot.html'"
      ]
     },
     "execution_count": 77,
     "metadata": {},
     "output_type": "execute_result"
    }
   ],
   "source": [
    "plot([go.Scatter(y=signal), go.Scatter(y=ecg_part)])"
   ]
  },
  {
   "cell_type": "code",
   "execution_count": 76,
   "metadata": {},
   "outputs": [
    {
     "data": {
      "text/plain": [
       "'file:///home/guo/Github/BCGHeart/notebook/temp-plot.html'"
      ]
     },
     "execution_count": 76,
     "metadata": {},
     "output_type": "execute_result"
    }
   ],
   "source": [
    "plot([go.Scatter(y=template)])"
   ]
  },
  {
   "cell_type": "markdown",
   "metadata": {},
   "source": [
    "# data visulation"
   ]
  },
  {
   "cell_type": "code",
   "execution_count": 83,
   "metadata": {},
   "outputs": [
    {
     "data": {
      "text/plain": [
       "'file:///home/guo/Github/BCGHeart/notebook/temp-plot.html'"
      ]
     },
     "execution_count": 83,
     "metadata": {},
     "output_type": "execute_result"
    }
   ],
   "source": [
    "plot([go.Scatter(y=signal,name=\"bcg\"), ,\n",
    "      go.Scatter(y=ecg[start:start+offset], name=\"ecg\")])"
   ]
  },
  {
   "cell_type": "code",
   "execution_count": 85,
   "metadata": {},
   "outputs": [
    {
     "data": {
      "text/plain": [
       "'file:///home/guo/Github/BCGHeart/notebook/temp-plot.html'"
      ]
     },
     "execution_count": 85,
     "metadata": {},
     "output_type": "execute_result"
    }
   ],
   "source": [
    "plot([go.Scatter(y=ecg), go.Scatter(y=bcg), go.Scatter(y=bcg_filter,name=\"bcg_filter\"),go.Scatter(x=ecg_peak_indices, y=ecg_peak_values, mode=\"markers\")])"
   ]
  },
  {
   "cell_type": "code",
   "execution_count": 89,
   "metadata": {},
   "outputs": [
    {
     "data": {
      "text/plain": [
       "'file:///home/guo/Github/BCGHeart/notebook/temp-plot.html'"
      ]
     },
     "execution_count": 89,
     "metadata": {},
     "output_type": "execute_result"
    }
   ],
   "source": [
    "plot([go.Scatter(y=bcg), go.Scatter(y=bcg_filter+300,name=\"bcg_filter\")])"
   ]
  },
  {
   "cell_type": "code",
   "execution_count": null,
   "metadata": {},
   "outputs": [],
   "source": []
  },
  {
   "cell_type": "code",
   "execution_count": null,
   "metadata": {},
   "outputs": [],
   "source": []
  }
 ],
 "metadata": {
  "kernelspec": {
   "display_name": "Python 3",
   "language": "python",
   "name": "python3"
  },
  "language_info": {
   "codemirror_mode": {
    "name": "ipython",
    "version": 3
   },
   "file_extension": ".py",
   "mimetype": "text/x-python",
   "name": "python",
   "nbconvert_exporter": "python",
   "pygments_lexer": "ipython3",
   "version": "3.6.6"
  }
 },
 "nbformat": 4,
 "nbformat_minor": 2
}
