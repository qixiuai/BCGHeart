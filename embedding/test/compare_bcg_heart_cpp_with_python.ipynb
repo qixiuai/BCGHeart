{
 "cells": [
  {
   "cell_type": "code",
   "execution_count": 1,
   "metadata": {},
   "outputs": [],
   "source": [
    "import numpy as np\n",
    "from plotly.offline import plot\n",
    "import plotly.graph_objs as go"
   ]
  },
  {
   "cell_type": "code",
   "execution_count": 22,
   "metadata": {},
   "outputs": [],
   "source": [
    "bcg = np.loadtxt(\"yjj_raw_bcg.txt\")\n",
    "bcg = np.asarray(bcg)"
   ]
  },
  {
   "cell_type": "code",
   "execution_count": 31,
   "metadata": {},
   "outputs": [],
   "source": [
    "peak_indices = np.loadtxt(\"peak_index.txt\",dtype=np.int)\n",
    "#peak_indices = np.asarray(peak_indices)"
   ]
  },
  {
   "cell_type": "code",
   "execution_count": 32,
   "metadata": {},
   "outputs": [
    {
     "data": {
      "text/plain": [
       "'file:///home/guo/Github/BCGHeart/embedding/test/temp-plot.html'"
      ]
     },
     "execution_count": 32,
     "metadata": {},
     "output_type": "execute_result"
    }
   ],
   "source": [
    "plot([go.Scatter(y=np.diff(peak_indices),mode=\"lines+markers\",name=\"down\")])"
   ]
  },
  {
   "cell_type": "code",
   "execution_count": 18,
   "metadata": {},
   "outputs": [
    {
     "data": {
      "text/plain": [
       "'file:///home/guo/Github/BCGHeart/embedding/test/temp-plot.html'"
      ]
     },
     "execution_count": 18,
     "metadata": {},
     "output_type": "execute_result"
    }
   ],
   "source": [
    "plot([\n",
    "    go.Scatter(y=bcg), \n",
    "    go.Scatter(x=peak_indices, y=bcg[peak_indices], mode=\"markers\"),\n",
    "])"
   ]
  },
  {
   "cell_type": "code",
   "execution_count": 33,
   "metadata": {},
   "outputs": [],
   "source": [
    "peak_intervals = np.loadtxt(\"peak_intervals.txt\")"
   ]
  },
  {
   "cell_type": "code",
   "execution_count": 35,
   "metadata": {},
   "outputs": [
    {
     "data": {
      "text/plain": [
       "'file:///home/guo/Github/BCGHeart/embedding/test/temp-plot.html'"
      ]
     },
     "execution_count": 35,
     "metadata": {},
     "output_type": "execute_result"
    }
   ],
   "source": [
    "plot(go.Figure(data=[go.Scatter(y=peak_intervals,mode=\"lines+markers\")],layout=go.Layout(yaxis=dict(range=(300, 800)))))"
   ]
  },
  {
   "cell_type": "code",
   "execution_count": 9,
   "metadata": {},
   "outputs": [
    {
     "data": {
      "text/plain": [
       "((1365838,), (2945,))"
      ]
     },
     "execution_count": 9,
     "metadata": {},
     "output_type": "execute_result"
    }
   ],
   "source": [
    "bcg.shape,peak_indices.shape"
   ]
  },
  {
   "cell_type": "code",
   "execution_count": 10,
   "metadata": {},
   "outputs": [
    {
     "data": {
      "text/plain": [
       "array([-2074., -2069.])"
      ]
     },
     "execution_count": 10,
     "metadata": {},
     "output_type": "execute_result"
    }
   ],
   "source": [
    "bcg[[1,2]]"
   ]
  },
  {
   "cell_type": "code",
   "execution_count": null,
   "metadata": {},
   "outputs": [],
   "source": []
  },
  {
   "cell_type": "code",
   "execution_count": 74,
   "metadata": {},
   "outputs": [],
   "source": [
    "bcg = np.loadtxt(\"bcg.txt\")"
   ]
  },
  {
   "cell_type": "code",
   "execution_count": 75,
   "metadata": {},
   "outputs": [
    {
     "data": {
      "text/plain": [
       "'file:///home/guo/Github/BCGHeart/embedding/test/temp-plot.html'"
      ]
     },
     "execution_count": 75,
     "metadata": {},
     "output_type": "execute_result"
    }
   ],
   "source": [
    "plot([go.Scatter(y=bcg)])"
   ]
  },
  {
   "cell_type": "code",
   "execution_count": 76,
   "metadata": {},
   "outputs": [],
   "source": [
    "raw = np.loadtxt('raw_bcg.txt')"
   ]
  },
  {
   "cell_type": "code",
   "execution_count": 77,
   "metadata": {},
   "outputs": [
    {
     "data": {
      "text/plain": [
       "'file:///home/guo/Github/BCGHeart/embedding/test/temp-plot.html'"
      ]
     },
     "execution_count": 77,
     "metadata": {},
     "output_type": "execute_result"
    }
   ],
   "source": [
    "plot([go.Scatter(y=raw)])"
   ]
  },
  {
   "cell_type": "code",
   "execution_count": 89,
   "metadata": {},
   "outputs": [
    {
     "data": {
      "text/plain": [
       "'file:///home/guo/Github/BCGHeart/embedding/test/temp-plot.html'"
      ]
     },
     "execution_count": 89,
     "metadata": {},
     "output_type": "execute_result"
    }
   ],
   "source": [
    "start = 50000\n",
    "end = start + 300000\n",
    "plot([go.Scatter(y=raw[start:end], name=\"raw\"), \n",
    "      go.Scatter(y=bcg[start:end], name=\"bcg\"), \n",
    "      go.Scatter(y=np.asarray(bcg_py[start:end]),name=\"bcg_py\")])"
   ]
  },
  {
   "cell_type": "code",
   "execution_count": 80,
   "metadata": {},
   "outputs": [],
   "source": [
    "from scipy.signal import lfilter"
   ]
  },
  {
   "cell_type": "code",
   "execution_count": 81,
   "metadata": {},
   "outputs": [],
   "source": [
    "b = np.loadtxt(\"../data/bandpass_b_500.csv\", delimiter=',')\n",
    "a = np.loadtxt(\"../data/bandpass_a_500.csv\", delimiter=',')"
   ]
  },
  {
   "cell_type": "code",
   "execution_count": 82,
   "metadata": {},
   "outputs": [],
   "source": [
    "from scipy.signal import lfilter"
   ]
  },
  {
   "cell_type": "code",
   "execution_count": 83,
   "metadata": {},
   "outputs": [],
   "source": [
    "bcg_py = lfilter(b, a, raw)"
   ]
  },
  {
   "cell_type": "code",
   "execution_count": 19,
   "metadata": {},
   "outputs": [
    {
     "data": {
      "text/plain": [
       "'file:///home/guo/Github/BCGHeart/embedding/test/temp-plot.html'"
      ]
     },
     "execution_count": 19,
     "metadata": {},
     "output_type": "execute_result"
    }
   ],
   "source": [
    "plot([go.Scatter(y=bcg_py)])"
   ]
  },
  {
   "cell_type": "code",
   "execution_count": 25,
   "metadata": {},
   "outputs": [
    {
     "data": {
      "text/plain": [
       "array([ 0.00277947,  0.        , -0.00833841,  0.        ,  0.00833841,\n",
       "        0.        , -0.00277947])"
      ]
     },
     "execution_count": 25,
     "metadata": {},
     "output_type": "execute_result"
    }
   ],
   "source": [
    "b"
   ]
  },
  {
   "cell_type": "code",
   "execution_count": 21,
   "metadata": {},
   "outputs": [
    {
     "data": {
      "text/plain": [
       "array([  1.        ,  -5.37926038,  12.0782021 , -14.49605185,\n",
       "         9.81178146,  -3.55191271,   0.53724138])"
      ]
     },
     "execution_count": 21,
     "metadata": {},
     "output_type": "execute_result"
    }
   ],
   "source": [
    "a"
   ]
  },
  {
   "cell_type": "code",
   "execution_count": 62,
   "metadata": {},
   "outputs": [
    {
     "data": {
      "text/plain": [
       "array([   -5.81187287,   -37.06711194,  -117.55902851,  -257.30479954,\n",
       "        -450.30773473,  -681.43735713,  -931.78707946, -1182.55958041,\n",
       "       -1417.51888129, -1624.33124205, -1795.07092497, -1925.99388348,\n",
       "       -2016.88749835, -2070.3416708 , -2090.95923509, -2084.53042353,\n",
       "       -2057.37257165, -2015.82791883, -1965.78946322, -1912.34532892,\n",
       "       -1859.59118702, -1810.48042736, -1766.7741957 , -1729.20720143,\n",
       "       -1697.71271   , -1671.61789294, -1649.9281212 , -1631.61751747,\n",
       "       -1615.75140228, -1601.54174791, -1588.38928745, -1575.79732992,\n",
       "       -1563.2704039 , -1550.34074405, -1536.5731978 , -1521.55443624,\n",
       "       -1505.0721086 , -1487.25614055, -1468.45030485, -1449.08167175,\n",
       "       -1429.62778508, -1410.49492269, -1391.8804117 , -1373.78869629,\n",
       "       -1356.09345992, -1338.57477144, -1321.04569059, -1303.47862751,\n",
       "       -1285.97467547, -1268.70524857, -1251.89501953, -1235.711298  ,\n",
       "       -1220.149881  , -1205.06343718, -1190.21323486, -1175.298089  ,\n",
       "       -1160.06877691, -1144.44682981, -1128.50343886, -1112.40698697,\n",
       "       -1096.40848347, -1080.73058417, -1065.43422839, -1050.43669238,\n",
       "       -1035.56748241, -1020.58355923, -1005.27916442,  -989.61699786,\n",
       "        -973.71033361,  -957.76281067,  -942.03865524,  -926.7544875 ,\n",
       "        -911.96683215,  -897.5873479 ,  -883.42357398,  -869.20538441,\n",
       "        -854.71605346,  -839.92458586,  -824.9548533 ,  -810.0203507 ,\n",
       "        -795.39434332,  -781.2931721 ,  -767.76321379,  -754.71403671,\n",
       "        -741.9621682 ,  -729.22965854,  -716.25980611,  -702.96872828,\n",
       "        -689.43059184,  -675.81343014,  -662.36149977,  -649.2864277 ,\n",
       "        -636.6413682 ,  -624.34283036,  -612.21654364,  -600.01333472,\n",
       "        -587.53087214,  -574.74153235,  -561.76053883,  -548.78478037])"
      ]
     },
     "execution_count": 62,
     "metadata": {},
     "output_type": "execute_result"
    }
   ],
   "source": [
    "bcg_py[:100]"
   ]
  },
  {
   "cell_type": "code",
   "execution_count": 63,
   "metadata": {},
   "outputs": [
    {
     "data": {
      "text/plain": [
       "array([   -5.81187,   -37.0671 ,  -117.559  ,  -257.305  ,  -450.308  ,\n",
       "        -681.437  ,  -931.787  , -1182.56   , -1417.52   , -1624.33   ,\n",
       "       -1795.07   , -1925.99   , -2016.89   , -2070.34   , -2090.96   ,\n",
       "       -2084.52   , -2057.36   , -2015.81   , -1965.76   , -1912.3    ,\n",
       "       -1859.53   , -1810.39   , -1766.65   , -1729.04   , -1697.49   ,\n",
       "       -1671.32   , -1649.55   , -1631.14   , -1615.16   , -1600.81   ,\n",
       "       -1587.5    , -1574.72   , -1561.99   , -1548.83   , -1534.81   ,\n",
       "       -1519.51   , -1502.71   , -1484.55   , -1465.37   , -1445.6    ,\n",
       "       -1425.71   , -1406.11   , -1386.99   , -1368.36   , -1350.09   ,\n",
       "       -1331.95   , -1313.77   , -1295.52   , -1277.28   , -1259.24   ,\n",
       "       -1241.62   , -1224.58   , -1208.13   , -1192.1    , -1176.27   ,\n",
       "       -1160.32   , -1144.02   , -1127.28   , -1110.17   , -1092.86   ,\n",
       "       -1075.6    , -1058.62   , -1041.97   , -1025.56   , -1009.24   ,\n",
       "        -992.751  ,  -975.892  ,  -958.625  ,  -941.062  ,  -923.408  ,\n",
       "        -905.926  ,  -888.832  ,  -872.182  ,  -855.888  ,  -839.758  ,\n",
       "        -823.52   ,  -806.958  ,  -790.041  ,  -772.893  ,  -755.726  ,\n",
       "        -738.815  ,  -722.375  ,  -706.452  ,  -690.957  ,  -675.705  ,\n",
       "        -660.418  ,  -644.841  ,  -628.889  ,  -612.635  ,  -596.249  ,\n",
       "        -579.975  ,  -564.024  ,  -548.449  ,  -533.168  ,  -518.006  ,\n",
       "        -502.713  ,  -487.089  ,  -471.104  ,  -454.876  ,  -438.6    ])"
      ]
     },
     "execution_count": 63,
     "metadata": {},
     "output_type": "execute_result"
    }
   ],
   "source": [
    "bcg[:100]"
   ]
  },
  {
   "cell_type": "code",
   "execution_count": 78,
   "metadata": {},
   "outputs": [
    {
     "data": {
      "text/plain": [
       "'file:///home/guo/Github/BCGHeart/embedding/test/temp-plot.html'"
      ]
     },
     "execution_count": 78,
     "metadata": {},
     "output_type": "execute_result"
    }
   ],
   "source": [
    "start = 0\n",
    "end = start + 100000\n",
    "plot([go.Scatter(y=bcg_py[start:end], mode=\"lines\",name=\"py\"), go.Scatter(y=bcg[start:end],mode=\"lines\",name=\"cpp\"),\n",
    "     go.Scatter(y=np.asarray(raw[start:end])+2000)])"
   ]
  },
  {
   "cell_type": "code",
   "execution_count": 34,
   "metadata": {},
   "outputs": [
    {
     "data": {
      "text/plain": [
       "7"
      ]
     },
     "execution_count": 34,
     "metadata": {},
     "output_type": "execute_result"
    }
   ],
   "source": [
    "len(b)"
   ]
  },
  {
   "cell_type": "code",
   "execution_count": 59,
   "metadata": {},
   "outputs": [
    {
     "data": {
      "text/plain": [
       "-257.305"
      ]
     },
     "execution_count": 59,
     "metadata": {},
     "output_type": "execute_result"
    }
   ],
   "source": [
    "bcg[3]"
   ]
  },
  {
   "cell_type": "code",
   "execution_count": 61,
   "metadata": {},
   "outputs": [
    {
     "data": {
      "text/plain": [
       "-5.81187287036003"
      ]
     },
     "execution_count": 61,
     "metadata": {},
     "output_type": "execute_result"
    }
   ],
   "source": [
    "bcg_py[0]"
   ]
  },
  {
   "cell_type": "markdown",
   "metadata": {},
   "source": [
    "# debug findpeaks offline"
   ]
  },
  {
   "cell_type": "code",
   "execution_count": 90,
   "metadata": {},
   "outputs": [],
   "source": [
    "signal = np.loadtxt(\"debug.signal\")"
   ]
  },
  {
   "cell_type": "code",
   "execution_count": 93,
   "metadata": {},
   "outputs": [
    {
     "data": {
      "text/plain": [
       "'file:///home/guo/Github/BCGHeart/embedding/test/temp-plot.html'"
      ]
     },
     "execution_count": 93,
     "metadata": {},
     "output_type": "execute_result"
    }
   ],
   "source": [
    "plot([go.Scatter(y=signal, mode=\"lines+markers\"),\n",
    "     go.Scatter(y=np.diff(signal))])"
   ]
  },
  {
   "cell_type": "markdown",
   "metadata": {},
   "source": [
    "# debug AutoPeaksMaster"
   ]
  },
  {
   "cell_type": "code",
   "execution_count": 94,
   "metadata": {},
   "outputs": [],
   "source": [
    "peak_indices = np.loadtxt(\"heart.txt\")"
   ]
  },
  {
   "cell_type": "code",
   "execution_count": 95,
   "metadata": {},
   "outputs": [],
   "source": [
    "raw = np.loadtxt('raw_bcg.txt')"
   ]
  },
  {
   "cell_type": "code",
   "execution_count": 96,
   "metadata": {},
   "outputs": [
    {
     "data": {
      "text/plain": [
       "'file:///home/guo/Github/BCGHeart/embedding/test/temp-plot.html'"
      ]
     },
     "execution_count": 96,
     "metadata": {},
     "output_type": "execute_result"
    }
   ],
   "source": [
    "intervals = \n",
    "plot([go.Scatter(y=np.diff(peak_indices), mode=\"lines+markers\")])"
   ]
  },
  {
   "cell_type": "code",
   "execution_count": 97,
   "metadata": {},
   "outputs": [],
   "source": [
    "intervals = np.loadtxt(\"intervals.txt\")"
   ]
  },
  {
   "cell_type": "code",
   "execution_count": 99,
   "metadata": {},
   "outputs": [
    {
     "data": {
      "text/plain": [
       "'file:///home/guo/Github/BCGHeart/embedding/test/temp-plot.html'"
      ]
     },
     "execution_count": 99,
     "metadata": {},
     "output_type": "execute_result"
    }
   ],
   "source": [
    "plot([go.Scatter(y=intervals, mode=\"lines+markers\")])"
   ]
  },
  {
   "cell_type": "code",
   "execution_count": 104,
   "metadata": {},
   "outputs": [],
   "source": [
    "from bcg import load_bcg"
   ]
  },
  {
   "cell_type": "code",
   "execution_count": 105,
   "metadata": {},
   "outputs": [],
   "source": [
    "yjj = load_bcg(\"yjj.txt\", filter=False, notch=False, resp=False, offset=9558-396)"
   ]
  },
  {
   "cell_type": "code",
   "execution_count": 107,
   "metadata": {},
   "outputs": [
    {
     "data": {
      "text/plain": [
       "'file:///home/guo/Github/BCGHeart/embedding/test/temp-plot.html'"
      ]
     },
     "execution_count": 107,
     "metadata": {},
     "output_type": "execute_result"
    }
   ],
   "source": [
    "plot([go.Scatter(y=yjj)])"
   ]
  },
  {
   "cell_type": "code",
   "execution_count": 108,
   "metadata": {},
   "outputs": [],
   "source": [
    "np.savetxt(\"yjj_raw_bcg.txt\", yjj, delimiter='\\n')"
   ]
  },
  {
   "cell_type": "code",
   "execution_count": 29,
   "metadata": {},
   "outputs": [],
   "source": [
    "yjj_intervals = np.loadtxt(\"yjj_intervals.txt\")"
   ]
  },
  {
   "cell_type": "code",
   "execution_count": 30,
   "metadata": {},
   "outputs": [
    {
     "data": {
      "text/plain": [
       "'file:///home/guo/Github/BCGHeart/embedding/test/temp-plot.html'"
      ]
     },
     "execution_count": 30,
     "metadata": {},
     "output_type": "execute_result"
    }
   ],
   "source": [
    "plot(go.Figure(data=[go.Scatter(y=yjj_intervals, mode=\"lines+markers\")], \n",
    "     layout=go.Layout(yaxis=dict(range=(300,800)))))"
   ]
  },
  {
   "cell_type": "code",
   "execution_count": 125,
   "metadata": {},
   "outputs": [
    {
     "data": {
      "text/plain": [
       "3198"
      ]
     },
     "execution_count": 125,
     "metadata": {},
     "output_type": "execute_result"
    }
   ],
   "source": [
    "len(yjj_intervals)"
   ]
  },
  {
   "cell_type": "code",
   "execution_count": null,
   "metadata": {},
   "outputs": [],
   "source": []
  }
 ],
 "metadata": {
  "kernelspec": {
   "display_name": "Python 3",
   "language": "python",
   "name": "python3"
  },
  "language_info": {
   "codemirror_mode": {
    "name": "ipython",
    "version": 3
   },
   "file_extension": ".py",
   "mimetype": "text/x-python",
   "name": "python",
   "nbconvert_exporter": "python",
   "pygments_lexer": "ipython3",
   "version": "3.6.8"
  }
 },
 "nbformat": 4,
 "nbformat_minor": 2
}
