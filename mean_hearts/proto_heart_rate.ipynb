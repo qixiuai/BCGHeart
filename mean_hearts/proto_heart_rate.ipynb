{
 "cells": [
  {
   "cell_type": "code",
   "execution_count": 13,
   "metadata": {},
   "outputs": [],
   "source": [
    "import numpy as np\n",
    "from glob import glob"
   ]
  },
  {
   "cell_type": "code",
   "execution_count": 14,
   "metadata": {},
   "outputs": [],
   "source": [
    "from bcg import load_bcg\n",
    "from fs import load_ecg\n",
    "import plotly.graph_objs as go\n",
    "from plotly.offline import plot"
   ]
  },
  {
   "cell_type": "code",
   "execution_count": 15,
   "metadata": {},
   "outputs": [
    {
     "name": "stdout",
     "output_type": "stream",
     "text": [
      "The autoreload extension is already loaded. To reload it, use:\n",
      "  %reload_ext autoreload\n"
     ]
    }
   ],
   "source": [
    "%load_ext autoreload\n",
    "%autoreload 2"
   ]
  },
  {
   "cell_type": "code",
   "execution_count": 16,
   "metadata": {},
   "outputs": [],
   "source": [
    "%reload_ext autoreload"
   ]
  },
  {
   "cell_type": "code",
   "execution_count": 17,
   "metadata": {},
   "outputs": [],
   "source": [
    "data_dir = \"/home/guo/physio/BCG_data/bcg_ecg_data/bcg_ecg_data(500HZ)/\""
   ]
  },
  {
   "cell_type": "code",
   "execution_count": 18,
   "metadata": {},
   "outputs": [],
   "source": [
    "bcg_files = glob(data_dir+\"*.txt\", recursive=False)\n",
    "ecg_files = glob(data_dir+\"*.edf\", recursive=False)"
   ]
  },
  {
   "cell_type": "code",
   "execution_count": 19,
   "metadata": {},
   "outputs": [],
   "source": [
    "bcg_files.sort()\n",
    "ecg_files.sort()"
   ]
  },
  {
   "cell_type": "code",
   "execution_count": 7,
   "metadata": {},
   "outputs": [],
   "source": [
    "import autopeaks"
   ]
  },
  {
   "cell_type": "code",
   "execution_count": 8,
   "metadata": {},
   "outputs": [],
   "source": [
    "def find_peaks_bcg(signal):\n",
    "    bcg_auto_peaks = autopeaks.AutoPeaks(thres=0.73,min_dist=300,buffer_size=1000)\n",
    "    list(map(bcg_auto_peaks.findpeaks, np.diff(signal)))\n",
    "    return bcg_auto_peaks.peak_indexes, bcg_auto_peaks.peak_values\n",
    "\n",
    "def find_peaks_ecg(signal):\n",
    "    ecg_auto_peaks = autopeaks.AutoPeaks(thres=0.7,min_dist=300,buffer_size=1000)\n",
    "    list(map(ecg_auto_peaks.findpeaks, signal))\n",
    "    return ecg_auto_peaks.peak_indexes, ecg_auto_peaks.peak_values\n"
   ]
  },
  {
   "cell_type": "code",
   "execution_count": 50,
   "metadata": {},
   "outputs": [
    {
     "name": "stdout",
     "output_type": "stream",
     "text": [
      "/home/guo/physio/BCG_data/bcg_ecg_data/bcg_ecg_data(500HZ)/yjj_bcg_wave(500HZ)(03-15 145935).txt\n"
     ]
    },
    {
     "name": "stderr",
     "output_type": "stream",
     "text": [
      "/home/guo/anaconda3/lib/python3.6/site-packages/numpy/core/fromnumeric.py:3118: RuntimeWarning:\n",
      "\n",
      "Mean of empty slice.\n",
      "\n",
      "/home/guo/anaconda3/lib/python3.6/site-packages/numpy/core/_methods.py:85: RuntimeWarning:\n",
      "\n",
      "invalid value encountered in double_scalars\n",
      "\n"
     ]
    }
   ],
   "source": [
    "import time\n",
    "\n",
    "def mean_interval(intervals):\n",
    "    hist,bin_edges = np.histogram(intervals,bins=5,range=(300,750))\n",
    "    ind = np.argmax(hist)\n",
    "    min, max = bin_edges[ind], bin_edges[ind+1]\n",
    "    cluster = []\n",
    "    for interval in intervals:\n",
    "        if interval >= min and interval <= max:\n",
    "            cluster.append(interval)\n",
    "    return np.median(cluster)\n",
    "    \n",
    "for bcg_file,ecg_file in zip(bcg_files, ecg_files):\n",
    "    if \"yjj\" not in bcg_file:\n",
    "        continue\n",
    "    print(bcg_file)\n",
    "    bcg = load_bcg(bcg_file, filter=True, notch=False,offset=39558-396 )\n",
    "    ecg = load_ecg(ecg_file, filter=True)\n",
    "    bcg = -np.asarray(bcg)\n",
    "    bcg_peak_indices, bcg_peak_values = find_peaks_bcg(bcg)\n",
    "    ecg_peak_indices, ecg_peak_values = find_peaks_ecg(ecg)\n",
    "    if False:\n",
    "        plot([go.Scatter(y=ecg),go.Scatter(x=ecg_peak_indices,y=ecg_peak_values,mode=\"markers\")])\n",
    "        time.sleep(2)\n",
    "        plot([go.Scatter(y=bcg),go.Scatter(x=bcg_peak_indices,y=bcg_peak_values,mode=\"markers\")])\n",
    "        time.sleep(2)\n",
    "    bcg_intervals = np.diff(bcg_peak_indices)\n",
    "    mean_bcg_intervals = []\n",
    "    for ind in range(len(bcg_intervals)):\n",
    "        mean_bcg_intervals.append(mean_interval(bcg_intervals[ind-15 if ind-10>=0 else 0:ind+10]))\n",
    "    ecg_intervals = np.diff(ecg_peak_indices)\n",
    "    if False:\n",
    "        plot([go.Scatter(x=bcg_peak_indices[1:],y=bcg_intervals,mode=\"lines+markers\",name=\"bcg\"),\n",
    "              go.Scatter(x=ecg_peak_indices[1:],\n",
    "                         y=ecg_intervals,mode=\"lines+markers\",name=\"ecg\")],\n",
    "             filename=bcg_file)\n",
    "    break"
   ]
  },
  {
   "cell_type": "code",
   "execution_count": null,
   "metadata": {},
   "outputs": [],
   "source": []
  },
  {
   "cell_type": "code",
   "execution_count": 10,
   "metadata": {},
   "outputs": [],
   "source": [
    "from newtown import findpeaks_by_force"
   ]
  },
  {
   "cell_type": "code",
   "execution_count": 51,
   "metadata": {},
   "outputs": [],
   "source": [
    "bcg = load_bcg(bcg_file, offset=39558-396)\n",
    "bcg = bcg[0:500000]\n",
    "ecg = ecg[0:500000]\n",
    "diff = findpeaks_by_force(bcg)\n",
    "if False:\n",
    "    plot([go.Scatter(y=diff[1:],name=\"diff\",marker=dict(color=\"green\"),mode=\"lines+markers\"),\n",
    "          go.Scatter(y=np.abs(diff)[1:],name=\"abs(diff)\",marker=dict(color=\"red\"),mode=\"lines+markers\"),\n",
    "          go.Scatter(y=np.diff(diff),name=\"diff2\",marker=dict(color=\"black\"),mode=\"lines+markers\"),\n",
    "          go.Scatter(y=np.diff(np.abs(diff)),\n",
    "                     name=\"np.diff(abs(diff))\",marker=dict(color=\"yellow\"),mode=\"lines+markers\"),\n",
    "          go.Scatter(y=np.asarray(bcg[2:])/10,name=\"bcg\",marker=dict(color='blue'), mode=\"lines+markers\"),\n",
    "          go.Scatter(y=np.asarray(ecg[2:])/100,name=\"ecg\",marker=dict(color=\"purple\"))])"
   ]
  },
  {
   "cell_type": "code",
   "execution_count": 12,
   "metadata": {},
   "outputs": [
    {
     "data": {
      "text/plain": [
       "'file:///home/guo/Github/BCGHeart/mean_hearts/temp-plot.html'"
      ]
     },
     "execution_count": 12,
     "metadata": {},
     "output_type": "execute_result"
    }
   ],
   "source": [
    "plot([go.Scatter(y=bcg,name=\"glt\")])"
   ]
  },
  {
   "cell_type": "code",
   "execution_count": 13,
   "metadata": {},
   "outputs": [
    {
     "data": {
      "text/plain": [
       "array([-1975.83831968, -1538.63651116,  -888.88376507, ...,\n",
       "        -198.1925957 ,  -170.30674474,  -160.89834825])"
      ]
     },
     "execution_count": 13,
     "metadata": {},
     "output_type": "execute_result"
    }
   ],
   "source": [
    "ecg"
   ]
  },
  {
   "cell_type": "markdown",
   "metadata": {},
   "source": [
    "# findpeaks2 dev"
   ]
  },
  {
   "cell_type": "code",
   "execution_count": 30,
   "metadata": {},
   "outputs": [],
   "source": [
    "from findpeaks2 import findpeaks2"
   ]
  },
  {
   "cell_type": "code",
   "execution_count": 52,
   "metadata": {},
   "outputs": [],
   "source": [
    "bcg = bcg[430000:450000]\n",
    "ecg = ecg[430000:450000]"
   ]
  },
  {
   "cell_type": "code",
   "execution_count": 67,
   "metadata": {},
   "outputs": [],
   "source": [
    "peaks, raw_peaks, thres_abs = findpeaks2(bcg,thres=0.65)\n",
    "peak_indices = list(map(lambda peak:peak.peak_index, peaks))\n",
    "peak_values = list(map(lambda peak:peak.peak_value/10, peaks))\n",
    "raw_peak_indices = list(map(lambda peak:peak.peak_index, raw_peaks))\n",
    "raw_indicator_value = list(map(lambda peak:peak.indicator_value, raw_peaks))\n"
   ]
  },
  {
   "cell_type": "code",
   "execution_count": 69,
   "metadata": {},
   "outputs": [
    {
     "data": {
      "text/plain": [
       "'file:///home/guo/Github/BCGHeart/mean_hearts/temp-plot.html'"
      ]
     },
     "execution_count": 69,
     "metadata": {},
     "output_type": "execute_result"
    }
   ],
   "source": [
    "plot([go.Scatter(y=bcg/10,name=\"bcg\"),\n",
    "      go.Scatter(x=peak_indices, y=peak_values, mode=\"markers\", name=\"peak\"),\n",
    "      go.Scatter(x=raw_peak_indices, y=raw_indicator_value, mode=\"lines+markers\", name=\"indicator\"),\n",
    "      \n",
    "      go.Scatter(y=ecg/100,name=\"ecg\")])"
   ]
  },
  {
   "cell_type": "code",
   "execution_count": 39,
   "metadata": {},
   "outputs": [
    {
     "data": {
      "text/plain": [
       "array([], dtype=float64)"
      ]
     },
     "execution_count": 39,
     "metadata": {},
     "output_type": "execute_result"
    }
   ],
   "source": [
    "bcg"
   ]
  },
  {
   "cell_type": "code",
   "execution_count": 49,
   "metadata": {},
   "outputs": [
    {
     "data": {
      "text/plain": [
       "array([], dtype=float64)"
      ]
     },
     "execution_count": 49,
     "metadata": {},
     "output_type": "execute_result"
    }
   ],
   "source": [
    "ecg"
   ]
  },
  {
   "cell_type": "code",
   "execution_count": 20,
   "metadata": {},
   "outputs": [],
   "source": [
    "from bcg import load_bcg\n",
    "import findpeaks2\n",
    "import autopeaks2\n",
    "import autopeaks\n",
    "def findpeaks2_in_bcg(signal, direction=\"up\"):\n",
    "    bcg_auto_peaks = autopeaks2.FindPeaks(thres=0.2, min_dist=300,buffer_size=2000, direction=direction)\n",
    "    list(map(bcg_auto_peaks.findpeaks, signal))\n",
    "    bcg_peak_indices = bcg_auto_peaks.peak_indices\n",
    "    bcg_peak_values = bcg_auto_peaks.peak_values\n",
    "    raw_extremas = bcg_auto_peaks.raw_extremas\n",
    "    raw_peaks = bcg_auto_peaks.raw_peaks\n",
    "    thres_abs = bcg_auto_peaks.thres_abs\n",
    "    extrema_index = list(map(lambda peak:peak.index, raw_extremas))\n",
    "    extrema_value = list(map(lambda peak:peak.value, raw_extremas))\n",
    "    raw_peaks_indices = list(map(lambda peak:peak.peak_index, raw_peaks))\n",
    "    raw_peaks_scores = list(map(lambda peak:peak.peak_score, raw_peaks))\n",
    "    raw_peaks_indicators = list(map(lambda peak:peak.indicator_value, raw_peaks))\n",
    "    return bcg_peak_indices, bcg_peak_values, extrema_index, extrema_value, raw_peaks_indices, raw_peaks_indicators, raw_peaks_scores, thres_abs\n",
    "\n",
    "def findpeaks_in_ecg(signal):\n",
    "    ecg_auto_peaks = autopeaks.AutoPeaks(thres=0.7,min_dist=300,buffer_size=1000)\n",
    "    list(map(ecg_auto_peaks.findpeaks, signal))\n",
    "    return ecg_auto_peaks.peak_indexes, ecg_auto_peaks.peak_values\n",
    "\n",
    "def findpeaks_for_bcg_and_ecg(bcg_file, ecg_file,direction=\"up\",offset=0, is_return=False):\n",
    "    if offset>=0:\n",
    "        bcg_offset = offset\n",
    "    else:\n",
    "        bcg_offset = 0\n",
    "    bcg = load_bcg(bcg_file, offset=bcg_offset)\n",
    "    ecg = load_ecg(ecg_file, filter=True)\n",
    "    if offset < 0:\n",
    "        ecg = ecg[-offset:]\n",
    "    #print(bcg[:100])\n",
    "    start = 100000\n",
    "    end = start + 400000\n",
    "    #bcg = bcg[start:end]\n",
    "    #ecg = ecg[start:end]\n",
    "    bcg_peak_indices, bcg_peak_values, extrema_indices, extrema_values, raw_peaks_indices, raw_peaks_indicators, raw_peaks_scores, thres_abses =  findpeaks2_in_bcg(np.asarray(bcg), direction=direction)\n",
    "    ecg_peak_indices, ecg_peak_values = findpeaks_in_ecg(ecg)\n",
    "    #np.savetxt(\"glt.txt\", np.diff(bcg_peak_indices[1:]), delimiter=',', fmt=\"%d\")\n",
    "    if is_return:\n",
    "        return bcg_peak_indices, ecg_peak_indices\n",
    "    if True:\n",
    "        plot(go.Figure(data=[go.Scatter(x=bcg_peak_indices[1:],\n",
    "                                        y=np.diff(bcg_peak_indices),  \n",
    "                                        mode=\"lines+markers\",\n",
    "                                        name=\"bcg_intervals\",\n",
    "                                        marker=dict(color=\"blue\")),\n",
    "                             go.Scatter(x=ecg_peak_indices[1:], \n",
    "                                        y=np.diff(ecg_peak_indices), \n",
    "                                        mode=\"lines+markers\", \n",
    "                                        name=\"ecg_intervals\",\n",
    "                                        marker=dict(color=\"green\")),],                       \n",
    "                            #go.Scatter(x=ecg_peak_indices[1:], \n",
    "                            #            y=np.diff(ecg_peak_indices)+30, \n",
    "                            #            mode=\"lines\", \n",
    "                            #            name=\"ecg_intervals_upper\",\n",
    "                            #            marker=dict(color=\"red\")),\n",
    "                            #go.Scatter(x=ecg_peak_indices[1:], \n",
    "                            #            y=np.diff(ecg_peak_indices)-30, \n",
    "                            #            mode=\"lines\", \n",
    "                            #            name=\"ecg_intervals\",\n",
    "                            #            marker=dict(color=\"red\")),],\n",
    "                      layout=go.Layout(yaxis=dict(range=[250,1500]))),filename=bcg_file+direction)\n",
    "    if True:\n",
    "        plot([go.Scatter(y=bcg[1:],name=\"bcg\", marker=dict(color=\"blue\")),\n",
    "              #go.Scatter(y=np.diff(bcg), name=\"dff1\", marker=dict(color=\"green\")),\n",
    "              #go.Scatter(y=np.abs(np.diff(bcg)), name=\"dff1_abs\", marker=dict(color=\"red\")),\n",
    "              #go.Scatter(y=np.diff(np.abs(np.diff(bcg))), name=\"diff(dff1_abs)\", marker=dict(color=\"yellow\")),\n",
    "              go.Scatter(x=bcg_peak_indices, y=np.asarray(bcg_peak_values), mode=\"markers\", name=\"peak\"),\n",
    "              #go.Scatter(x=extrema_indices,y=extrema_values,\n",
    "              #           mode=\"markers\",\n",
    "              #           name=\"raw_extremas\",\n",
    "              #           marker=dict(color=\"orange\")),              \n",
    "              #go.Scatter(x=raw_peaks_indices,y=raw_peaks_indicators,\n",
    "              #           mode=\"lines+markers\",\n",
    "              #           name=\"raw_peaks_indicator\",\n",
    "              #           marker=dict(color=\"red\")),\n",
    "              #go.Scatter(x=raw_peaks_indices,y=raw_peaks_scores,\n",
    "              #           mode=\"lines+markers\",\n",
    "              #           name=\"raw_peaks_score\",\n",
    "              #           marker=dict(color=\"deepskyblue\")),\n",
    "              #go.Scatter(y=thres_abses,\n",
    "              #           mode=\"lines\",\n",
    "              #           name=\"thres_abs\",\n",
    "              #           marker=dict(color=\"black\")),\n",
    "              go.Scatter(y=ecg[1:]/20,name=\"ecg\", marker=dict(color=\"purple\"))],filename=bcg_file+direction)"
   ]
  },
  {
   "cell_type": "code",
   "execution_count": 32,
   "metadata": {},
   "outputs": [],
   "source": [
    "from bcg import load_bcg\n",
    "import findpeaks2\n",
    "import autopeaks2\n",
    "import autopeaks\n",
    "def master_findpeaks2_in_bcg(signal):\n",
    "    bcg_auto_peaks_master = autopeaks2.FindPeaksMaster(fs=500)\n",
    "    list(map(bcg_auto_peaks_master.findpeaks, signal))\n",
    "    bcg_peak_indices = bcg_auto_peaks_master.peak_indices\n",
    "    bcg_peak_values = bcg_auto_peaks_master.peak_values\n",
    "    bcg_peak_intervals = bcg_auto_peaks_master.peak_intervals\n",
    "    #raw_extremas = bcg_auto_peaks.raw_extremas\n",
    "    #raw_peaks = bcg_auto_peaks.raw_peaks\n",
    "    #thres_abs = bcg_auto_peaks.thres_abs\n",
    "    #extrema_index = list(map(lambda peak:peak.index, raw_extremas))\n",
    "    #extrema_value = list(map(lambda peak:peak.value, raw_extremas))\n",
    "    #raw_peaks_indices = list(map(lambda peak:peak.peak_index, raw_peaks))\n",
    "    #raw_peaks_scores = list(map(lambda peak:peak.peak_score, raw_peaks))\n",
    "    #raw_peaks_indicators = list(map(lambda peak:peak.indicator_value, raw_peaks))\n",
    "    #return bcg_peak_indices, bcg_peak_values, extrema_index, extrema_value, raw_peaks_indices, raw_peaks_indicators, raw_peaks_scores, thres_abs\n",
    "    return bcg_peak_indices, bcg_peak_intervals, bcg_peak_values\n",
    "\n",
    "def findpeaks_in_ecg(signal):\n",
    "    ecg_auto_peaks = autopeaks.AutoPeaks(thres=0.7,min_dist=300,buffer_size=1000)\n",
    "    list(map(ecg_auto_peaks.findpeaks, signal))\n",
    "    return ecg_auto_peaks.peak_indexes, ecg_auto_peaks.peak_values\n",
    "\n",
    "def master_findpeaks_for_bcg_and_ecg(bcg_file, ecg_file, offset=0, is_return=False):\n",
    "    if offset >= 0:\n",
    "        bcg_offset = offset\n",
    "    else:\n",
    "        bcg_offset = 0\n",
    "    bcg = load_bcg(bcg_file, offset=bcg_offset)\n",
    "    ecg = load_ecg(ecg_file, filter=True)\n",
    "    if offset < 0:\n",
    "        ecg = ecg[-offset:]\n",
    "    #print(bcg[:100])\n",
    "    start = 100000\n",
    "    end = start + 400000\n",
    "    #bcg = bcg[start:end]\n",
    "    #ecg = ecg[start:end]\n",
    "    #bcg_peak_indices, bcg_peak_values, extrema_indices, extrema_values, raw_peaks_indices, raw_peaks_indicators, raw_peaks_scores, thres_abses =  findpeaks2_in_bcg(np.asarray(bcg), direction=direction)\n",
    "    bcg_peak_indices, bcg_peak_intervals, bcg_peak_values =  master_findpeaks2_in_bcg(np.asarray(bcg))\n",
    "    ecg_peak_indices, ecg_peak_values = findpeaks_in_ecg(ecg)\n",
    "    #np.savetxt(\"glt.txt\", np.diff(bcg_peak_indices[1:]), delimiter=',', fmt=\"%d\")\n",
    "    if is_return:\n",
    "        return bcg_peak_indices, bcg_peak_intervals, ecg_peak_indices\n",
    "    if False:\n",
    "        plot(go.Figure(data=[go.Scatter(x=bcg_peak_indices[1:],\n",
    "                                        y=np.diff(bcg_peak_indices),  \n",
    "                                        mode=\"lines+markers\",\n",
    "                                        name=\"bcg_intervals\",\n",
    "                                        marker=dict(color=\"blue\")),\n",
    "                             go.Scatter(x=ecg_peak_indices[1:], \n",
    "                                        y=np.diff(ecg_peak_indices), \n",
    "                                        mode=\"lines+markers\", \n",
    "                                        name=\"ecg_intervals\",\n",
    "                                        marker=dict(color=\"green\")),],                       \n",
    "                            #go.Scatter(x=ecg_peak_indices[1:], \n",
    "                            #            y=np.diff(ecg_peak_indices)+30, \n",
    "                            #            mode=\"lines\", \n",
    "                            #            name=\"ecg_intervals_upper\",\n",
    "                            #            marker=dict(color=\"red\")),\n",
    "                            #go.Scatter(x=ecg_peak_indices[1:], \n",
    "                            #            y=np.diff(ecg_peak_indices)-30, \n",
    "                            #            mode=\"lines\", \n",
    "                            #            name=\"ecg_intervals\",\n",
    "                            #            marker=dict(color=\"red\")),],\n",
    "                      layout=go.Layout(yaxis=dict(range=[250,1500]))),filename=bcg_file)\n",
    "    if False:\n",
    "        plot([go.Scatter(y=bcg[1:],name=\"bcg\", marker=dict(color=\"blue\")),\n",
    "              #go.Scatter(y=np.diff(bcg), name=\"dff1\", marker=dict(color=\"green\")),\n",
    "              #go.Scatter(y=np.abs(np.diff(bcg)), name=\"dff1_abs\", marker=dict(color=\"red\")),\n",
    "              #go.Scatter(y=np.diff(np.abs(np.diff(bcg))), name=\"diff(dff1_abs)\", marker=dict(color=\"yellow\")),\n",
    "              go.Scatter(x=bcg_peak_indices, y=np.asarray(bcg_peak_values), mode=\"markers\", name=\"peak\"),\n",
    "              #go.Scatter(x=extrema_indices,y=extrema_values,\n",
    "              #           mode=\"markers\",\n",
    "              #           name=\"raw_extremas\",\n",
    "              #           marker=dict(color=\"orange\")),              \n",
    "              #go.Scatter(x=raw_peaks_indices,y=raw_peaks_indicators,\n",
    "              #           mode=\"lines+markers\",\n",
    "              #           name=\"raw_peaks_indicator\",\n",
    "              #           marker=dict(color=\"red\")),\n",
    "              #go.Scatter(x=raw_peaks_indices,y=raw_peaks_scores,\n",
    "              #           mode=\"lines+markers\",\n",
    "              #           name=\"raw_peaks_score\",\n",
    "              #           marker=dict(color=\"deepskyblue\")),\n",
    "              #go.Scatter(y=thres_abses,\n",
    "              #           mode=\"lines\",\n",
    "              #           name=\"thres_abs\",\n",
    "              #           marker=dict(color=\"black\")),\n",
    "              go.Scatter(y=ecg[1:]/20,name=\"ecg\", marker=dict(color=\"purple\"))],filename=bcg_file)"
   ]
  },
  {
   "cell_type": "code",
   "execution_count": 33,
   "metadata": {
    "scrolled": true
   },
   "outputs": [
    {
     "name": "stdout",
     "output_type": "stream",
     "text": [
      "/home/guo/physio/BCG_data/bcg_ecg_data/bcg_ecg_data(500HZ)/glt_bcg_wave(500HZ)(03-15 142141).txt\n",
      "offset: 75926\n"
     ]
    },
    {
     "name": "stderr",
     "output_type": "stream",
     "text": [
      "/home/guo/anaconda3/lib/python3.6/site-packages/plotly/offline/offline.py:451: UserWarning:\n",
      "\n",
      "Your filename `/home/guo/physio/BCG_data/bcg_ecg_data/bcg_ecg_data(500HZ)/glt_bcg_wave(500HZ)(03-15 142141).txt` didn't end with .html. Adding .html to the end of your file.\n",
      "\n"
     ]
    },
    {
     "name": "stdout",
     "output_type": "stream",
     "text": [
      "/home/guo/physio/BCG_data/bcg_ecg_data/bcg_ecg_data(500HZ)/hwm_bcg_wave(500HZ)(03-15 200629).txt\n",
      "offset: 75784\n"
     ]
    },
    {
     "name": "stderr",
     "output_type": "stream",
     "text": [
      "/home/guo/anaconda3/lib/python3.6/site-packages/plotly/offline/offline.py:451: UserWarning:\n",
      "\n",
      "Your filename `/home/guo/physio/BCG_data/bcg_ecg_data/bcg_ecg_data(500HZ)/hwm_bcg_wave(500HZ)(03-15 200629).txt` didn't end with .html. Adding .html to the end of your file.\n",
      "\n"
     ]
    },
    {
     "name": "stdout",
     "output_type": "stream",
     "text": [
      "/home/guo/physio/BCG_data/bcg_ecg_data/bcg_ecg_data(500HZ)/lcc_bcg_wave(500HZ)(03-15 141708).txt\n",
      "offset: 68277\n"
     ]
    },
    {
     "name": "stderr",
     "output_type": "stream",
     "text": [
      "/home/guo/anaconda3/lib/python3.6/site-packages/plotly/offline/offline.py:451: UserWarning:\n",
      "\n",
      "Your filename `/home/guo/physio/BCG_data/bcg_ecg_data/bcg_ecg_data(500HZ)/lcc_bcg_wave(500HZ)(03-15 141708).txt` didn't end with .html. Adding .html to the end of your file.\n",
      "\n"
     ]
    },
    {
     "name": "stdout",
     "output_type": "stream",
     "text": [
      "/home/guo/physio/BCG_data/bcg_ecg_data/bcg_ecg_data(500HZ)/lifeng_bcg_wave(500HZ)(05-10 160458).txt\n",
      "offset: 68925\n"
     ]
    },
    {
     "name": "stderr",
     "output_type": "stream",
     "text": [
      "/home/guo/anaconda3/lib/python3.6/site-packages/plotly/offline/offline.py:451: UserWarning:\n",
      "\n",
      "Your filename `/home/guo/physio/BCG_data/bcg_ecg_data/bcg_ecg_data(500HZ)/lifeng_bcg_wave(500HZ)(05-10 160458).txt` didn't end with .html. Adding .html to the end of your file.\n",
      "\n"
     ]
    },
    {
     "name": "stdout",
     "output_type": "stream",
     "text": [
      "/home/guo/physio/BCG_data/bcg_ecg_data/bcg_ecg_data(500HZ)/wkp_bcg_wave(500HZ)(05-14 161520).txt\n",
      "offset: 5004\n"
     ]
    },
    {
     "name": "stderr",
     "output_type": "stream",
     "text": [
      "/home/guo/anaconda3/lib/python3.6/site-packages/plotly/offline/offline.py:451: UserWarning:\n",
      "\n",
      "Your filename `/home/guo/physio/BCG_data/bcg_ecg_data/bcg_ecg_data(500HZ)/wkp_bcg_wave(500HZ)(05-14 161520).txt` didn't end with .html. Adding .html to the end of your file.\n",
      "\n"
     ]
    },
    {
     "name": "stdout",
     "output_type": "stream",
     "text": [
      "/home/guo/physio/BCG_data/bcg_ecg_data/bcg_ecg_data(500HZ)/wsx_bcg_wave(500HZ).txt\n",
      "offset: 0\n"
     ]
    },
    {
     "name": "stderr",
     "output_type": "stream",
     "text": [
      "/home/guo/anaconda3/lib/python3.6/site-packages/plotly/offline/offline.py:451: UserWarning:\n",
      "\n",
      "Your filename `/home/guo/physio/BCG_data/bcg_ecg_data/bcg_ecg_data(500HZ)/wsx_bcg_wave(500HZ).txt` didn't end with .html. Adding .html to the end of your file.\n",
      "\n"
     ]
    },
    {
     "name": "stdout",
     "output_type": "stream",
     "text": [
      "/home/guo/physio/BCG_data/bcg_ecg_data/bcg_ecg_data(500HZ)/yjj_bcg_wave(500HZ)(03-15 145935).txt\n",
      "offset: 39162\n"
     ]
    },
    {
     "name": "stderr",
     "output_type": "stream",
     "text": [
      "/home/guo/anaconda3/lib/python3.6/site-packages/plotly/offline/offline.py:451: UserWarning:\n",
      "\n",
      "Your filename `/home/guo/physio/BCG_data/bcg_ecg_data/bcg_ecg_data(500HZ)/yjj_bcg_wave(500HZ)(03-15 145935).txt` didn't end with .html. Adding .html to the end of your file.\n",
      "\n"
     ]
    },
    {
     "name": "stdout",
     "output_type": "stream",
     "text": [
      "/home/guo/physio/BCG_data/bcg_ecg_data/bcg_ecg_data(500HZ)/zcj_bcg_wave(500HZ)(03-15 154123).txt\n",
      "offset: -10065\n"
     ]
    },
    {
     "name": "stderr",
     "output_type": "stream",
     "text": [
      "/home/guo/anaconda3/lib/python3.6/site-packages/plotly/offline/offline.py:451: UserWarning:\n",
      "\n",
      "Your filename `/home/guo/physio/BCG_data/bcg_ecg_data/bcg_ecg_data(500HZ)/zcj_bcg_wave(500HZ)(03-15 154123).txt` didn't end with .html. Adding .html to the end of your file.\n",
      "\n"
     ]
    },
    {
     "name": "stdout",
     "output_type": "stream",
     "text": [
      "/home/guo/physio/BCG_data/bcg_ecg_data/bcg_ecg_data(500HZ)/zyh_bcg_wave(500HZ)(05-10 132226).txt\n",
      "offset: 285417\n"
     ]
    },
    {
     "name": "stderr",
     "output_type": "stream",
     "text": [
      "/home/guo/anaconda3/lib/python3.6/site-packages/plotly/offline/offline.py:451: UserWarning:\n",
      "\n",
      "Your filename `/home/guo/physio/BCG_data/bcg_ecg_data/bcg_ecg_data(500HZ)/zyh_bcg_wave(500HZ)(05-10 132226).txt` didn't end with .html. Adding .html to the end of your file.\n",
      "\n"
     ]
    }
   ],
   "source": [
    "import time\n",
    "\n",
    "def get_bcg_offset(bcg_file):\n",
    "    offset = 0\n",
    "    if \"yjj\" in bcg_file:\n",
    "        offset = 39558-396\n",
    "    elif \"glt\" in bcg_file:\n",
    "        offset = 36621 + 39421 - 116\n",
    "    elif \"hwm\" in bcg_file:\n",
    "        offset = 1000 + 74953 - 169\n",
    "    elif \"lcc\" in bcg_file:\n",
    "        offset = 60000 + 8287 - 10\n",
    "    elif \"lifeng\" in bcg_file:\n",
    "        offset = 90000 - 25471 + 4396\n",
    "    elif \"zyh\" in bcg_file:\n",
    "        offset = 300000 - 14583\n",
    "    elif \"zcj\" in bcg_file:\n",
    "        offset = -10235 + 170\n",
    "    elif \"wkp\" in bcg_file:\n",
    "        offset = 5004\n",
    "    return offset\n",
    "\n",
    "for bcg_file,ecg_file in zip(bcg_files, ecg_files):\n",
    "    #if \"glt\" not in bcg_file:\n",
    "    #    continue\n",
    "    print(bcg_file)\n",
    "    offset = get_bcg_offset(bcg_file)\n",
    "    print(\"offset: {}\".format(offset))\n",
    "    bcg_peak_indices, bcg_peak_intervals, ecg_peak_indices = master_findpeaks_for_bcg_and_ecg(bcg_file, ecg_file, offset=offset, is_return=True)\n",
    "    #bcg_peak_indices_up, _ = findpeaks_for_bcg_and_ecg(bcg_file, ecg_file, offset=offset,direction=\"up\", is_return=True)\n",
    "    #time.sleep(1)\n",
    "    #bcg_peak_indices_down, _ = findpeaks_for_bcg_and_ecg(bcg_file, ecg_file, offset=offset,direction=\"down\", is_return=True)\n",
    "    plot(go.Figure(data=[\n",
    "        go.Scatter(x=bcg_peak_indices[1:],y=bcg_peak_intervals[1:], mode=\"lines+markers\", marker=dict(color=\"black\"),name=\"master\"),\n",
    "        #go.Scatter(x=bcg_peak_indices_up[1:],y=np.diff(bcg_peak_indices_up), mode=\"lines+markers\", marker=dict(color=\"blue\"), name=\"up\"),\n",
    "        #go.Scatter(x=bcg_peak_indices_down[1:],y=np.diff(bcg_peak_indices_down), mode=\"lines+markers\", marker=dict(color=\"green\"), name=\"down\"),\n",
    "        go.Scatter(x=ecg_peak_indices[1:],y=np.diff(ecg_peak_indices), mode=\"lines+markers\", marker=dict(color=\"red\"), name=\"ecg\"),],layout=go.Layout(yaxis=dict(range=(300, 800)))),filename=bcg_file)"
   ]
  },
  {
   "cell_type": "code",
   "execution_count": null,
   "metadata": {},
   "outputs": [],
   "source": [
    "plot([go.Scatter(y=bcg/10,name=\"bcg\"),\n",
    "      go.Scatter(x=peak_indices, y=np.asarray(peak_values)/10, mode=\"markers\", name=\"peak\"),\n",
    "      #go.Scatter(x=raw_peak_indices, y=raw_indicator_value, mode=\"lines+markers\", name=\"indicator\"),\n",
    "      go.Scatter(y=ecg/100,name=\"ecg\")])"
   ]
  },
  {
   "cell_type": "code",
   "execution_count": 45,
   "metadata": {},
   "outputs": [],
   "source": [
    "import findpeaks2\n",
    "from findpeaks2 import Peak"
   ]
  },
  {
   "cell_type": "code",
   "execution_count": 46,
   "metadata": {},
   "outputs": [],
   "source": [
    "raw_peaks = [findpeaks2.Peak(peak_index=133, peak_value=171.47134869035574, front_index=122, front_value=9.3124041008777, front_front_index=111, front_front_value=9.08998513328347, back_index=144, back_value=5.907677284305521, back_back_index=161, back_back_value=7.588593216305682, indicator_value=15.22008138518322, peak_score=4), Peak(peak_index=321, peak_value=86.11892502506966, front_index=311, front_value=5.147337516434632, front_front_index=275, front_front_value=4.3090809159431736, back_index=336, back_value=10.348391835013182, back_back_index=368, back_back_value=5.563022101992402, indicator_value=15.495729351447814, peak_score=2), Peak(peak_index=413, peak_value=273.6858032668417, front_index=397, front_value=16.10281339447046, front_front_index=368, front_front_value=5.563022101992402, back_index=429, back_value=14.730496746553882, back_back_index=503, back_back_value=5.100019532254294, indicator_value=30.83331014102434, peak_score=6), Peak(peak_index=561, peak_value=128.23463671008494, front_index=537, front_value=5.632014670497085, front_front_index=503, front_front_value=5.100019532254294, back_index=576, back_value=6.827788521249431, back_back_index=597, back_back_value=4.744278060543429, indicator_value=12.459803191746516, peak_score=1), Peak(peak_index=740, peak_value=126.70827016420411, front_index=706, front_value=9.199566821369078, front_front_index=689, front_front_value=6.733857659132082, back_index=761, back_value=11.311799784682151, back_back_index=827, back_back_value=13.52210596002978, indicator_value=20.51136660605123, peak_score=4), Peak(peak_index=841, peak_value=142.01820873751709, front_index=827, front_value=13.52210596002978, front_front_index=761, front_front_value=11.311799784682151, back_index=857, back_value=10.702741211083797, back_back_index=885, back_back_value=2.849768954834076, indicator_value=24.224847171113577, peak_score=4)]"
   ]
  },
  {
   "cell_type": "code",
   "execution_count": 47,
   "metadata": {},
   "outputs": [],
   "source": [
    "raw_peaks.sort(key=lambda peak:peak.peak_score)"
   ]
  },
  {
   "cell_type": "code",
   "execution_count": 48,
   "metadata": {},
   "outputs": [
    {
     "data": {
      "text/plain": [
       "[Peak(peak_index=561, peak_value=128.23463671008494, front_index=537, front_value=5.632014670497085, front_front_index=503, front_front_value=5.100019532254294, back_index=576, back_value=6.827788521249431, back_back_index=597, back_back_value=4.744278060543429, indicator_value=12.459803191746516, peak_score=1),\n",
       " Peak(peak_index=321, peak_value=86.11892502506966, front_index=311, front_value=5.147337516434632, front_front_index=275, front_front_value=4.3090809159431736, back_index=336, back_value=10.348391835013182, back_back_index=368, back_back_value=5.563022101992402, indicator_value=15.495729351447814, peak_score=2),\n",
       " Peak(peak_index=133, peak_value=171.47134869035574, front_index=122, front_value=9.3124041008777, front_front_index=111, front_front_value=9.08998513328347, back_index=144, back_value=5.907677284305521, back_back_index=161, back_back_value=7.588593216305682, indicator_value=15.22008138518322, peak_score=4),\n",
       " Peak(peak_index=740, peak_value=126.70827016420411, front_index=706, front_value=9.199566821369078, front_front_index=689, front_front_value=6.733857659132082, back_index=761, back_value=11.311799784682151, back_back_index=827, back_back_value=13.52210596002978, indicator_value=20.51136660605123, peak_score=4),\n",
       " Peak(peak_index=841, peak_value=142.01820873751709, front_index=827, front_value=13.52210596002978, front_front_index=761, front_front_value=11.311799784682151, back_index=857, back_value=10.702741211083797, back_back_index=885, back_back_value=2.849768954834076, indicator_value=24.224847171113577, peak_score=4),\n",
       " Peak(peak_index=413, peak_value=273.6858032668417, front_index=397, front_value=16.10281339447046, front_front_index=368, front_front_value=5.563022101992402, back_index=429, back_value=14.730496746553882, back_back_index=503, back_back_value=5.100019532254294, indicator_value=30.83331014102434, peak_score=6)]"
      ]
     },
     "execution_count": 48,
     "metadata": {},
     "output_type": "execute_result"
    }
   ],
   "source": [
    "raw_peaks"
   ]
  },
  {
   "cell_type": "code",
   "execution_count": 49,
   "metadata": {},
   "outputs": [],
   "source": [
    "peak_small = raw_peaks[-3]\n",
    "peak_big = raw_peaks[-2]"
   ]
  },
  {
   "cell_type": "code",
   "execution_count": 50,
   "metadata": {},
   "outputs": [
    {
     "data": {
      "text/plain": [
       "False"
      ]
     },
     "execution_count": 50,
     "metadata": {},
     "output_type": "execute_result"
    }
   ],
   "source": [
    "peak_small > peak_big"
   ]
  },
  {
   "cell_type": "code",
   "execution_count": 51,
   "metadata": {},
   "outputs": [
    {
     "data": {
      "text/plain": [
       "True"
      ]
     },
     "execution_count": 51,
     "metadata": {},
     "output_type": "execute_result"
    }
   ],
   "source": [
    "peak_big > peak_small"
   ]
  },
  {
   "cell_type": "code",
   "execution_count": 52,
   "metadata": {},
   "outputs": [
    {
     "data": {
      "text/plain": [
       "(Peak(peak_index=841, peak_value=142.01820873751709, front_index=827, front_value=13.52210596002978, front_front_index=761, front_front_value=11.311799784682151, back_index=857, back_value=10.702741211083797, back_back_index=885, back_back_value=2.849768954834076, indicator_value=24.224847171113577, peak_score=4),\n",
       " Peak(peak_index=740, peak_value=126.70827016420411, front_index=706, front_value=9.199566821369078, front_front_index=689, front_front_value=6.733857659132082, back_index=761, back_value=11.311799784682151, back_back_index=827, back_back_value=13.52210596002978, indicator_value=20.51136660605123, peak_score=4))"
      ]
     },
     "execution_count": 52,
     "metadata": {},
     "output_type": "execute_result"
    }
   ],
   "source": [
    "peak_big,peak_small"
   ]
  },
  {
   "cell_type": "code",
   "execution_count": 79,
   "metadata": {},
   "outputs": [
    {
     "name": "stdout",
     "output_type": "stream",
     "text": [
      "0\n",
      "1\n",
      "3\n",
      "3\n",
      "3\n",
      "5\n"
     ]
    }
   ],
   "source": [
    "peaks_with_score = []\n",
    "\n",
    "def score_peak(curr_peak, peaks):\n",
    "    score = 0\n",
    "    for peak in peaks:\n",
    "        if curr_peak > peak:\n",
    "            score += 1\n",
    "    return score\n",
    "\n",
    "for curr_peak in raw_peaks:\n",
    "    args = list(curr_peak)\n",
    "    s = score_peak(curr_peak, raw_peaks)\n",
    "    print(s)\n",
    "    args[-1] = s\n",
    "    peaks_with_score.append(Peak(*args))\n"
   ]
  },
  {
   "cell_type": "code",
   "execution_count": 80,
   "metadata": {},
   "outputs": [
    {
     "data": {
      "text/plain": [
       "[Peak(peak_index=561, peak_value=128.23463671008494, front_index=537, front_value=5.632014670497085, front_front_index=503, front_front_value=5.100019532254294, back_index=576, back_value=6.827788521249431, back_back_index=597, back_back_value=4.744278060543429, indicator_value=12.459803191746516, peak_score=0),\n",
       " Peak(peak_index=321, peak_value=86.11892502506966, front_index=311, front_value=5.147337516434632, front_front_index=275, front_front_value=4.3090809159431736, back_index=336, back_value=10.348391835013182, back_back_index=368, back_back_value=5.563022101992402, indicator_value=15.495729351447814, peak_score=1),\n",
       " Peak(peak_index=133, peak_value=171.47134869035574, front_index=122, front_value=9.3124041008777, front_front_index=111, front_front_value=9.08998513328347, back_index=144, back_value=5.907677284305521, back_back_index=161, back_back_value=7.588593216305682, indicator_value=15.22008138518322, peak_score=3),\n",
       " Peak(peak_index=740, peak_value=126.70827016420411, front_index=706, front_value=9.199566821369078, front_front_index=689, front_front_value=6.733857659132082, back_index=761, back_value=11.311799784682151, back_back_index=827, back_back_value=13.52210596002978, indicator_value=20.51136660605123, peak_score=3),\n",
       " Peak(peak_index=841, peak_value=142.01820873751709, front_index=827, front_value=13.52210596002978, front_front_index=761, front_front_value=11.311799784682151, back_index=857, back_value=10.702741211083797, back_back_index=885, back_back_value=2.849768954834076, indicator_value=24.224847171113577, peak_score=3),\n",
       " Peak(peak_index=413, peak_value=273.6858032668417, front_index=397, front_value=16.10281339447046, front_front_index=368, front_front_value=5.563022101992402, back_index=429, back_value=14.730496746553882, back_back_index=503, back_back_value=5.100019532254294, indicator_value=30.83331014102434, peak_score=5)]"
      ]
     },
     "execution_count": 80,
     "metadata": {},
     "output_type": "execute_result"
    }
   ],
   "source": [
    "peaks_with_score"
   ]
  },
  {
   "cell_type": "code",
   "execution_count": 77,
   "metadata": {},
   "outputs": [
    {
     "data": {
      "text/plain": [
       "3"
      ]
     },
     "execution_count": 77,
     "metadata": {},
     "output_type": "execute_result"
    }
   ],
   "source": [
    "score_peak(peak_small,raw_peaks)"
   ]
  },
  {
   "cell_type": "code",
   "execution_count": 87,
   "metadata": {},
   "outputs": [
    {
     "data": {
      "text/plain": [
       "False"
      ]
     },
     "execution_count": 87,
     "metadata": {},
     "output_type": "execute_result"
    }
   ],
   "source": [
    "peak_big > raw_peaks[2]"
   ]
  },
  {
   "cell_type": "code",
   "execution_count": 62,
   "metadata": {},
   "outputs": [
    {
     "data": {
      "text/plain": [
       "[413,\n",
       " 273.6858032668417,\n",
       " 397,\n",
       " 16.10281339447046,\n",
       " 368,\n",
       " 5.563022101992402,\n",
       " 429,\n",
       " 14.730496746553882,\n",
       " 503,\n",
       " 5.100019532254294,\n",
       " 30.83331014102434,\n",
       " 6]"
      ]
     },
     "execution_count": 62,
     "metadata": {},
     "output_type": "execute_result"
    }
   ],
   "source": [
    "args"
   ]
  },
  {
   "cell_type": "code",
   "execution_count": 90,
   "metadata": {},
   "outputs": [
    {
     "data": {
      "text/plain": [
       "array([[561, 128.23463671008494, 537, 5.632014670497085, 503,\n",
       "        5.100019532254294, 576, 6.827788521249431, 597,\n",
       "        4.744278060543429, 12.459803191746516, 1],\n",
       "       [321, 86.11892502506966, 311, 5.147337516434632, 275,\n",
       "        4.3090809159431736, 336, 10.348391835013182, 368,\n",
       "        5.563022101992402, 15.495729351447814, 2],\n",
       "       [133, 171.47134869035574, 122, 9.3124041008777, 111,\n",
       "        9.08998513328347, 144, 5.907677284305521, 161, 7.588593216305682,\n",
       "        15.22008138518322, 4],\n",
       "       [740, 126.70827016420411, 706, 9.199566821369078, 689,\n",
       "        6.733857659132082, 761, 11.311799784682151, 827,\n",
       "        13.52210596002978, 20.51136660605123, 4],\n",
       "       [841, 142.01820873751709, 827, 13.52210596002978, 761,\n",
       "        11.311799784682151, 857, 10.702741211083797, 885,\n",
       "        2.849768954834076, 24.224847171113577, 4],\n",
       "       [413, 273.6858032668417, 397, 16.10281339447046, 368,\n",
       "        5.563022101992402, 429, 14.730496746553882, 503,\n",
       "        5.100019532254294, 30.83331014102434, 6]], dtype=object)"
      ]
     },
     "execution_count": 90,
     "metadata": {},
     "output_type": "execute_result"
    }
   ],
   "source": [
    "np.asarray(raw_peaks,dtype=Peak)"
   ]
  },
  {
   "cell_type": "code",
   "execution_count": null,
   "metadata": {},
   "outputs": [],
   "source": []
  }
 ],
 "metadata": {
  "kernelspec": {
   "display_name": "Python 3",
   "language": "python",
   "name": "python3"
  },
  "language_info": {
   "codemirror_mode": {
    "name": "ipython",
    "version": 3
   },
   "file_extension": ".py",
   "mimetype": "text/x-python",
   "name": "python",
   "nbconvert_exporter": "python",
   "pygments_lexer": "ipython3",
   "version": "3.6.6"
  }
 },
 "nbformat": 4,
 "nbformat_minor": 2
}
