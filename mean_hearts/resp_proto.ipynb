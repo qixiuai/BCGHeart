{
 "cells": [
  {
   "cell_type": "code",
   "execution_count": 9,
   "metadata": {},
   "outputs": [
    {
     "name": "stdout",
     "output_type": "stream",
     "text": [
      "The autoreload extension is already loaded. To reload it, use:\n",
      "  %reload_ext autoreload\n"
     ]
    }
   ],
   "source": [
    "import numpy as np\n",
    "from glob import glob\n",
    "from bcg import load_bcg\n",
    "from fs import load_ecg\n",
    "import plotly.graph_objs as go\n",
    "from plotly.offline import plot\n",
    "%load_ext autoreload\n",
    "%autoreload 2"
   ]
  },
  {
   "cell_type": "code",
   "execution_count": 10,
   "metadata": {},
   "outputs": [],
   "source": [
    "data_dir = \"/home/guo/physio/BCG_data/bcg_ecg_data/bcg_ecg_data(500HZ)/\""
   ]
  },
  {
   "cell_type": "code",
   "execution_count": 11,
   "metadata": {},
   "outputs": [],
   "source": [
    "bcg_files = glob(data_dir+\"*.txt\", recursive=False)\n",
    "ecg_files = glob(data_dir+\"*.edf\", recursive=False)"
   ]
  },
  {
   "cell_type": "code",
   "execution_count": 12,
   "metadata": {},
   "outputs": [],
   "source": [
    "bcg_files.sort()\n",
    "ecg_files.sort()"
   ]
  },
  {
   "cell_type": "code",
   "execution_count": null,
   "metadata": {},
   "outputs": [],
   "source": []
  },
  {
   "cell_type": "code",
   "execution_count": 15,
   "metadata": {},
   "outputs": [],
   "source": [
    "from bcg import load_bcg\n",
    "import findpeaks3\n",
    "import autopeaks\n",
    "import pdb\n",
    "from findpeaks3 import transform_signal_by_energy\n",
    "\n",
    "def findpeaks_in_bcg_resp(signal):\n",
    "    fs = 500\n",
    "    min_dist = int(2*fs)\n",
    "    buffer_size = 15*fs\n",
    "    bcg_auto_peaks = autopeaks.AutoPeaks(thres=0.65,min_dist=min_dist,buffer_size=buffer_size)\n",
    "    list(map(bcg_auto_peaks.findpeaks, signal))\n",
    "    return bcg_auto_peaks.peak_indexes, bcg_auto_peaks.peak_values\n",
    "\n",
    "def findpeaks_in_ecg_resp(signal):\n",
    "    fs = 500\n",
    "    min_dist = int(0.6*3*fs)\n",
    "    buffer_size = 10*fs\n",
    "    ecg_auto_peaks = autopeaks.AutoPeaks(thres=0.7,min_dist=min_dist,buffer_size=buffer_size)\n",
    "    list(map(ecg_auto_peaks.findpeaks, signal))\n",
    "    return ecg_auto_peaks.peak_indexes, ecg_auto_peaks.peak_values\n",
    "\n",
    "def findpeaks_for_bcg_and_ecg(bcg_file, ecg_file, offset=0, is_return=False):\n",
    "    if offset >= 0:\n",
    "        bcg_offset = offset\n",
    "    else:\n",
    "        bcg_offset = 0\n",
    "    bcg = load_bcg(bcg_file, offset=bcg_offset,resp=True)\n",
    "    bcg = np.asarray(bcg)\n",
    "    window_size = 1.5\n",
    "    bcg = transform_signal_by_energy(bcg,window_size=window_size,fs=500)\n",
    "    bcg = bcg / 10000000\n",
    "    bcg -= np.median(bcg)\n",
    "    ecg = load_ecg(ecg_file, resp=True)\n",
    "    ecg = np.asarray(ecg)\n",
    "    ecg = ecg / 100\n",
    "    ecg -= np.median(ecg)\n",
    "    if offset < 0:\n",
    "        ecg = ecg[-offset:]\n",
    "    #print(bcg[:100])\n",
    "    start = 100000\n",
    "    end = start + 400000\n",
    "    #bcg = bcg[start:end]\n",
    "    #ecg = ecg[start:end]\n",
    "    bcg_peak_indices, bcg_peak_values = findpeaks_in_bcg_resp(np.asarray(bcg))\n",
    "    ecg_peak_indices, ecg_peak_values = findpeaks_in_ecg_resp(ecg)\n",
    "    if True:\n",
    "        plot(go.Figure(data=[go.Scatter(x=bcg_peak_indices[1:],\n",
    "                                        y=30000/np.diff(bcg_peak_indices),  \n",
    "                                        mode=\"lines+markers\",\n",
    "                                        name=\"bcg_resp_intervals\",\n",
    "                                        marker=dict(color=\"blue\")),\n",
    "                             go.Scatter(x=ecg_peak_indices[1:], \n",
    "                                        y=30000/np.diff(ecg_peak_indices), \n",
    "                                        mode=\"lines+markers\", \n",
    "                                        name=\"ecg_intervals\",\n",
    "                                        marker=dict(color=\"green\")),\n",
    "                             go.Scatter(x=ecg_peak_indices[1:], \n",
    "                                        y=30000/np.diff(ecg_peak_indices) + 3, \n",
    "                                        mode=\"lines+markers\", \n",
    "                                        name=\"ecg_intervals_upper\",\n",
    "                                        marker=dict(color=\"black\")),\n",
    "                             go.Scatter(x=ecg_peak_indices[1:], \n",
    "                                        y=30000/np.diff(ecg_peak_indices) - 3, \n",
    "                                        mode=\"lines+markers\", \n",
    "                                        name=\"ecg_intervals_lower\",\n",
    "                                        marker=dict(color=\"black\")),],\n",
    "                       layout=go.Layout(yaxis=dict(range=[3,30]))),filename=bcg_file+str(window_size))\n",
    "    if True:\n",
    "        plot([go.Scatter(y=bcg, name=\"bcg\"),\n",
    "              go.Scatter(x=bcg_peak_indices, y=bcg_peak_values, mode=\"markers\", name=\"bcg resp interval\"),\n",
    "              go.Scatter(y=ecg, name=\"ecg\"),\n",
    "              go.Scatter(x=ecg_peak_indices, y=ecg_peak_values, mode=\"markers\",name=\"ecg resp interval\")],filename=\"resp rate\")"
   ]
  },
  {
   "cell_type": "code",
   "execution_count": 16,
   "metadata": {},
   "outputs": [
    {
     "name": "stdout",
     "output_type": "stream",
     "text": [
      "/home/guo/physio/BCG_data/bcg_ecg_data/bcg_ecg_data(500HZ)/glt_bcg_wave(500HZ)(03-15 142141).txt\n",
      "offset: 75590\n"
     ]
    },
    {
     "name": "stderr",
     "output_type": "stream",
     "text": [
      "/home/guo/anaconda3/lib/python3.6/site-packages/scipy/signal/signaltools.py:2383: FutureWarning:\n",
      "\n",
      "Using a non-tuple sequence for multidimensional indexing is deprecated; use `arr[tuple(seq)]` instead of `arr[seq]`. In the future this will be interpreted as an array index, `arr[np.array(seq)]`, which will result either in an error or a different result.\n",
      "\n",
      "/home/guo/anaconda3/lib/python3.6/site-packages/plotly/offline/offline.py:451: UserWarning:\n",
      "\n",
      "Your filename `/home/guo/physio/BCG_data/bcg_ecg_data/bcg_ecg_data(500HZ)/glt_bcg_wave(500HZ)(03-15 142141).txt1.5` didn't end with .html. Adding .html to the end of your file.\n",
      "\n",
      "/home/guo/anaconda3/lib/python3.6/site-packages/plotly/offline/offline.py:451: UserWarning:\n",
      "\n",
      "Your filename `resp rate` didn't end with .html. Adding .html to the end of your file.\n",
      "\n"
     ]
    },
    {
     "name": "stdout",
     "output_type": "stream",
     "text": [
      "/home/guo/physio/BCG_data/bcg_ecg_data/bcg_ecg_data(500HZ)/hwm_bcg_wave(500HZ)(03-15 200629).txt\n",
      "offset: 75784\n"
     ]
    },
    {
     "name": "stderr",
     "output_type": "stream",
     "text": [
      "/home/guo/anaconda3/lib/python3.6/site-packages/scipy/signal/signaltools.py:2383: FutureWarning:\n",
      "\n",
      "Using a non-tuple sequence for multidimensional indexing is deprecated; use `arr[tuple(seq)]` instead of `arr[seq]`. In the future this will be interpreted as an array index, `arr[np.array(seq)]`, which will result either in an error or a different result.\n",
      "\n",
      "/home/guo/anaconda3/lib/python3.6/site-packages/plotly/offline/offline.py:451: UserWarning:\n",
      "\n",
      "Your filename `/home/guo/physio/BCG_data/bcg_ecg_data/bcg_ecg_data(500HZ)/hwm_bcg_wave(500HZ)(03-15 200629).txt1.5` didn't end with .html. Adding .html to the end of your file.\n",
      "\n",
      "/home/guo/anaconda3/lib/python3.6/site-packages/plotly/offline/offline.py:451: UserWarning:\n",
      "\n",
      "Your filename `resp rate` didn't end with .html. Adding .html to the end of your file.\n",
      "\n"
     ]
    },
    {
     "name": "stdout",
     "output_type": "stream",
     "text": [
      "/home/guo/physio/BCG_data/bcg_ecg_data/bcg_ecg_data(500HZ)/lcc_bcg_wave(500HZ)(03-15 141708).txt\n",
      "offset: 68277\n"
     ]
    },
    {
     "name": "stderr",
     "output_type": "stream",
     "text": [
      "/home/guo/anaconda3/lib/python3.6/site-packages/scipy/signal/signaltools.py:2383: FutureWarning:\n",
      "\n",
      "Using a non-tuple sequence for multidimensional indexing is deprecated; use `arr[tuple(seq)]` instead of `arr[seq]`. In the future this will be interpreted as an array index, `arr[np.array(seq)]`, which will result either in an error or a different result.\n",
      "\n",
      "/home/guo/anaconda3/lib/python3.6/site-packages/plotly/offline/offline.py:451: UserWarning:\n",
      "\n",
      "Your filename `/home/guo/physio/BCG_data/bcg_ecg_data/bcg_ecg_data(500HZ)/lcc_bcg_wave(500HZ)(03-15 141708).txt1.5` didn't end with .html. Adding .html to the end of your file.\n",
      "\n",
      "/home/guo/anaconda3/lib/python3.6/site-packages/plotly/offline/offline.py:451: UserWarning:\n",
      "\n",
      "Your filename `resp rate` didn't end with .html. Adding .html to the end of your file.\n",
      "\n"
     ]
    },
    {
     "name": "stdout",
     "output_type": "stream",
     "text": [
      "/home/guo/physio/BCG_data/bcg_ecg_data/bcg_ecg_data(500HZ)/lifeng_bcg_wave(500HZ)(05-10 160458).txt\n",
      "offset: 68925\n"
     ]
    },
    {
     "name": "stderr",
     "output_type": "stream",
     "text": [
      "/home/guo/anaconda3/lib/python3.6/site-packages/scipy/signal/signaltools.py:2383: FutureWarning:\n",
      "\n",
      "Using a non-tuple sequence for multidimensional indexing is deprecated; use `arr[tuple(seq)]` instead of `arr[seq]`. In the future this will be interpreted as an array index, `arr[np.array(seq)]`, which will result either in an error or a different result.\n",
      "\n",
      "/home/guo/anaconda3/lib/python3.6/site-packages/plotly/offline/offline.py:451: UserWarning:\n",
      "\n",
      "Your filename `/home/guo/physio/BCG_data/bcg_ecg_data/bcg_ecg_data(500HZ)/lifeng_bcg_wave(500HZ)(05-10 160458).txt1.5` didn't end with .html. Adding .html to the end of your file.\n",
      "\n",
      "/home/guo/anaconda3/lib/python3.6/site-packages/plotly/offline/offline.py:451: UserWarning:\n",
      "\n",
      "Your filename `resp rate` didn't end with .html. Adding .html to the end of your file.\n",
      "\n"
     ]
    },
    {
     "name": "stdout",
     "output_type": "stream",
     "text": [
      "/home/guo/physio/BCG_data/bcg_ecg_data/bcg_ecg_data(500HZ)/wkp_bcg_wave(500HZ)(05-14 161520).txt\n",
      "offset: 5004\n"
     ]
    },
    {
     "name": "stderr",
     "output_type": "stream",
     "text": [
      "/home/guo/anaconda3/lib/python3.6/site-packages/scipy/signal/signaltools.py:2383: FutureWarning:\n",
      "\n",
      "Using a non-tuple sequence for multidimensional indexing is deprecated; use `arr[tuple(seq)]` instead of `arr[seq]`. In the future this will be interpreted as an array index, `arr[np.array(seq)]`, which will result either in an error or a different result.\n",
      "\n",
      "/home/guo/anaconda3/lib/python3.6/site-packages/plotly/offline/offline.py:451: UserWarning:\n",
      "\n",
      "Your filename `/home/guo/physio/BCG_data/bcg_ecg_data/bcg_ecg_data(500HZ)/wkp_bcg_wave(500HZ)(05-14 161520).txt1.5` didn't end with .html. Adding .html to the end of your file.\n",
      "\n",
      "/home/guo/anaconda3/lib/python3.6/site-packages/plotly/offline/offline.py:451: UserWarning:\n",
      "\n",
      "Your filename `resp rate` didn't end with .html. Adding .html to the end of your file.\n",
      "\n"
     ]
    },
    {
     "name": "stdout",
     "output_type": "stream",
     "text": [
      "/home/guo/physio/BCG_data/bcg_ecg_data/bcg_ecg_data(500HZ)/wsx_bcg_wave(500HZ).txt\n",
      "offset: 0\n"
     ]
    },
    {
     "name": "stderr",
     "output_type": "stream",
     "text": [
      "/home/guo/anaconda3/lib/python3.6/site-packages/scipy/signal/signaltools.py:2383: FutureWarning:\n",
      "\n",
      "Using a non-tuple sequence for multidimensional indexing is deprecated; use `arr[tuple(seq)]` instead of `arr[seq]`. In the future this will be interpreted as an array index, `arr[np.array(seq)]`, which will result either in an error or a different result.\n",
      "\n",
      "/home/guo/anaconda3/lib/python3.6/site-packages/plotly/offline/offline.py:451: UserWarning:\n",
      "\n",
      "Your filename `/home/guo/physio/BCG_data/bcg_ecg_data/bcg_ecg_data(500HZ)/wsx_bcg_wave(500HZ).txt1.5` didn't end with .html. Adding .html to the end of your file.\n",
      "\n",
      "/home/guo/anaconda3/lib/python3.6/site-packages/plotly/offline/offline.py:451: UserWarning:\n",
      "\n",
      "Your filename `resp rate` didn't end with .html. Adding .html to the end of your file.\n",
      "\n"
     ]
    },
    {
     "name": "stdout",
     "output_type": "stream",
     "text": [
      "/home/guo/physio/BCG_data/bcg_ecg_data/bcg_ecg_data(500HZ)/yjj_bcg_wave(500HZ)(03-15 145935).txt\n",
      "offset: 39162\n"
     ]
    },
    {
     "name": "stderr",
     "output_type": "stream",
     "text": [
      "/home/guo/anaconda3/lib/python3.6/site-packages/scipy/signal/signaltools.py:2383: FutureWarning:\n",
      "\n",
      "Using a non-tuple sequence for multidimensional indexing is deprecated; use `arr[tuple(seq)]` instead of `arr[seq]`. In the future this will be interpreted as an array index, `arr[np.array(seq)]`, which will result either in an error or a different result.\n",
      "\n",
      "/home/guo/anaconda3/lib/python3.6/site-packages/plotly/offline/offline.py:451: UserWarning:\n",
      "\n",
      "Your filename `/home/guo/physio/BCG_data/bcg_ecg_data/bcg_ecg_data(500HZ)/yjj_bcg_wave(500HZ)(03-15 145935).txt1.5` didn't end with .html. Adding .html to the end of your file.\n",
      "\n",
      "/home/guo/anaconda3/lib/python3.6/site-packages/plotly/offline/offline.py:451: UserWarning:\n",
      "\n",
      "Your filename `resp rate` didn't end with .html. Adding .html to the end of your file.\n",
      "\n"
     ]
    },
    {
     "name": "stdout",
     "output_type": "stream",
     "text": [
      "/home/guo/physio/BCG_data/bcg_ecg_data/bcg_ecg_data(500HZ)/zcj_bcg_wave(500HZ)(03-15 154123).txt\n",
      "offset: -10065\n"
     ]
    },
    {
     "name": "stderr",
     "output_type": "stream",
     "text": [
      "/home/guo/anaconda3/lib/python3.6/site-packages/scipy/signal/signaltools.py:2383: FutureWarning:\n",
      "\n",
      "Using a non-tuple sequence for multidimensional indexing is deprecated; use `arr[tuple(seq)]` instead of `arr[seq]`. In the future this will be interpreted as an array index, `arr[np.array(seq)]`, which will result either in an error or a different result.\n",
      "\n",
      "/home/guo/anaconda3/lib/python3.6/site-packages/plotly/offline/offline.py:451: UserWarning:\n",
      "\n",
      "Your filename `/home/guo/physio/BCG_data/bcg_ecg_data/bcg_ecg_data(500HZ)/zcj_bcg_wave(500HZ)(03-15 154123).txt1.5` didn't end with .html. Adding .html to the end of your file.\n",
      "\n",
      "/home/guo/anaconda3/lib/python3.6/site-packages/plotly/offline/offline.py:451: UserWarning:\n",
      "\n",
      "Your filename `resp rate` didn't end with .html. Adding .html to the end of your file.\n",
      "\n"
     ]
    },
    {
     "name": "stdout",
     "output_type": "stream",
     "text": [
      "/home/guo/physio/BCG_data/bcg_ecg_data/bcg_ecg_data(500HZ)/zyh_bcg_wave(500HZ)(05-10 132226).txt\n",
      "offset: 285417\n"
     ]
    },
    {
     "name": "stderr",
     "output_type": "stream",
     "text": [
      "/home/guo/anaconda3/lib/python3.6/site-packages/scipy/signal/signaltools.py:2383: FutureWarning:\n",
      "\n",
      "Using a non-tuple sequence for multidimensional indexing is deprecated; use `arr[tuple(seq)]` instead of `arr[seq]`. In the future this will be interpreted as an array index, `arr[np.array(seq)]`, which will result either in an error or a different result.\n",
      "\n",
      "/home/guo/anaconda3/lib/python3.6/site-packages/plotly/offline/offline.py:451: UserWarning:\n",
      "\n",
      "Your filename `/home/guo/physio/BCG_data/bcg_ecg_data/bcg_ecg_data(500HZ)/zyh_bcg_wave(500HZ)(05-10 132226).txt1.5` didn't end with .html. Adding .html to the end of your file.\n",
      "\n",
      "/home/guo/anaconda3/lib/python3.6/site-packages/plotly/offline/offline.py:451: UserWarning:\n",
      "\n",
      "Your filename `resp rate` didn't end with .html. Adding .html to the end of your file.\n",
      "\n"
     ]
    }
   ],
   "source": [
    "import time\n",
    "\n",
    "\n",
    "def get_bcg_resp_offset(bcg_file):\n",
    "    offset = 0\n",
    "    if \"yjj\" in bcg_file:\n",
    "        offset = 39558-396\n",
    "    elif \"glt\" in bcg_file:\n",
    "        offset = 36621 + 39421 - 116 - 336\n",
    "    elif \"hwm\" in bcg_file:\n",
    "        offset = 1000 + 74953 - 169\n",
    "    elif \"lcc\" in bcg_file:\n",
    "        offset = 60000 + 8287 - 10\n",
    "    elif \"lifeng\" in bcg_file:\n",
    "        offset = 90000 - 25471 + 4396\n",
    "    elif \"zyh\" in bcg_file:\n",
    "        offset = 300000 - 14583\n",
    "    elif \"zcj\" in bcg_file:\n",
    "        offset = -10235 + 170\n",
    "    elif \"wkp\" in bcg_file:\n",
    "        offset = 5004\n",
    "    return offset\n",
    "\n",
    "\n",
    "for bcg_file,ecg_file in zip(bcg_files, ecg_files):\n",
    "    if \"lifeng\" not in bcg_file:\n",
    "        continue\n",
    "    print(bcg_file)\n",
    "    offset = get_bcg_resp_offset(bcg_file)\n",
    "    print(\"offset: {}\".format(offset))\n",
    "    findpeaks_for_bcg_and_ecg(bcg_file, ecg_file, offset=offset)"
   ]
  },
  {
   "cell_type": "code",
   "execution_count": 47,
   "metadata": {},
   "outputs": [
    {
     "name": "stdout",
     "output_type": "stream",
     "text": [
      "/home/guo/physio/BCG_data/bcg_ecg_data/bcg_ecg_data(500HZ)/glt_bcg_wave(500HZ)(03-15 142141).txt\n"
     ]
    },
    {
     "name": "stderr",
     "output_type": "stream",
     "text": [
      "/home/guo/anaconda3/lib/python3.6/site-packages/scipy/signal/signaltools.py:2383: FutureWarning:\n",
      "\n",
      "Using a non-tuple sequence for multidimensional indexing is deprecated; use `arr[tuple(seq)]` instead of `arr[seq]`. In the future this will be interpreted as an array index, `arr[np.array(seq)]`, which will result either in an error or a different result.\n",
      "\n"
     ]
    },
    {
     "name": "stdout",
     "output_type": "stream",
     "text": [
      "99251\n"
     ]
    }
   ],
   "source": [
    "for bcg_file,ecg_file in zip(bcg_files, ecg_files):\n",
    "    if \"glt\" not in bcg_file:\n",
    "        continue\n",
    "    print(bcg_file)\n",
    "    offset = get_bcg_resp_offset(bcg_file)\n",
    "    signal = load_bcg(bcg_file, offset=offset)\n",
    "    start = 100000\n",
    "    end = start + 100000\n",
    "    signal = signal[start:end]  \n",
    "    signal_low = lowpass_filter(signal, fs=500)\n",
    "    signal_med15 = medfilt(signal, kernel_size=51)\n",
    "    signal_med15_low = lowpass_filter(signal_med15, fs=500)\n",
    "    \n",
    "    ecg = load_ecg(ecg_file, resp=True)\n",
    "    ecg = ecg[start:end]\n",
    "    ecg = ecg - np.median(ecg)\n",
    "    ecg = np.asarray(ecg) / 10\n",
    "    \n",
    "    def get_signal_energy(signal_low, std=1000000):\n",
    "        signal_low_energy = transform_signal_by_energy(signal_low, window_size=1.5,fs=500)\n",
    "        signal_low_energy -= np.median(signal_low_energy)\n",
    "        signal_low_energy /= 500\n",
    "        return signal_low_energy\n",
    "    \n",
    "    signal_low_energy = get_signal_energy(signal_low)\n",
    "    signal_med15_low_energy = get_signal_energy(signal_med15_low)\n",
    "    print(len(signal_low_energy))\n",
    "    plot([go.Scatter(y=signal, name=\"signal\"),\n",
    "          go.Scatter(y=signal_low, name=\"signal_low\"),\n",
    "          go.Scatter(y=signal_low_energy, name=\"signal_low_engery\"),\n",
    "          go.Scatter(y=signal_med15, name=\"signal_med15\"),\n",
    "          go.Scatter(y=signal_med15_low, name=\"signal_med15_low\"),\n",
    "          go.Scatter(y=signal_med15_low_energy, name=\"signal_med15_low_engery\"),\n",
    "          go.Scatter(y=ecg, name=\"ecg\"),])"
   ]
  },
  {
   "cell_type": "code",
   "execution_count": 28,
   "metadata": {},
   "outputs": [],
   "source": [
    "from fs import lowpass_filter"
   ]
  },
  {
   "cell_type": "code",
   "execution_count": 34,
   "metadata": {},
   "outputs": [],
   "source": [
    "from findpeaks3 import transform_signal_by_energy"
   ]
  },
  {
   "cell_type": "code",
   "execution_count": null,
   "metadata": {},
   "outputs": [],
   "source": []
  }
 ],
 "metadata": {
  "kernelspec": {
   "display_name": "Python 3",
   "language": "python",
   "name": "python3"
  },
  "language_info": {
   "codemirror_mode": {
    "name": "ipython",
    "version": 3
   },
   "file_extension": ".py",
   "mimetype": "text/x-python",
   "name": "python",
   "nbconvert_exporter": "python",
   "pygments_lexer": "ipython3",
   "version": "3.6.6"
  }
 },
 "nbformat": 4,
 "nbformat_minor": 2
}
