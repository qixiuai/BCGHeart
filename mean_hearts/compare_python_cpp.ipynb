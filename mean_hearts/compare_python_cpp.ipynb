{
 "cells": [
  {
   "cell_type": "code",
   "execution_count": 1,
   "metadata": {},
   "outputs": [],
   "source": [
    "import numpy as np\n",
    "from glob import glob\n",
    "from bcg import load_bcg\n",
    "from fs import load_ecg\n",
    "import plotly.graph_objs as go\n",
    "from plotly.offline import plot"
   ]
  },
  {
   "cell_type": "code",
   "execution_count": 2,
   "metadata": {},
   "outputs": [],
   "source": [
    "%load_ext autoreload\n",
    "%autoreload 2"
   ]
  },
  {
   "cell_type": "code",
   "execution_count": 3,
   "metadata": {},
   "outputs": [],
   "source": [
    "data_dir = \"/home/guo/physio/BCG_data/bcg_ecg_data/bcg_ecg_data(-bcg_wave500HZ)/\""
   ]
  },
  {
   "cell_type": "code",
   "execution_count": 4,
   "metadata": {},
   "outputs": [],
   "source": [
    "bcg_files = glob(data_dir+\"*.txt\", recursive=False)\n",
    "ecg_files = glob(data_dir+\"*.edf\", recursive=False)\n",
    "bcg_files.sort()\n",
    "ecg_files.sort()"
   ]
  },
  {
   "cell_type": "code",
   "execution_count": 7,
   "metadata": {},
   "outputs": [
    {
     "name": "stdout",
     "output_type": "stream",
     "text": [
      "/home/guo/physio/BCG_data/bcg_ecg_data/bcg_ecg_data(-bcg_wave500HZ)/yjj_bcg_wave(500HZ)(03-15 145935).txt\n",
      "offset: 39162\n"
     ]
    }
   ],
   "source": [
    "import time\n",
    "import os\n",
    "import fs\n",
    "from bcg import load_bcg\n",
    "def get_bcg_offset(bcg_file):\n",
    "    offset = 0\n",
    "    if \"yjj\" in bcg_file:\n",
    "        offset = 39558-396\n",
    "    elif \"glt\" in bcg_file:\n",
    "        offset = 36621 + 39421 - 116\n",
    "    elif \"hwm\" in bcg_file:\n",
    "        offset = 1000 + 74953 - 169\n",
    "    elif \"lcc\" in bcg_file:\n",
    "        offset = 60000 + 8287 - 10\n",
    "    elif \"lifeng\" in bcg_file:\n",
    "        offset = 90000 - 25471 + 4396\n",
    "    elif \"zyh\" in bcg_file:\n",
    "        offset = 300000 - 14583\n",
    "    elif \"zcj\" in bcg_file:\n",
    "        offset = -10235 + 170\n",
    "    elif \"wkp\" in bcg_file:\n",
    "        offset = 5004\n",
    "    return offset\n",
    "\n",
    "for bcg_file, ecg_file in zip(bcg_files, ecg_files):\n",
    "    if \"yjj\" not in bcg_file:\n",
    "        continue\n",
    "    print(bcg_file)\n",
    "    offset = get_bcg_offset(bcg_file)\n",
    "    print(\"offset: {}\".format(offset))\n",
    "    raw_bcg = load_bcg(bcg_file, filter=False, notch=False, resp=False)"
   ]
  },
  {
   "cell_type": "code",
   "execution_count": 9,
   "metadata": {},
   "outputs": [],
   "source": [
    "np.savetxt(\"../embedding/raw_bcg.txt\", raw_bcg, delimiter=',')"
   ]
  },
  {
   "cell_type": "code",
   "execution_count": 11,
   "metadata": {},
   "outputs": [
    {
     "data": {
      "text/plain": [
       "1375000"
      ]
     },
     "execution_count": 11,
     "metadata": {},
     "output_type": "execute_result"
    }
   ],
   "source": [
    "len(raw_bcg)"
   ]
  },
  {
   "cell_type": "code",
   "execution_count": null,
   "metadata": {},
   "outputs": [],
   "source": []
  }
 ],
 "metadata": {
  "kernelspec": {
   "display_name": "Python 3",
   "language": "python",
   "name": "python3"
  },
  "language_info": {
   "codemirror_mode": {
    "name": "ipython",
    "version": 3
   },
   "file_extension": ".py",
   "mimetype": "text/x-python",
   "name": "python",
   "nbconvert_exporter": "python",
   "pygments_lexer": "ipython3",
   "version": "3.6.8"
  }
 },
 "nbformat": 4,
 "nbformat_minor": 2
}
